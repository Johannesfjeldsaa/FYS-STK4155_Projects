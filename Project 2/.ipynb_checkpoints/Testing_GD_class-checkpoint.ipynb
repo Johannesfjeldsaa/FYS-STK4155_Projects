{
 "cells": [
  {
   "cell_type": "code",
   "execution_count": 1,
   "id": "1d3b7bd0",
   "metadata": {},
   "outputs": [],
   "source": [
    "from GD_class import GradientDescent\n",
    "import autograd.numpy as np"
   ]
  },
  {
   "cell_type": "code",
   "execution_count": 2,
   "id": "3adc8241",
   "metadata": {},
   "outputs": [],
   "source": [
    "def make_design_matrix(x, degree):\n",
    "    \"Creates the design matrix for the given polynomial degree and input data\"\n",
    "    \n",
    "    X = np.zeros((len(x), degree+1))\n",
    "    \n",
    "    for i in range(X.shape[1]):\n",
    "        X[:,i] = np.power(x, i)\n",
    "        \n",
    "    return X\n",
    "\n",
    "def cost_function_OLS(X, y, beta):\n",
    "    return (1.0/n)*np.sum((y-X.dot(beta))**2)\n",
    "\n",
    "def analytical_gradient(X, y, beta):\n",
    "    return (2.0/n)*np.dot(X.T, ((np.dot(X,beta))-y))\n",
    "    \n",
    "\n",
    "true_beta = [2, 0.5, 3.2]\n",
    "\n",
    "n = 100\n",
    "\n",
    "x = np.linspace(0, 1, n)\n",
    "y = np.sum(np.asarray([x ** p * b for p, b in enumerate(true_beta)]),\n",
    "                axis=0) + 0.1 * np.random.normal(size=len(x))\n",
    "\n",
    "# Making a design matrix to use for linear regression part\n",
    "degree = 2\n",
    "X = make_design_matrix(x, degree)"
   ]
  },
  {
   "cell_type": "code",
   "execution_count": 9,
   "id": "dacdcadc",
   "metadata": {},
   "outputs": [],
   "source": [
    "learning_rate = 0.1\n",
    "tol=1e-3\n",
    "beta_guess = np.random.rand(3)\n"
   ]
  },
  {
   "cell_type": "code",
   "execution_count": 29,
   "id": "4d64870a",
   "metadata": {},
   "outputs": [
    {
     "data": {
      "text/plain": [
       "array([-5.35380067, -3.19965551, -2.34540333])"
      ]
     },
     "execution_count": 29,
     "metadata": {},
     "output_type": "execute_result"
    }
   ],
   "source": [
    "grad_descent = GradientDescent(X, y, learning_rate, tol, cost_function_OLS)\n",
    "grad_descent.cost_gradient(X, y, beta_guess)"
   ]
  },
  {
   "cell_type": "code",
   "execution_count": 32,
   "id": "226d736b",
   "metadata": {},
   "outputs": [
    {
     "data": {
      "text/plain": [
       "array([-5.35380067, -3.19965551, -2.34540333])"
      ]
     },
     "execution_count": 32,
     "metadata": {},
     "output_type": "execute_result"
    }
   ],
   "source": [
    "grad_descent = GradientDescent(X, y, learning_rate, tol, cost_function_OLS, analytic_gradient=analytical_gradient)\n",
    "grad_descent.cost_gradient(X, y, beta_guess)"
   ]
  },
  {
   "cell_type": "code",
   "execution_count": null,
   "id": "48fd649c",
   "metadata": {},
   "outputs": [],
   "source": []
  },
  {
   "cell_type": "code",
   "execution_count": 10,
   "id": "44fe763a",
   "metadata": {},
   "outputs": [
    {
     "name": "stdout",
     "output_type": "stream",
     "text": [
      "Converged after 3719 iterations\n"
     ]
    }
   ],
   "source": [
    "grad_descent = GradientDescent(X, y, learning_rate, tol, cost_function_OLS, analytic_gradient=analytical_gradient)\n",
    "max_iter = 100000\n",
    "beta_calculated = grad_descent.iterate(0.1, max_iter)"
   ]
  },
  {
   "cell_type": "code",
   "execution_count": 11,
   "id": "4db1ede3",
   "metadata": {},
   "outputs": [
    {
     "name": "stdout",
     "output_type": "stream",
     "text": [
      "[1.94935367 0.70470506 3.03308441]\n"
     ]
    }
   ],
   "source": [
    "print(beta_calculated)"
   ]
  },
  {
   "cell_type": "code",
   "execution_count": null,
   "id": "53e51284",
   "metadata": {},
   "outputs": [],
   "source": []
  }
 ],
 "metadata": {
  "kernelspec": {
   "display_name": "Python 3 (ipykernel)",
   "language": "python",
   "name": "python3"
  },
  "language_info": {
   "codemirror_mode": {
    "name": "ipython",
    "version": 3
   },
   "file_extension": ".py",
   "mimetype": "text/x-python",
   "name": "python",
   "nbconvert_exporter": "python",
   "pygments_lexer": "ipython3",
   "version": "3.10.12"
  }
 },
 "nbformat": 4,
 "nbformat_minor": 5
}
