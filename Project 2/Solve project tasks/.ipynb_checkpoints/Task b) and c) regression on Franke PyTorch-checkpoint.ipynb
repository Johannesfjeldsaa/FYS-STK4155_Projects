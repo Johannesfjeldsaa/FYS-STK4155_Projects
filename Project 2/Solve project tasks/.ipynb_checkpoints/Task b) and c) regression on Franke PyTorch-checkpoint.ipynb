{
 "cells": [
  {
   "cell_type": "markdown",
   "id": "56f38f0dcdf97724",
   "metadata": {},
   "source": [
    "# NN Regression on Franke Function using Pytorch "
   ]
  },
  {
   "cell_type": "markdown",
   "id": "b77bc5535d58a8fa",
   "metadata": {},
   "source": [
    "#### Import libraries"
   ]
  },
  {
   "cell_type": "code",
   "execution_count": 1,
   "id": "initial_id",
   "metadata": {
    "ExecuteTime": {
     "end_time": "2023-11-13T09:26:23.964616300Z",
     "start_time": "2023-11-13T09:26:23.961378700Z"
    },
    "collapsed": true
   },
   "outputs": [],
   "source": [
    "import sys\n",
    "import os\n",
    "\n",
    "# Add the 'src' directory to the Python path\n",
    "src_dir = os.path.join(os.path.dirname(os.getcwd()), 'src')\n",
    "sys.path.append(src_dir)"
   ]
  },
  {
   "cell_type": "code",
   "execution_count": 2,
   "id": "66ae3b87ef963254",
   "metadata": {
    "ExecuteTime": {
     "end_time": "2023-11-13T09:27:50.081151Z",
     "start_time": "2023-11-13T09:27:43.921619500Z"
    }
   },
   "outputs": [],
   "source": [
    "import torch\n",
    "\n",
    "import matplotlib.pyplot as plt\n",
    "import seaborn as sns\n",
    "\n",
    "import numpy as np\n",
    "\n",
    "from torch import nn, optim, tensor\n",
    "from Neural_Network_with_PyTorch import Neural_Network_PyTorch\n",
    "\n",
    "from sklearn.model_selection import train_test_split, KFold\n",
    "from sklearn.metrics import r2_score, mean_squared_error\n",
    "from sklearn import linear_model\n",
    "\n",
    "from tqdm import tqdm\n",
    "from copy import deepcopy\n",
    "\n",
    "seed = 1234\n",
    "torch.manual_seed(seed)\n",
    "np.random.seed(seed)"
   ]
  },
  {
   "cell_type": "markdown",
   "id": "8ec8566c7e016202",
   "metadata": {},
   "source": [
    "## Create Data"
   ]
  },
  {
   "cell_type": "code",
   "execution_count": 3,
   "id": "3eaeb63ce77c9151",
   "metadata": {
    "ExecuteTime": {
     "end_time": "2023-11-13T09:52:26.897366100Z",
     "start_time": "2023-11-13T09:52:26.879212Z"
    }
   },
   "outputs": [],
   "source": [
    "def FrankeFunction(x,y):\n",
    "    \n",
    "    term1 = 0.75*np.exp(-(0.25*(9*x-2)**2) - 0.25*((9*y-2)**2))\n",
    "    term2 = 0.75*np.exp(-((9*x+1)**2)/49.0 - 0.1*(9*y+1))\n",
    "    term3 = 0.5*np.exp(-(9*x-7)**2/4.0 - 0.25*((9*y-3)**2))\n",
    "    term4 = -0.2*np.exp(-(9*x-4)**2 - (9*y-7)**2)\n",
    "    return term1 + term2 + term3 + term4"
   ]
  },
  {
   "cell_type": "code",
   "execution_count": 73,
   "id": "72cbbb2a680cbba0",
   "metadata": {
    "ExecuteTime": {
     "end_time": "2023-11-13T10:55:02.437350300Z",
     "start_time": "2023-11-13T10:55:02.417211400Z"
    }
   },
   "outputs": [],
   "source": [
    "N = 1000\n",
    "x = np.random.uniform(0, 1, N)\n",
    "y = np.random.uniform(0, 1, N)\n",
    "\n",
    "# Franke function with added noise:\n",
    "z = FrankeFunction(x, y) + np.random.normal(0, 0.1, x.shape)\n",
    "target = torch.tensor(z).reshape(len(z), 1).float()\n",
    "\n",
    "# Making the design matrix:\n",
    "X = torch.from_numpy(np.stack((x, y), axis=-1)).float()\n",
    "\n",
    "# Splitting the data into training and test set:\n",
    "test_size = 0.2\n",
    "X_train, X_test, target_train, target_test = train_test_split(X, target, test_size=test_size)"
   ]
  },
  {
   "cell_type": "markdown",
   "id": "2c504909e5b082b5",
   "metadata": {},
   "source": [
    "## Tune model using K-fold cross validation"
   ]
  },
  {
   "cell_type": "code",
   "execution_count": 74,
   "id": "69910daada0883ad",
   "metadata": {
    "ExecuteTime": {
     "end_time": "2023-11-13T10:55:04.545065800Z",
     "start_time": "2023-11-13T10:55:04.528132900Z"
    }
   },
   "outputs": [],
   "source": [
    "def train_with_crossval(train_X, train_target, \n",
    "                        n_features, n_hidden_layers, n_hidden_nodes, n_outputs, \n",
    "                        activation_hidden, \n",
    "                        learning_rate, l2_reg, \n",
    "                        num_epochs, n_minibatches):\n",
    "    torch.manual_seed(1234)\n",
    "    kf = KFold(n_splits=5, shuffle=True, random_state=seed)\n",
    "    # Initialize the evaluation metrices\n",
    "    mse_crossval = []\n",
    "    r2_crossval = []\n",
    "    mse_train_crossval = []\n",
    "    r2_train_crossval = []\n",
    "    # Loop over the folds\n",
    "    for train_idx, val_idx in kf.split(train_X):\n",
    "        # Extract training and validation data\n",
    "        X_train, target_train = train_X[train_idx], train_target[train_idx]\n",
    "        X_val, target_val = train_X[val_idx], train_target[val_idx]\n",
    "        \n",
    "        # Create new network\n",
    "        ffnn = Neural_Network_PyTorch(n_features, \n",
    "                                      n_hidden_layers, n_hidden_nodes, \n",
    "                                      n_outputs, \n",
    "                                      activation_function_hidden_layers=activation_hidden, \n",
    "                                      activation_function_output_layer=None)\n",
    "        \n",
    "        # Loss function\n",
    "        criterion = nn.MSELoss()\n",
    "        # Optimizer\n",
    "        optimizer = optim.Adam(ffnn.parameters(), lr=learning_rate, weight_decay=l2_reg)\n",
    "        \n",
    "        # Train the network            \n",
    "        ffnn = ffnn.train_network(X_train, target_train, \n",
    "                                  optimizer, criterion,\n",
    "                                  num_iter=num_epochs, n_minibatches=n_minibatches)\n",
    "        # Evaluate the network\n",
    "        # Train performance\n",
    "        target_train_pred = ffnn.feed_forward(X_train)\n",
    "        mse_train_crossval.append(float(criterion(target_train_pred, target_train)))\n",
    "        r2_train_crossval.append(r2_score(target_train, target_train_pred.detach().numpy()))\n",
    "        # Validation performance\n",
    "        ffnn.eval() # set model in evaluation mode\n",
    "        with torch.no_grad(): # disable gradient computation\n",
    "            target_val_pred = ffnn.feed_forward(X_val)\n",
    "            mse_val_cv = float(criterion(target_val_pred, target_val))\n",
    "            mse_crossval.append(mse_val_cv)\n",
    "            r2_crossval.append(r2_score(target_val, target_val_pred))\n",
    "    \n",
    "    return ffnn, mse_crossval, r2_crossval, mse_train_crossval, r2_train_crossval"
   ]
  },
  {
   "cell_type": "markdown",
   "id": "c210967fe51851ca",
   "metadata": {},
   "source": [
    "### Initial tuning of learning rate"
   ]
  },
  {
   "cell_type": "markdown",
   "id": "a2b52a08bccab997",
   "metadata": {},
   "source": [
    "Define model"
   ]
  },
  {
   "cell_type": "code",
   "execution_count": 78,
   "id": "20a76932c26af83a",
   "metadata": {
    "ExecuteTime": {
     "end_time": "2023-11-13T10:58:22.730805500Z",
     "start_time": "2023-11-13T10:58:22.725286200Z"
    }
   },
   "outputs": [],
   "source": [
    "n_hidden_layers = 2\n",
    "n_hidden_nodes = 8\n",
    "n_outputs = 1\n",
    "n_features = X_train.shape[1]\n",
    "activation_hidden = \"sigmoid\"\n",
    "learning_rate_space = np.logspace(-4, 0, 5)\n",
    "lmbd = 0.0001\n",
    "n_epochs = 100\n",
    "n_minibatches = 16"
   ]
  },
  {
   "cell_type": "code",
   "execution_count": 79,
   "id": "c056d737cf42cd86",
   "metadata": {
    "ExecuteTime": {
     "end_time": "2023-11-13T10:59:16.317487600Z",
     "start_time": "2023-11-13T10:58:27.924717Z"
    }
   },
   "outputs": [
    {
     "name": "stdout",
     "output_type": "stream",
     "text": [
      "Learning rate: 0.0001\n",
      "<function Neural_Network_PyTorch.set_activation_function.<locals>.dummy at 0x000001AB2CDE0B80>\n",
      "<function Neural_Network_PyTorch.set_activation_function.<locals>.dummy at 0x000001AB396DAAC0>\n",
      "<function Neural_Network_PyTorch.set_activation_function.<locals>.dummy at 0x000001AB396DBB00>\n",
      "<function Neural_Network_PyTorch.set_activation_function.<locals>.dummy at 0x000001AB396DA980>\n",
      "<function Neural_Network_PyTorch.set_activation_function.<locals>.dummy at 0x000001AB396DAAC0>\n",
      "Learning rate: 0.001\n",
      "<function Neural_Network_PyTorch.set_activation_function.<locals>.dummy at 0x000001AB396D87C0>\n",
      "<function Neural_Network_PyTorch.set_activation_function.<locals>.dummy at 0x000001AB2CDE0B80>\n",
      "<function Neural_Network_PyTorch.set_activation_function.<locals>.dummy at 0x000001AB396DAFC0>\n",
      "<function Neural_Network_PyTorch.set_activation_function.<locals>.dummy at 0x000001AB396DB240>\n",
      "<function Neural_Network_PyTorch.set_activation_function.<locals>.dummy at 0x000001AB2CDE0B80>\n",
      "Learning rate: 0.01\n",
      "<function Neural_Network_PyTorch.set_activation_function.<locals>.dummy at 0x000001AB396DBB00>\n",
      "<function Neural_Network_PyTorch.set_activation_function.<locals>.dummy at 0x000001AB396DA980>\n",
      "<function Neural_Network_PyTorch.set_activation_function.<locals>.dummy at 0x000001AB396DB380>\n",
      "<function Neural_Network_PyTorch.set_activation_function.<locals>.dummy at 0x000001AB396DBB00>\n",
      "<function Neural_Network_PyTorch.set_activation_function.<locals>.dummy at 0x000001AB396DA980>\n",
      "Learning rate: 0.1\n",
      "<function Neural_Network_PyTorch.set_activation_function.<locals>.dummy at 0x000001AB396DB240>\n",
      "<function Neural_Network_PyTorch.set_activation_function.<locals>.dummy at 0x000001AB396D87C0>\n",
      "<function Neural_Network_PyTorch.set_activation_function.<locals>.dummy at 0x000001AB396DB240>\n",
      "<function Neural_Network_PyTorch.set_activation_function.<locals>.dummy at 0x000001AB396DB380>\n",
      "<function Neural_Network_PyTorch.set_activation_function.<locals>.dummy at 0x000001AB396D87C0>\n",
      "Learning rate: 1.0\n",
      "<function Neural_Network_PyTorch.set_activation_function.<locals>.dummy at 0x000001AB2CDE0B80>\n",
      "<function Neural_Network_PyTorch.set_activation_function.<locals>.dummy at 0x000001AB396DB240>\n",
      "<function Neural_Network_PyTorch.set_activation_function.<locals>.dummy at 0x000001AB2CDE0B80>\n",
      "<function Neural_Network_PyTorch.set_activation_function.<locals>.dummy at 0x000001AB396DAFC0>\n",
      "<function Neural_Network_PyTorch.set_activation_function.<locals>.dummy at 0x000001AB2CDE0B80>\n"
     ]
    }
   ],
   "source": [
    "# Initialize the evaluation metrices\n",
    "mse = np.zeros((len(learning_rate_space), 1))\n",
    "r2 = np.zeros((len(learning_rate_space), 1))\n",
    "mse_train = np.zeros((len(learning_rate_space), 1))\n",
    "r2_train = np.zeros((len(learning_rate_space), 1))\n",
    "for i, learning_rate in enumerate(learning_rate_space):\n",
    "    print(f\"Learning rate: {learning_rate}\")\n",
    "\n",
    "    (ffnn, \n",
    "    mse_crossval, \n",
    "    r2_crossval, \n",
    "    mse_train_crossval, \n",
    "    r2_train_crossval) = train_with_crossval(X_train, target_train, \n",
    "                        n_features, n_hidden_layers, n_hidden_nodes, n_outputs, \n",
    "                        activation_hidden, \n",
    "                        learning_rate, lmbd, \n",
    "                        n_epochs, n_minibatches)\n",
    "    \n",
    "    mse[i][0] = np.mean(mse_crossval)\n",
    "    r2[i][0] = np.mean(r2_crossval)\n",
    "    mse_train[i][0] = np.mean(mse_train_crossval)\n",
    "    r2_train[i][0] = np.mean(r2_train_crossval)"
   ]
  },
  {
   "cell_type": "code",
   "execution_count": 101,
   "id": "8c6f6f1cd175bf2e",
   "metadata": {
    "ExecuteTime": {
     "end_time": "2023-11-13T13:19:26.347095100Z",
     "start_time": "2023-11-13T13:19:26.308939600Z"
    }
   },
   "outputs": [
    {
     "ename": "IndexError",
     "evalue": "index 7 is out of bounds for axis 0 with size 5",
     "output_type": "error",
     "traceback": [
      "\u001b[1;31m---------------------------------------------------------------------------\u001b[0m",
      "\u001b[1;31mIndexError\u001b[0m                                Traceback (most recent call last)",
      "Cell \u001b[1;32mIn[101], line 5\u001b[0m\n\u001b[0;32m      3\u001b[0m best_r2_idx \u001b[38;5;241m=\u001b[39m np\u001b[38;5;241m.\u001b[39margmax(r2)\n\u001b[0;32m      4\u001b[0m best_mse_idx \u001b[38;5;241m=\u001b[39m np\u001b[38;5;241m.\u001b[39margmin(mse)\n\u001b[1;32m----> 5\u001b[0m \u001b[38;5;28mprint\u001b[39m(\u001b[38;5;124mf\u001b[39m\u001b[38;5;124m\"\u001b[39m\u001b[38;5;124mBest R2: \u001b[39m\u001b[38;5;132;01m{\u001b[39;00mbest_r2\u001b[38;5;132;01m:\u001b[39;00m\u001b[38;5;124m.4f\u001b[39m\u001b[38;5;132;01m}\u001b[39;00m\u001b[38;5;124m yielded by best learning rate: \u001b[39m\u001b[38;5;132;01m{\u001b[39;00mlearning_rate_space[best_r2_idx]\u001b[38;5;132;01m}\u001b[39;00m\u001b[38;5;124m\"\u001b[39m)\n\u001b[0;32m      6\u001b[0m \u001b[38;5;28mprint\u001b[39m(\u001b[38;5;124mf\u001b[39m\u001b[38;5;124m\"\u001b[39m\u001b[38;5;124mBest MSE: \u001b[39m\u001b[38;5;132;01m{\u001b[39;00mbest_mse\u001b[38;5;132;01m:\u001b[39;00m\u001b[38;5;124m.4f\u001b[39m\u001b[38;5;132;01m}\u001b[39;00m\u001b[38;5;124m yielded by best learning rate: \u001b[39m\u001b[38;5;132;01m{\u001b[39;00mlearning_rate_space[best_mse_idx]\u001b[38;5;132;01m}\u001b[39;00m\u001b[38;5;124m\"\u001b[39m)\n",
      "\u001b[1;31mIndexError\u001b[0m: index 7 is out of bounds for axis 0 with size 5"
     ]
    }
   ],
   "source": [
    "best_r2 = np.max(r2)\n",
    "best_mse = np.min(mse)\n",
    "best_r2_idx = np.argmax(r2)\n",
    "best_mse_idx = np.argmin(mse)\n",
    "print(f\"Best R2: {best_r2:.4f} yielded by best learning rate: {learning_rate_space[best_r2_idx]}\")\n",
    "print(f\"Best MSE: {best_mse:.4f} yielded by best learning rate: {learning_rate_space[best_mse_idx]}\")"
   ]
  },
  {
   "cell_type": "markdown",
   "id": "c03aca107581f537",
   "metadata": {},
   "source": []
  },
  {
   "cell_type": "markdown",
   "id": "a9619b5daf1b5656",
   "metadata": {},
   "source": [
    "We keep the best learning rate and tune the rest of the hyperparameters. We will retune the learning rate at the end."
   ]
  },
  {
   "cell_type": "markdown",
   "id": "bd228ab8974eb336",
   "metadata": {},
   "source": [
    "### Tune epochs and minibatches"
   ]
  },
  {
   "cell_type": "code",
   "execution_count": 82,
   "id": "b083b45c5c756365",
   "metadata": {
    "ExecuteTime": {
     "end_time": "2023-11-13T11:06:39.026044Z",
     "start_time": "2023-11-13T11:06:39.023913100Z"
    }
   },
   "outputs": [],
   "source": [
    "n_hidden_layers = 2\n",
    "n_hidden_nodes = 8\n",
    "n_outputs = 1\n",
    "n_features = X_train.shape[1]\n",
    "activation_hidden = \"sigmoid\"\n",
    "learning_rate = 0.01\n",
    "lmbd = 0.0001\n",
    "n_epochs_space = [50, 100, 150]\n",
    "n_minibatches_space = [8, 16, 32, 64]"
   ]
  },
  {
   "cell_type": "code",
   "execution_count": 98,
   "id": "2ad55ad4abb70ca",
   "metadata": {
    "ExecuteTime": {
     "end_time": "2023-11-13T13:18:24.205514Z",
     "start_time": "2023-11-13T13:14:08.182476800Z"
    }
   },
   "outputs": [
    {
     "name": "stdout",
     "output_type": "stream",
     "text": [
      "Number of epochs: 50\n",
      "Number of minibatches: 8\n",
      "<function Neural_Network_PyTorch.set_activation_function.<locals>.dummy at 0x000001AB396DA3E0>\n",
      "<function Neural_Network_PyTorch.set_activation_function.<locals>.dummy at 0x000001AB396D9440>\n",
      "<function Neural_Network_PyTorch.set_activation_function.<locals>.dummy at 0x000001AB396DA020>\n",
      "<function Neural_Network_PyTorch.set_activation_function.<locals>.dummy at 0x000001AB396DA3E0>\n",
      "<function Neural_Network_PyTorch.set_activation_function.<locals>.dummy at 0x000001AB396D9440>\n",
      "Number of minibatches: 16\n",
      "<function Neural_Network_PyTorch.set_activation_function.<locals>.dummy at 0x000001AB396D8CC0>\n",
      "<function Neural_Network_PyTorch.set_activation_function.<locals>.dummy at 0x000001AB396DAD40>\n",
      "<function Neural_Network_PyTorch.set_activation_function.<locals>.dummy at 0x000001AB396DADE0>\n",
      "<function Neural_Network_PyTorch.set_activation_function.<locals>.dummy at 0x000001AB396D8CC0>\n",
      "<function Neural_Network_PyTorch.set_activation_function.<locals>.dummy at 0x000001AB396DA840>\n",
      "Number of minibatches: 32\n",
      "<function Neural_Network_PyTorch.set_activation_function.<locals>.dummy at 0x000001AB396D8AE0>\n",
      "<function Neural_Network_PyTorch.set_activation_function.<locals>.dummy at 0x000001AB396DA3E0>\n",
      "<function Neural_Network_PyTorch.set_activation_function.<locals>.dummy at 0x000001AB396D8AE0>\n",
      "<function Neural_Network_PyTorch.set_activation_function.<locals>.dummy at 0x000001AB396DA3E0>\n",
      "<function Neural_Network_PyTorch.set_activation_function.<locals>.dummy at 0x000001AB396DB4C0>\n",
      "Number of minibatches: 64\n",
      "<function Neural_Network_PyTorch.set_activation_function.<locals>.dummy at 0x000001AB396DADE0>\n",
      "<function Neural_Network_PyTorch.set_activation_function.<locals>.dummy at 0x000001AB396D8CC0>\n",
      "<function Neural_Network_PyTorch.set_activation_function.<locals>.dummy at 0x000001AB396D9440>\n",
      "<function Neural_Network_PyTorch.set_activation_function.<locals>.dummy at 0x000001AB396DADE0>\n",
      "<function Neural_Network_PyTorch.set_activation_function.<locals>.dummy at 0x000001AB396D8CC0>\n",
      "Number of epochs: 100\n",
      "Number of minibatches: 8\n",
      "<function Neural_Network_PyTorch.set_activation_function.<locals>.dummy at 0x000001AB396DA3E0>\n",
      "<function Neural_Network_PyTorch.set_activation_function.<locals>.dummy at 0x000001AB396DA840>\n",
      "<function Neural_Network_PyTorch.set_activation_function.<locals>.dummy at 0x000001AB396DAD40>\n",
      "<function Neural_Network_PyTorch.set_activation_function.<locals>.dummy at 0x000001AB396DA3E0>\n",
      "<function Neural_Network_PyTorch.set_activation_function.<locals>.dummy at 0x000001AB396DA020>\n",
      "Number of minibatches: 16\n",
      "<function Neural_Network_PyTorch.set_activation_function.<locals>.dummy at 0x000001AB396D8AE0>\n",
      "<function Neural_Network_PyTorch.set_activation_function.<locals>.dummy at 0x000001AB396D9440>\n",
      "<function Neural_Network_PyTorch.set_activation_function.<locals>.dummy at 0x000001AB396DB4C0>\n",
      "<function Neural_Network_PyTorch.set_activation_function.<locals>.dummy at 0x000001AB396D8AE0>\n",
      "<function Neural_Network_PyTorch.set_activation_function.<locals>.dummy at 0x000001AB396D9440>\n",
      "Number of minibatches: 32\n",
      "<function Neural_Network_PyTorch.set_activation_function.<locals>.dummy at 0x000001AB396DAD40>\n",
      "<function Neural_Network_PyTorch.set_activation_function.<locals>.dummy at 0x000001AB396DA3E0>\n",
      "<function Neural_Network_PyTorch.set_activation_function.<locals>.dummy at 0x000001AB396D8CC0>\n",
      "<function Neural_Network_PyTorch.set_activation_function.<locals>.dummy at 0x000001AB396DAD40>\n",
      "<function Neural_Network_PyTorch.set_activation_function.<locals>.dummy at 0x000001AB396DA3E0>\n",
      "Number of minibatches: 64\n",
      "<function Neural_Network_PyTorch.set_activation_function.<locals>.dummy at 0x000001AB396DB4C0>\n",
      "<function Neural_Network_PyTorch.set_activation_function.<locals>.dummy at 0x000001AB396D8AE0>\n",
      "<function Neural_Network_PyTorch.set_activation_function.<locals>.dummy at 0x000001AB396DA020>\n",
      "<function Neural_Network_PyTorch.set_activation_function.<locals>.dummy at 0x000001AB396DB4C0>\n",
      "<function Neural_Network_PyTorch.set_activation_function.<locals>.dummy at 0x000001AB396DADE0>\n",
      "Number of epochs: 150\n",
      "Number of minibatches: 8\n",
      "<function Neural_Network_PyTorch.set_activation_function.<locals>.dummy at 0x000001AB396D8CC0>\n",
      "<function Neural_Network_PyTorch.set_activation_function.<locals>.dummy at 0x000001AB396D9440>\n",
      "<function Neural_Network_PyTorch.set_activation_function.<locals>.dummy at 0x000001AB396DAD40>\n",
      "<function Neural_Network_PyTorch.set_activation_function.<locals>.dummy at 0x000001AB396D8CC0>\n",
      "<function Neural_Network_PyTorch.set_activation_function.<locals>.dummy at 0x000001AB396D9440>\n",
      "Number of minibatches: 16\n",
      "<function Neural_Network_PyTorch.set_activation_function.<locals>.dummy at 0x000001AB396DA020>\n",
      "<function Neural_Network_PyTorch.set_activation_function.<locals>.dummy at 0x000001AB396DA3E0>\n",
      "<function Neural_Network_PyTorch.set_activation_function.<locals>.dummy at 0x000001AB396D8CC0>\n",
      "<function Neural_Network_PyTorch.set_activation_function.<locals>.dummy at 0x000001AB396DA3E0>\n",
      "<function Neural_Network_PyTorch.set_activation_function.<locals>.dummy at 0x000001AB396DB4C0>\n",
      "Number of minibatches: 32\n",
      "<function Neural_Network_PyTorch.set_activation_function.<locals>.dummy at 0x000001AB396DAD40>\n",
      "<function Neural_Network_PyTorch.set_activation_function.<locals>.dummy at 0x000001AB396DA840>\n",
      "<function Neural_Network_PyTorch.set_activation_function.<locals>.dummy at 0x000001AB396DADE0>\n",
      "<function Neural_Network_PyTorch.set_activation_function.<locals>.dummy at 0x000001AB396DAD40>\n",
      "<function Neural_Network_PyTorch.set_activation_function.<locals>.dummy at 0x000001AB396DA840>\n",
      "Number of minibatches: 64\n",
      "<function Neural_Network_PyTorch.set_activation_function.<locals>.dummy at 0x000001AB396DA020>\n",
      "<function Neural_Network_PyTorch.set_activation_function.<locals>.dummy at 0x000001AB396D9440>\n",
      "<function Neural_Network_PyTorch.set_activation_function.<locals>.dummy at 0x000001AB396DA3E0>\n",
      "<function Neural_Network_PyTorch.set_activation_function.<locals>.dummy at 0x000001AB396D8CC0>\n",
      "<function Neural_Network_PyTorch.set_activation_function.<locals>.dummy at 0x000001AB396D9440>\n"
     ]
    }
   ],
   "source": [
    "# Initialize the evaluation metrices\n",
    "mse = np.zeros((len(n_epochs_space), len(n_minibatches_space)))\n",
    "r2 = np.zeros((len(n_epochs_space), len(n_minibatches_space)))\n",
    "mse_train = np.zeros((len(n_epochs_space), len(n_minibatches_space)))\n",
    "r2_train = np.zeros((len(n_epochs_space), len(n_minibatches_space)))\n",
    "\n",
    "for i, n_epochs in enumerate(n_epochs_space):\n",
    "    print(f\"Number of epochs: {n_epochs}\")\n",
    "    for j, n_minibatches in enumerate(n_minibatches_space):\n",
    "        print(f\"Number of minibatches: {n_minibatches}\")\n",
    "        (ffnn, \n",
    "        mse_crossval, \n",
    "        r2_crossval, \n",
    "        mse_train_crossval, \n",
    "        r2_train_crossval) = train_with_crossval(X_train, target_train, \n",
    "                            n_features, n_hidden_layers, n_hidden_nodes, n_outputs, \n",
    "                            activation_hidden, \n",
    "                            learning_rate, lmbd, \n",
    "                            n_epochs, n_minibatches)\n",
    "       \n",
    "        mse[i][j] = np.mean(mse_crossval)\n",
    "        r2[i][j] = np.mean(r2_crossval)\n",
    "        mse_train[i][j] = np.mean(mse_train_crossval)\n",
    "        r2_train[i][j] = np.mean(r2_train_crossval)"
   ]
  },
  {
   "cell_type": "code",
   "execution_count": 102,
   "id": "569f08e018b22be5",
   "metadata": {
    "ExecuteTime": {
     "end_time": "2023-11-13T13:19:32.185875600Z",
     "start_time": "2023-11-13T13:19:32.161341500Z"
    }
   },
   "outputs": [
    {
     "name": "stdout",
     "output_type": "stream",
     "text": [
      "Best R2: 0.6792 yielded by best epochs: 100 and best n minibatches: 64\n",
      "Best MSE: 0.0313 yielded by best epochs: 100 and best n minibatches: 64\n",
      "[[0.46331089 0.61874213 0.60940904 0.66697077]\n",
      " [0.62580059 0.63199284 0.66741864 0.67918744]\n",
      " [0.64338223 0.63534931 0.60901974 0.66840931]]\n",
      "[[0.0538846  0.03751198 0.03779448 0.03294351]\n",
      " [0.03691274 0.03561857 0.03271436 0.03127981]\n",
      " [0.03503192 0.03575732 0.03858674 0.03243506]]\n"
     ]
    }
   ],
   "source": [
    "best_r2 = np.max(r2)\n",
    "best_mse = np.min(mse)\n",
    "best_r2_idx = np.where(r2==best_r2)\n",
    "best_mse_idx = np.where(mse==best_mse)\n",
    "print(f\"Best R2: {best_r2:.4f} yielded by best epochs: {n_epochs_space[best_r2_idx[0][0]]}\"\n",
    "      f\" and best n minibatches: {n_minibatches_space[best_r2_idx[1][0]]}\")\n",
    "print(f\"Best MSE: {best_mse:.4f} yielded by best epochs: {n_epochs_space[best_mse_idx[0][0]]}\"\n",
    "      f\" and best n minibatches: {n_minibatches_space[best_mse_idx[1][0]]}\")\n",
    "print(r2)\n",
    "print(mse)"
   ]
  },
  {
   "cell_type": "markdown",
   "id": "24c47d1772780d6c",
   "metadata": {},
   "source": [
    "We will now keep the epochs at: 100, and number of minibatches as: 64  "
   ]
  },
  {
   "cell_type": "markdown",
   "id": "616ebecb6c8b0c0c",
   "metadata": {},
   "source": [
    "### Tuning number of hidden layers and hidden nodes"
   ]
  },
  {
   "cell_type": "code",
   "execution_count": 105,
   "id": "7573f22873a0ce90",
   "metadata": {
    "ExecuteTime": {
     "end_time": "2023-11-13T13:21:17.123280300Z",
     "start_time": "2023-11-13T13:21:17.090663100Z"
    }
   },
   "outputs": [],
   "source": [
    "n_hidden_layers_space = [2, 3, 4]\n",
    "n_hidden_nodes_space = [2, 6, 10]\n",
    "n_outputs = 1\n",
    "n_features = X_train.shape[1]\n",
    "activation_hidden = \"sigmoid\"\n",
    "learning_rate = 0.01\n",
    "lmbd = 0.0001\n",
    "n_epochs = 100\n",
    "n_minibatches = 64"
   ]
  },
  {
   "cell_type": "code",
   "execution_count": 107,
   "id": "7697b6029ec83a93",
   "metadata": {
    "ExecuteTime": {
     "end_time": "2023-11-13T13:30:04.785134200Z",
     "start_time": "2023-11-13T13:22:07.796470100Z"
    }
   },
   "outputs": [
    {
     "name": "stdout",
     "output_type": "stream",
     "text": [
      "Number of hidden layers: 2\n",
      "Number of hidden nodes: 2\n",
      "<function Neural_Network_PyTorch.set_activation_function.<locals>.dummy at 0x000001AB396D8F40>\n",
      "<function Neural_Network_PyTorch.set_activation_function.<locals>.dummy at 0x000001AB3956AC00>\n",
      "<function Neural_Network_PyTorch.set_activation_function.<locals>.dummy at 0x000001AB396DA3E0>\n",
      "<function Neural_Network_PyTorch.set_activation_function.<locals>.dummy at 0x000001AB396D8F40>\n",
      "<function Neural_Network_PyTorch.set_activation_function.<locals>.dummy at 0x000001AB3956AC00>\n",
      "Number of hidden nodes: 6\n",
      "<function Neural_Network_PyTorch.set_activation_function.<locals>.dummy at 0x000001AB39998CC0>\n",
      "<function Neural_Network_PyTorch.set_activation_function.<locals>.dummy at 0x000001AB37715C60>\n",
      "<function Neural_Network_PyTorch.set_activation_function.<locals>.dummy at 0x000001AB39998CC0>\n",
      "<function Neural_Network_PyTorch.set_activation_function.<locals>.dummy at 0x000001AB37715300>\n",
      "<function Neural_Network_PyTorch.set_activation_function.<locals>.dummy at 0x000001AB39998CC0>\n",
      "Number of hidden nodes: 10\n",
      "<function Neural_Network_PyTorch.set_activation_function.<locals>.dummy at 0x000001AB396D9440>\n",
      "<function Neural_Network_PyTorch.set_activation_function.<locals>.dummy at 0x000001AB396DA3E0>\n",
      "<function Neural_Network_PyTorch.set_activation_function.<locals>.dummy at 0x000001AB396D8F40>\n",
      "<function Neural_Network_PyTorch.set_activation_function.<locals>.dummy at 0x000001AB396D9440>\n",
      "<function Neural_Network_PyTorch.set_activation_function.<locals>.dummy at 0x000001AB396DA3E0>\n",
      "Number of hidden layers: 3\n",
      "Number of hidden nodes: 2\n",
      "<function Neural_Network_PyTorch.set_activation_function.<locals>.dummy at 0x000001AB3956AC00>\n",
      "<function Neural_Network_PyTorch.set_activation_function.<locals>.dummy at 0x000001AB37714180>\n",
      "<function Neural_Network_PyTorch.set_activation_function.<locals>.dummy at 0x000001AB3956AC00>\n",
      "<function Neural_Network_PyTorch.set_activation_function.<locals>.dummy at 0x000001AB37715C60>\n",
      "<function Neural_Network_PyTorch.set_activation_function.<locals>.dummy at 0x000001AB3956AC00>\n",
      "Number of hidden nodes: 6\n",
      "<function Neural_Network_PyTorch.set_activation_function.<locals>.dummy at 0x000001AB396D8F40>\n",
      "<function Neural_Network_PyTorch.set_activation_function.<locals>.dummy at 0x000001AB39998CC0>\n",
      "<function Neural_Network_PyTorch.set_activation_function.<locals>.dummy at 0x000001AB396D9440>\n",
      "<function Neural_Network_PyTorch.set_activation_function.<locals>.dummy at 0x000001AB396D8F40>\n",
      "<function Neural_Network_PyTorch.set_activation_function.<locals>.dummy at 0x000001AB39998CC0>\n",
      "Number of hidden nodes: 10\n",
      "<function Neural_Network_PyTorch.set_activation_function.<locals>.dummy at 0x000001AB396DA3E0>\n",
      "<function Neural_Network_PyTorch.set_activation_function.<locals>.dummy at 0x000001AB37715C60>\n",
      "<function Neural_Network_PyTorch.set_activation_function.<locals>.dummy at 0x000001AB396DA3E0>\n",
      "<function Neural_Network_PyTorch.set_activation_function.<locals>.dummy at 0x000001AB37715300>\n",
      "<function Neural_Network_PyTorch.set_activation_function.<locals>.dummy at 0x000001AB396DA3E0>\n",
      "Number of hidden layers: 4\n",
      "Number of hidden nodes: 2\n",
      "<function Neural_Network_PyTorch.set_activation_function.<locals>.dummy at 0x000001AB396D9440>\n",
      "<function Neural_Network_PyTorch.set_activation_function.<locals>.dummy at 0x000001AB3956AC00>\n",
      "<function Neural_Network_PyTorch.set_activation_function.<locals>.dummy at 0x000001AB396D8F40>\n",
      "<function Neural_Network_PyTorch.set_activation_function.<locals>.dummy at 0x000001AB396D9440>\n",
      "<function Neural_Network_PyTorch.set_activation_function.<locals>.dummy at 0x000001AB3956AC00>\n",
      "Number of hidden nodes: 6\n",
      "<function Neural_Network_PyTorch.set_activation_function.<locals>.dummy at 0x000001AB39998CC0>\n",
      "<function Neural_Network_PyTorch.set_activation_function.<locals>.dummy at 0x000001AB37715300>\n",
      "<function Neural_Network_PyTorch.set_activation_function.<locals>.dummy at 0x000001AB39998CC0>\n",
      "<function Neural_Network_PyTorch.set_activation_function.<locals>.dummy at 0x000001AB37715C60>\n",
      "<function Neural_Network_PyTorch.set_activation_function.<locals>.dummy at 0x000001AB39998CC0>\n",
      "Number of hidden nodes: 10\n",
      "<function Neural_Network_PyTorch.set_activation_function.<locals>.dummy at 0x000001AB396D8F40>\n",
      "<function Neural_Network_PyTorch.set_activation_function.<locals>.dummy at 0x000001AB396DA3E0>\n",
      "<function Neural_Network_PyTorch.set_activation_function.<locals>.dummy at 0x000001AB396D9440>\n",
      "<function Neural_Network_PyTorch.set_activation_function.<locals>.dummy at 0x000001AB396D8F40>\n",
      "<function Neural_Network_PyTorch.set_activation_function.<locals>.dummy at 0x000001AB396DA3E0>\n"
     ]
    }
   ],
   "source": [
    "# Initialize the evaluation metrices\n",
    "mse = np.zeros((len(n_hidden_layers_space), len(n_hidden_nodes_space)))\n",
    "r2 = np.zeros((len(n_hidden_layers_space), len(n_hidden_nodes_space)))\n",
    "mse_train = np.zeros((len(n_hidden_layers_space), len(n_hidden_nodes_space)))\n",
    "r2_train = np.zeros((len(n_hidden_layers_space), len(n_hidden_nodes_space)))\n",
    "\n",
    "for i, n_hidden_layers in enumerate(n_hidden_layers_space):\n",
    "    print(f\"Number of hidden layers: {n_hidden_layers}\")\n",
    "    for j, n_hidden_nodes in enumerate(n_hidden_nodes_space):\n",
    "        print(f\"Number of hidden nodes: {n_hidden_nodes}\")\n",
    "        (ffnn, \n",
    "        mse_crossval, \n",
    "        r2_crossval, \n",
    "        mse_train_crossval, \n",
    "        r2_train_crossval) = train_with_crossval(X_train, target_train, \n",
    "                            n_features, n_hidden_layers, n_hidden_nodes, n_outputs, \n",
    "                            activation_hidden, \n",
    "                            learning_rate, lmbd, \n",
    "                            n_epochs, n_minibatches)\n",
    "       \n",
    "        mse[i][j] = np.mean(mse_crossval)\n",
    "        r2[i][j] = np.mean(r2_crossval)\n",
    "        mse_train[i][j] = np.mean(mse_train_crossval)\n",
    "        r2_train[i][j] = np.mean(r2_train_crossval)"
   ]
  },
  {
   "cell_type": "code",
   "execution_count": 114,
   "id": "7e57e69e0336d2fc",
   "metadata": {
    "ExecuteTime": {
     "end_time": "2023-11-13T13:34:58.857272900Z",
     "start_time": "2023-11-13T13:34:58.833199700Z"
    }
   },
   "outputs": [
    {
     "name": "stdout",
     "output_type": "stream",
     "text": [
      "(array([1], dtype=int64), array([0], dtype=int64))\n",
      "Best R2: 0.6817 yielded by best hidden layer count: 3 and best number of hidden nodes: 2\n",
      "Best MSE: 0.0312 yielded by best hidden layer count: 3 and best number of hidden nodes: 2\n",
      "[[ 0.66390218  0.67138998  0.65562207]\n",
      " [ 0.68166277  0.67865071  0.60249315]\n",
      " [-0.03902513 -0.01048507  0.09626575]]\n",
      "[[0.03327006 0.0319664  0.0336294 ]\n",
      " [0.03120069 0.03137239 0.03765763]\n",
      " [0.10192578 0.0990309  0.08936345]]\n"
     ]
    }
   ],
   "source": [
    "best_r2 = np.max(r2)\n",
    "best_mse = np.min(mse)\n",
    "best_r2_idx = np.where(r2==best_r2)\n",
    "print(best_r2_idx)\n",
    "best_mse_idx = np.where(mse==best_mse)\n",
    "print(f\"Best R2: {best_r2:.4f} yielded by best hidden layer count: {n_hidden_layers_space[best_r2_idx[0][0]]}\"\n",
    "      f\" and best number of hidden nodes: {n_hidden_nodes_space[best_r2_idx[1][0]]}\")\n",
    "print(f\"Best MSE: {best_mse:.4f} yielded by best hidden layer count: {n_hidden_layers_space[best_mse_idx[0][0]]}\"\n",
    "      f\" and best number of hidden nodes: {n_hidden_nodes_space[best_mse_idx[1][0]]}\")\n",
    "print(r2)\n",
    "print(mse)"
   ]
  },
  {
   "cell_type": "markdown",
   "id": "607aef031e03dfc0",
   "metadata": {},
   "source": [
    "We keep the number of hidden layers at: 3, and the number of nodes per layer at: 2. "
   ]
  },
  {
   "cell_type": "markdown",
   "id": "63e4120df7e7f586",
   "metadata": {},
   "source": [
    "### Tuning lambda and learning rate for different activation functions"
   ]
  },
  {
   "cell_type": "code",
   "execution_count": 132,
   "id": "648c25f82d320aae",
   "metadata": {
    "ExecuteTime": {
     "end_time": "2023-11-13T15:47:44.587896Z",
     "start_time": "2023-11-13T15:47:44.565291800Z"
    }
   },
   "outputs": [],
   "source": [
    "n_hidden_layers = 3\n",
    "n_hidden_nodes = 2\n",
    "n_outputs = 1\n",
    "n_features = X_train.shape[1]\n",
    "activation_hidden_space = [\"sigmoid\", 'tanh', 'ReLU', 'Leaky ReLU']  \n",
    "learning_rate_space = np.logspace(-4, 0, 5)\n",
    "lmbd_space = np.insert(np.logspace(-5, -2, 4), -1, 0.0)\n",
    "n_epochs = 100\n",
    "n_minibatches = 64"
   ]
  },
  {
   "cell_type": "code",
   "execution_count": 133,
   "id": "3d237ecdd0cff872",
   "metadata": {
    "ExecuteTime": {
     "end_time": "2023-11-13T15:47:56.372883900Z",
     "start_time": "2023-11-13T15:47:47.758988700Z"
    }
   },
   "outputs": [
    {
     "name": "stdout",
     "output_type": "stream",
     "text": [
      "Activation function hidden layers: sigmoid\n",
      "Learning_rate: 0.0001\n",
      "L2 regularization term: 1e-05\n",
      "<function Neural_Network_PyTorch.set_activation_function.<locals>.dummy at 0x000001AB396DA3E0>\n"
     ]
    },
    {
     "ename": "KeyboardInterrupt",
     "evalue": "",
     "output_type": "error",
     "traceback": [
      "\u001b[1;31m---------------------------------------------------------------------------\u001b[0m",
      "\u001b[1;31mKeyboardInterrupt\u001b[0m                         Traceback (most recent call last)",
      "Cell \u001b[1;32mIn[133], line 19\u001b[0m\n\u001b[0;32m     13\u001b[0m \u001b[38;5;28;01mfor\u001b[39;00m j, lmbd \u001b[38;5;129;01min\u001b[39;00m \u001b[38;5;28menumerate\u001b[39m(lmbd_space):\n\u001b[0;32m     14\u001b[0m     \u001b[38;5;28mprint\u001b[39m(\u001b[38;5;124mf\u001b[39m\u001b[38;5;124m\"\u001b[39m\u001b[38;5;124mL2 regularization term: \u001b[39m\u001b[38;5;132;01m{\u001b[39;00mlmbd\u001b[38;5;132;01m}\u001b[39;00m\u001b[38;5;124m\"\u001b[39m)\n\u001b[0;32m     15\u001b[0m     (ffnn, \n\u001b[0;32m     16\u001b[0m     mse_crossval, \n\u001b[0;32m     17\u001b[0m     r2_crossval, \n\u001b[0;32m     18\u001b[0m     mse_train_crossval, \n\u001b[1;32m---> 19\u001b[0m     r2_train_crossval) \u001b[38;5;241m=\u001b[39m train_with_crossval(X_train, target_train, \n\u001b[0;32m     20\u001b[0m                         n_features, n_hidden_layers, n_hidden_nodes, n_outputs, \n\u001b[0;32m     21\u001b[0m                         activation_hidden, \n\u001b[0;32m     22\u001b[0m                         learning_rate, lmbd, \n\u001b[0;32m     23\u001b[0m                         n_epochs, n_minibatches)\n\u001b[0;32m     25\u001b[0m     mse[i][j] \u001b[38;5;241m=\u001b[39m np\u001b[38;5;241m.\u001b[39mmean(mse_crossval)\n\u001b[0;32m     26\u001b[0m     r2[i][j] \u001b[38;5;241m=\u001b[39m np\u001b[38;5;241m.\u001b[39mmean(r2_crossval)\n",
      "Cell \u001b[1;32mIn[74], line 32\u001b[0m, in \u001b[0;36mtrain_with_crossval\u001b[1;34m(train_X, train_target, n_features, n_hidden_layers, n_hidden_nodes, n_outputs, activation_hidden, learning_rate, l2_reg, num_epochs, n_minibatches)\u001b[0m\n\u001b[0;32m     29\u001b[0m optimizer \u001b[38;5;241m=\u001b[39m optim\u001b[38;5;241m.\u001b[39mAdam(ffnn\u001b[38;5;241m.\u001b[39mparameters(), lr\u001b[38;5;241m=\u001b[39mlearning_rate, weight_decay\u001b[38;5;241m=\u001b[39ml2_reg)\n\u001b[0;32m     31\u001b[0m \u001b[38;5;66;03m# Train the network            \u001b[39;00m\n\u001b[1;32m---> 32\u001b[0m ffnn \u001b[38;5;241m=\u001b[39m ffnn\u001b[38;5;241m.\u001b[39mtrain_network(X_train, target_train, \n\u001b[0;32m     33\u001b[0m                           optimizer, criterion,\n\u001b[0;32m     34\u001b[0m                           num_iter\u001b[38;5;241m=\u001b[39mnum_epochs, n_minibatches\u001b[38;5;241m=\u001b[39mn_minibatches)\n\u001b[0;32m     35\u001b[0m \u001b[38;5;66;03m# Evaluate the network\u001b[39;00m\n\u001b[0;32m     36\u001b[0m \u001b[38;5;66;03m# Train performance\u001b[39;00m\n\u001b[0;32m     37\u001b[0m target_train_pred \u001b[38;5;241m=\u001b[39m ffnn\u001b[38;5;241m.\u001b[39mfeed_forward(X_train)\n",
      "File \u001b[1;32mD:\\Programmering\\FYS-STK4155\\FYS-STK4155_Projects\\Project 2\\src\\Neural_Network_with_PyTorch.py:165\u001b[0m, in \u001b[0;36mNeural_Network_PyTorch.train_network\u001b[1;34m(self, X, target, optimizer, criterion, num_iter, n_minibatches)\u001b[0m\n\u001b[0;32m    163\u001b[0m \u001b[38;5;66;03m# Calculate loss and do backpropagation\u001b[39;00m\n\u001b[0;32m    164\u001b[0m loss \u001b[38;5;241m=\u001b[39m criterion(target_pred, target_batch)\n\u001b[1;32m--> 165\u001b[0m loss\u001b[38;5;241m.\u001b[39mbackward()\n\u001b[0;32m    167\u001b[0m \u001b[38;5;66;03m# Updating neural network parameters: w = w - learning_rate * gradient\u001b[39;00m\n\u001b[0;32m    168\u001b[0m optimizer\u001b[38;5;241m.\u001b[39mstep()\n",
      "File \u001b[1;32mD:\\Python\\envs\\DataAnalysis\\Lib\\site-packages\\torch\\_tensor.py:492\u001b[0m, in \u001b[0;36mTensor.backward\u001b[1;34m(self, gradient, retain_graph, create_graph, inputs)\u001b[0m\n\u001b[0;32m    482\u001b[0m \u001b[38;5;28;01mif\u001b[39;00m has_torch_function_unary(\u001b[38;5;28mself\u001b[39m):\n\u001b[0;32m    483\u001b[0m     \u001b[38;5;28;01mreturn\u001b[39;00m handle_torch_function(\n\u001b[0;32m    484\u001b[0m         Tensor\u001b[38;5;241m.\u001b[39mbackward,\n\u001b[0;32m    485\u001b[0m         (\u001b[38;5;28mself\u001b[39m,),\n\u001b[1;32m   (...)\u001b[0m\n\u001b[0;32m    490\u001b[0m         inputs\u001b[38;5;241m=\u001b[39minputs,\n\u001b[0;32m    491\u001b[0m     )\n\u001b[1;32m--> 492\u001b[0m torch\u001b[38;5;241m.\u001b[39mautograd\u001b[38;5;241m.\u001b[39mbackward(\n\u001b[0;32m    493\u001b[0m     \u001b[38;5;28mself\u001b[39m, gradient, retain_graph, create_graph, inputs\u001b[38;5;241m=\u001b[39minputs\n\u001b[0;32m    494\u001b[0m )\n",
      "File \u001b[1;32mD:\\Python\\envs\\DataAnalysis\\Lib\\site-packages\\torch\\autograd\\__init__.py:251\u001b[0m, in \u001b[0;36mbackward\u001b[1;34m(tensors, grad_tensors, retain_graph, create_graph, grad_variables, inputs)\u001b[0m\n\u001b[0;32m    246\u001b[0m     retain_graph \u001b[38;5;241m=\u001b[39m create_graph\n\u001b[0;32m    248\u001b[0m \u001b[38;5;66;03m# The reason we repeat the same comment below is that\u001b[39;00m\n\u001b[0;32m    249\u001b[0m \u001b[38;5;66;03m# some Python versions print out the first line of a multi-line function\u001b[39;00m\n\u001b[0;32m    250\u001b[0m \u001b[38;5;66;03m# calls in the traceback and some print out the last line\u001b[39;00m\n\u001b[1;32m--> 251\u001b[0m Variable\u001b[38;5;241m.\u001b[39m_execution_engine\u001b[38;5;241m.\u001b[39mrun_backward(  \u001b[38;5;66;03m# Calls into the C++ engine to run the backward pass\u001b[39;00m\n\u001b[0;32m    252\u001b[0m     tensors,\n\u001b[0;32m    253\u001b[0m     grad_tensors_,\n\u001b[0;32m    254\u001b[0m     retain_graph,\n\u001b[0;32m    255\u001b[0m     create_graph,\n\u001b[0;32m    256\u001b[0m     inputs,\n\u001b[0;32m    257\u001b[0m     allow_unreachable\u001b[38;5;241m=\u001b[39m\u001b[38;5;28;01mTrue\u001b[39;00m,\n\u001b[0;32m    258\u001b[0m     accumulate_grad\u001b[38;5;241m=\u001b[39m\u001b[38;5;28;01mTrue\u001b[39;00m,\n\u001b[0;32m    259\u001b[0m )\n",
      "\u001b[1;31mKeyboardInterrupt\u001b[0m: "
     ]
    }
   ],
   "source": [
    "# Initialize the evaluation metrices\n",
    "d = {}\n",
    "for activation_hidden in activation_hidden_space:\n",
    "    print(f'Activation function hidden layers: {activation_hidden}')\n",
    "    \n",
    "    mse = np.zeros((len(learning_rate_space), len(lmbd_space)))\n",
    "    r2 = np.zeros((len(learning_rate_space), len(lmbd_space)))\n",
    "    mse_train = np.zeros((len(learning_rate_space), len(lmbd_space)))\n",
    "    r2_train = np.zeros((len(learning_rate_space), len(lmbd_space)))\n",
    "    \n",
    "    for i, learning_rate in enumerate(learning_rate_space):\n",
    "        print(f\"Learning_rate: {learning_rate}\")\n",
    "        for j, lmbd in enumerate(lmbd_space):\n",
    "            print(f\"L2 regularization term: {lmbd}\")\n",
    "            (ffnn, \n",
    "            mse_crossval, \n",
    "            r2_crossval, \n",
    "            mse_train_crossval, \n",
    "            r2_train_crossval) = train_with_crossval(X_train, target_train, \n",
    "                                n_features, n_hidden_layers, n_hidden_nodes, n_outputs, \n",
    "                                activation_hidden, \n",
    "                                learning_rate, lmbd, \n",
    "                                n_epochs, n_minibatches)\n",
    "           \n",
    "            mse[i][j] = np.mean(mse_crossval)\n",
    "            r2[i][j] = np.mean(r2_crossval)\n",
    "            mse_train[i][j] = np.mean(mse_train_crossval)\n",
    "            r2_train[i][j] = np.mean(r2_train_crossval)\n",
    "            \n",
    "    d[activation_hidden] = [mse, r2, mse_train, r2_train]"
   ]
  },
  {
   "cell_type": "code",
   "execution_count": 129,
   "id": "bc0dd2a6bba3b096",
   "metadata": {
    "ExecuteTime": {
     "end_time": "2023-11-13T15:10:36.535423800Z",
     "start_time": "2023-11-13T15:10:36.514141200Z"
    }
   },
   "outputs": [
    {
     "name": "stdout",
     "output_type": "stream",
     "text": [
      "\n",
      " #### For sigmoid #### \n",
      "\n",
      "Best R2: 0.7116 yielded by best hidden layer count: 0.01 and best number of hidden nodes: 0.0\n",
      "Best MSE: 0.0281 yielded by best hidden layer count: 0.01 and best number of hidden nodes: 0.0\n",
      "[[-0.01126361 -0.01192762 -0.01293105 -0.01106108 -0.01268762]\n",
      " [ 0.67906416  0.13604504 -0.01404083  0.68127513 -0.01357947]\n",
      " [ 0.53386329  0.09626575 -0.01624044  0.71156914 -0.06752989]\n",
      " [-0.0689194  -0.09179487 -0.07859474 -0.01289905 -0.31667535]\n",
      " [-1.40689205 -1.67509975 -0.80174471 -4.8228499  -1.32363122]]\n",
      "[[0.09900964 0.09907331 0.09917141 0.09898977 0.09916684]\n",
      " [0.03145017 0.08583098 0.09917669 0.03119282 0.09914072]\n",
      " [0.04777423 0.08936345 0.09933001 0.02805126 0.10372175]\n",
      " [0.10436871 0.10646127 0.10611165 0.09938528 0.12997539]\n",
      " [0.22125203 0.26446336 0.17421108 0.53364911 0.23250939]]\n",
      "\n",
      " #### For tanh #### \n",
      "\n",
      "Best R2: 0.7898 yielded by best hidden layer count: 0.01 and best number of hidden nodes: 1e-05\n",
      "Best MSE: 0.0205 yielded by best hidden layer count: 0.01 and best number of hidden nodes: 1e-05\n",
      "[[  0.66889395   0.66853049   0.66551109   0.66893536   0.64271028]\n",
      " [  0.71777568   0.71468493   0.69060026   0.71805749   0.66018755]\n",
      " [  0.78984607   0.78092234   0.59239769   0.78706453   0.50157175]\n",
      " [ -1.3429511   -1.08392807  -1.1008922   -1.36158384  -0.21476939]\n",
      " [ -6.38603705 -45.56380164  -2.84035419  -6.33733453 -26.77259893]]\n",
      "[[0.03250445 0.03254105 0.03284387 0.03250028 0.03512466]\n",
      " [0.02758722 0.02792834 0.03038749 0.02755496 0.03337629]\n",
      " [0.02053542 0.021274   0.03885994 0.0208347  0.0506646 ]\n",
      " [0.21694674 0.19474443 0.19436351 0.2188317  0.11960482]\n",
      " [0.66319142 4.43966101 0.37635607 0.67933932 3.09076867]]\n",
      "\n",
      " #### For ReLU #### \n",
      "\n",
      "Best R2: 0.8007 yielded by best hidden layer count: 0.01 and best number of hidden nodes: 0.0001\n",
      "Best MSE: 0.0193 yielded by best hidden layer count: 0.01 and best number of hidden nodes: 0.0001\n",
      "[[ 0.53605556  0.53406265  0.49104087  0.49040796  0.15993103]\n",
      " [ 0.76744038  0.7665387   0.76071613  0.78987281  0.26741557]\n",
      " [ 0.78309601  0.80068971  0.59921198  0.7980575   0.10927219]\n",
      " [-0.08876594 -0.08860997 -0.08797731 -0.08876781 -0.07573971]\n",
      " [-0.53720132 -1.26608715 -1.05415749 -1.4912198  -2.04683549]]\n",
      "[[0.04598692 0.04623688 0.05062898 0.05091353 0.08426987]\n",
      " [0.02251874 0.02271973 0.0233691  0.02046587 0.07505018]\n",
      " [0.02063215 0.01932549 0.04170359 0.0193569  0.08822534]\n",
      " [0.10612525 0.10610737 0.10604816 0.1061254  0.1049162 ]\n",
      " [0.15144858 0.21803694 0.19476524 0.23531726 0.29655224]]\n",
      "\n",
      " #### For Leaky ReLU #### \n",
      "\n",
      "Best R2: 0.7903 yielded by best hidden layer count: 0.001 and best number of hidden nodes: 0.0\n",
      "Best MSE: 0.0203 yielded by best hidden layer count: 0.001 and best number of hidden nodes: 0.0\n",
      "[[ 6.06330707e-01  6.09745035e-01  4.12622122e-01  6.11239078e-01\n",
      "   1.58578611e-01]\n",
      " [ 7.86870352e-01  7.71240209e-01  7.36829036e-01  7.90287884e-01\n",
      "   2.67279139e-01]\n",
      " [ 7.82818256e-01  7.74905104e-01  5.93051578e-01  7.36266916e-01\n",
      "   1.09213168e-01]\n",
      " [-9.62140437e+00 -7.77222221e-01  4.51141439e-03  3.10896267e-01\n",
      "  -9.10420862e-02]\n",
      " [-8.01139450e+07 -2.20479312e+00 -1.95762016e+02 -7.54479143e-01\n",
      "  -6.28111274e+05]]\n",
      "[[3.88230380e-02 3.84768255e-02 6.01165175e-02 3.83226108e-02\n",
      "  8.43940705e-02]\n",
      " [2.07826551e-02 2.22929277e-02 2.60167383e-02 2.03212516e-02\n",
      "  7.50615183e-02]\n",
      " [2.07617361e-02 2.15704028e-02 4.23162933e-02 2.52156511e-02\n",
      "  8.82305920e-02]\n",
      " [1.07902085e+00 1.76704013e-01 9.72374022e-02 6.99938882e-02\n",
      "  1.06453323e-01]\n",
      " [7.11636470e+06 3.20062686e-01 2.22869022e+01 1.85876331e-01\n",
      "  7.15702370e+04]]\n"
     ]
    }
   ],
   "source": [
    "for activation_hidden, performance_metrix in d.items():\n",
    "    mse = performance_metrix[0]\n",
    "    r2 = performance_metrix[1]\n",
    "    mse_train = performance_metrix[2]\n",
    "    r2_train = performance_metrix[3]\n",
    "    \n",
    "    best_r2 = np.max(r2)\n",
    "    best_mse = np.min(mse)\n",
    "    best_r2_idx = np.where(r2==best_r2)\n",
    "    best_mse_idx = np.where(mse==best_mse)\n",
    "    print(f'\\n #### For {activation_hidden} #### \\n')\n",
    "    print(f\"Best R2: {best_r2:.4f} yielded by learning rate: {learning_rate_space[best_r2_idx[0][0]]}\"\n",
    "          f\" and best l2 regulariztion : {lmbd_space[best_r2_idx[1][0]]}\")\n",
    "    print(f\"Best MSE: {best_mse:.4f} yielded by best learning rate: {learning_rate_space[best_mse_idx[0][0]]}\"\n",
    "          f\" and best l2 regulariztion: {lmbd_space[best_mse_idx[1][0]]}\")\n",
    "    print(r2)\n",
    "    print(mse)"
   ]
  },
  {
   "cell_type": "markdown",
   "id": "58611a7c3b6ea849",
   "metadata": {},
   "source": [
    "We will continue with ReLU activation function, 0.01 learning rate and lmbd value 0.0001 "
   ]
  },
  {
   "cell_type": "markdown",
   "id": "39022917cc61b36b",
   "metadata": {},
   "source": [
    "## Retrain model on entire training set and estimate generalization error"
   ]
  },
  {
   "cell_type": "code",
   "execution_count": 142,
   "id": "c58c9fcd5c343f45",
   "metadata": {
    "ExecuteTime": {
     "end_time": "2023-11-13T15:53:42.930528800Z",
     "start_time": "2023-11-13T15:53:42.902450800Z"
    }
   },
   "outputs": [],
   "source": [
    "N = 1000\n",
    "x = np.random.uniform(0, 1, N)\n",
    "y = np.random.uniform(0, 1, N)\n",
    "\n",
    "# Franke function with added noise:\n",
    "z = FrankeFunction(x, y) + np.random.normal(0, 0.1, x.shape)\n",
    "target = torch.tensor(z).reshape(len(z), 1).float()\n",
    "\n",
    "# Making the design matrix:\n",
    "X = torch.from_numpy(np.stack((x, y), axis=-1)).float()"
   ]
  },
  {
   "cell_type": "code",
   "execution_count": 143,
   "id": "2ed5b2693e8a3757",
   "metadata": {
    "ExecuteTime": {
     "end_time": "2023-11-13T15:54:08.375784200Z",
     "start_time": "2023-11-13T15:54:08.356737200Z"
    }
   },
   "outputs": [],
   "source": [
    "n_hidden_layers = 3\n",
    "n_hidden_nodes = 2\n",
    "n_outputs = 1\n",
    "n_features = X_train.shape[1]\n",
    "activation_hidden_space = 'ReLU'  \n",
    "learning_rate = .01\n",
    "lmbd = .0001\n",
    "n_epochs = 100\n",
    "n_minibatches = 64"
   ]
  },
  {
   "cell_type": "code",
   "execution_count": 151,
   "id": "8653aa3334145624",
   "metadata": {
    "ExecuteTime": {
     "end_time": "2023-11-13T15:59:55.898782900Z",
     "start_time": "2023-11-13T15:59:02.817828500Z"
    }
   },
   "outputs": [
    {
     "name": "stdout",
     "output_type": "stream",
     "text": [
      "<function Neural_Network_PyTorch.set_activation_function.<locals>.dummy at 0x000001AB3A21E020>\n",
      "<function Neural_Network_PyTorch.set_activation_function.<locals>.dummy at 0x000001AB3A4D91C0>\n",
      "<function Neural_Network_PyTorch.set_activation_function.<locals>.dummy at 0x000001AB370454E0>\n",
      "<function Neural_Network_PyTorch.set_activation_function.<locals>.dummy at 0x000001AB37047B00>\n",
      "<function Neural_Network_PyTorch.set_activation_function.<locals>.dummy at 0x000001AB3A4D91C0>\n"
     ]
    }
   ],
   "source": [
    "np.random.seed(seed)\n",
    "torch.manual_seed(seed)\n",
    "\n",
    "(ffnn, \n",
    "mse_test_crossval, \n",
    "r2_test_crossval, \n",
    "mse_train_crossval, \n",
    "r2_train_crossval) = train_with_crossval(X, target, \n",
    "                                         n_features, n_hidden_layers, n_hidden_nodes, n_outputs, \n",
    "                                         activation_hidden, \n",
    "                                         learning_rate, lmbd, \n",
    "                                         n_epochs, n_minibatches)\n",
    "# Evaluate the network\n",
    "# Train performance\n",
    "mse_train = np.mean(mse_train_crossval)\n",
    "r2_train = np.mean(r2_train_crossval)\n",
    "mse_test = np.mean(mse_test_crossval)\n",
    "r2_test = np.mean(r2_test_crossval)"
   ]
  },
  {
   "cell_type": "code",
   "execution_count": 152,
   "id": "d2bcad0296fb2790",
   "metadata": {
    "ExecuteTime": {
     "end_time": "2023-11-13T15:59:55.905845700Z",
     "start_time": "2023-11-13T15:59:55.901653Z"
    }
   },
   "outputs": [
    {
     "name": "stdout",
     "output_type": "stream",
     "text": [
      "training: mse = 0.028427178412675856, R2 = 0.6828353557927318\n",
      "test:     mse = 0.029332859069108964, R2 = 0.6719767322758254\n"
     ]
    }
   ],
   "source": [
    "print(f'training: mse = {mse_train}, R2 = {r2_train}')\n",
    "print(f'test:     mse = {mse_test}, R2 = {r2_test}')      "
   ]
  },
  {
   "cell_type": "markdown",
   "id": "150965d55044d13e",
   "metadata": {},
   "source": [
    "It can seem that we have overfitted the model at some level, we might have chived higher generalization performance using further regularization terms. "
   ]
  }
 ],
 "metadata": {
  "kernelspec": {
   "display_name": "Python 3 (ipykernel)",
   "language": "python",
   "name": "python3"
  },
  "language_info": {
   "codemirror_mode": {
    "name": "ipython",
    "version": 3
   },
   "file_extension": ".py",
   "mimetype": "text/x-python",
   "name": "python",
   "nbconvert_exporter": "python",
   "pygments_lexer": "ipython3",
   "version": "3.10.12"
  }
 },
 "nbformat": 4,
 "nbformat_minor": 5
}
