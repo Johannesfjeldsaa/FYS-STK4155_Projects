{
 "cells": [
  {
   "cell_type": "code",
   "execution_count": 2,
   "id": "b60c6a5811015937",
   "metadata": {
    "ExecuteTime": {
     "end_time": "2023-11-05T19:09:08.878793100Z",
     "start_time": "2023-11-05T19:09:06.428445Z"
    }
   },
   "outputs": [],
   "source": [
    "import sys\n",
    "import os\n",
    "\n",
    "# Add the 'src' directory to the Python path\n",
    "src_dir = os.path.join(os.path.dirname(os.getcwd()), 'src')\n",
    "sys.path.append(src_dir)\n",
    "\n",
    "from NeuralNetwork import Neural_Network\n",
    "import numpy as np\n",
    "import jax.numpy as jnp\n",
    "from sklearn.preprocessing import StandardScaler\n",
    "from NeuralNetwork import Neural_Network\n",
    "from sklearn.datasets import load_breast_cancer\n",
    "import pandas as pd\n",
    "import matplotlib.pyplot as plt"
   ]
  },
  {
   "cell_type": "code",
   "execution_count": 3,
   "id": "2574a56f9d356a5a",
   "metadata": {
    "ExecuteTime": {
     "end_time": "2023-11-05T19:09:08.961609Z",
     "start_time": "2023-11-05T19:09:08.858811400Z"
    }
   },
   "outputs": [
    {
     "name": "stdout",
     "output_type": "stream",
     "text": [
      "[0 0 0 0 0 0 0 0 0 0 0 0 0 0 0 0 0 0 0 1 1 1 0 0 0 0 0 0 0 0 0 0 0 0 0 0 0\n",
      " 1 0 0 0 0 0 0 0 0 1 0 1 1 1 1 1 0 0 1 0 0 1 1 1 1 0 1 0 0 1 1 1 1 0 1 0 0\n",
      " 1 0 1 0 0 1 1 1 0 0 1 0 0 0 1 1 1 0 1 1 0 0 1 1 1 0 0 1 1 1 1 0 1 1 0 1 1\n",
      " 1 1 1 1 1 1 0 0 0 1 0 0 1 1 1 0 0 1 0 1 0 0 1 0 0 1 1 0 1 1 0 1 1 1 1 0 1\n",
      " 1 1 1 1 1 1 1 1 0 1 1 1 1 0 0 1 0 1 1 0 0 1 1 0 0 1 1 1 1 0 1 1 0 0 0 1 0\n",
      " 1 0 1 1 1 0 1 1 0 0 1 0 0 0 0 1 0 0 0 1 0 1 0 1 1 0 1 0 0 0 0 1 1 0 0 1 1\n",
      " 1 0 1 1 1 1 1 0 0 1 1 0 1 1 0 0 1 0 1 1 1 1 0 1 1 1 1 1 0 1 0 0 0 0 0 0 0\n",
      " 0 0 0 0 0 0 0 1 1 1 1 1 1 0 1 0 1 1 0 1 1 0 1 0 0 1 1 1 1 1 1 1 1 1 1 1 1\n",
      " 1 0 1 1 0 1 0 1 1 1 1 1 1 1 1 1 1 1 1 1 1 0 1 1 1 0 1 0 1 1 1 1 0 0 0 1 1\n",
      " 1 1 0 1 0 1 0 1 1 1 0 1 1 1 1 1 1 1 0 0 0 1 1 1 1 1 1 1 1 1 1 1 0 0 1 0 0\n",
      " 0 1 0 0 1 1 1 1 1 0 1 1 1 1 1 0 1 1 1 0 1 1 0 0 1 1 1 1 1 1 0 1 1 1 1 1 1\n",
      " 1 0 1 1 1 1 1 0 1 1 0 1 1 1 1 1 1 1 1 1 1 1 1 0 1 0 0 1 0 1 1 1 1 1 0 1 1\n",
      " 0 1 0 1 1 0 1 0 1 1 1 1 1 1 1 1 0 0 1 1 1 1 1 1 0 1 1 1 1 1 1 1 1 1 1 0 1\n",
      " 1 1 1 1 1 1 0 1 0 1 1 0 1 1 1 1 1 0 0 1 0 1 0 1 1 1 1 1 0 1 1 0 1 0 1 0 0\n",
      " 1 1 1 0 1 1 1 1 1 1 1 1 1 1 1 0 1 0 0 1 1 1 1 1 1 1 1 1 1 1 1 1 1 1 1 1 1\n",
      " 1 1 1 1 1 1 1 0 0 0 0 0 0 1]\n",
      "(569,)\n"
     ]
    }
   ],
   "source": [
    "# Load the data\n",
    "cancer = load_breast_cancer()\n",
    "X_orig = cancer.data\n",
    "target_true = cancer.target\n",
    "print(target_true)\n",
    "print(target_true.shape)\n",
    "target_true = target_true.reshape(target_true.shape[0], 1)\n"
   ]
  },
  {
   "cell_type": "code",
   "execution_count": 4,
   "id": "25a47b28",
   "metadata": {},
   "outputs": [
    {
     "data": {
      "text/plain": [
       "array([[1.799e+01, 1.038e+01, 1.228e+02, ..., 2.654e-01, 4.601e-01,\n",
       "        1.189e-01],\n",
       "       [2.057e+01, 1.777e+01, 1.329e+02, ..., 1.860e-01, 2.750e-01,\n",
       "        8.902e-02],\n",
       "       [1.969e+01, 2.125e+01, 1.300e+02, ..., 2.430e-01, 3.613e-01,\n",
       "        8.758e-02],\n",
       "       ...,\n",
       "       [1.660e+01, 2.808e+01, 1.083e+02, ..., 1.418e-01, 2.218e-01,\n",
       "        7.820e-02],\n",
       "       [2.060e+01, 2.933e+01, 1.401e+02, ..., 2.650e-01, 4.087e-01,\n",
       "        1.240e-01],\n",
       "       [7.760e+00, 2.454e+01, 4.792e+01, ..., 0.000e+00, 2.871e-01,\n",
       "        7.039e-02]])"
      ]
     },
     "execution_count": 4,
     "metadata": {},
     "output_type": "execute_result"
    }
   ],
   "source": []
  },
  {
   "cell_type": "code",
   "execution_count": 3,
   "id": "cfc644e4fe751bfd",
   "metadata": {
    "ExecuteTime": {
     "end_time": "2023-11-05T19:09:08.975607400Z",
     "start_time": "2023-11-05T19:09:08.941815600Z"
    }
   },
   "outputs": [],
   "source": [
    "# NN setup\n",
    "n_hidden_layers = 1\n",
    "n_hidden_nodes = 2\n",
    "n_outputs = 1\n",
    "learning_rate=0.1\n",
    "\n"
   ]
  },
  {
   "cell_type": "code",
   "execution_count": 4,
   "id": "899ded6b98151d",
   "metadata": {
    "ExecuteTime": {
     "end_time": "2023-11-05T19:20:44.436612300Z",
     "start_time": "2023-11-05T19:09:08.965606500Z"
    }
   },
   "outputs": [
    {
     "name": "stderr",
     "output_type": "stream",
     "text": [
      "C:\\Users\\inepr\\Desktop\\FYS-STK4155_Projects\\Project 2\\activation_functions.py:33: RuntimeWarning: overflow encountered in exp\n",
      "  return 1 / (1 + np.exp(-x))\n",
      "\n",
      "KeyboardInterrupt\n",
      "\n"
     ]
    }
   ],
   "source": [
    "#training NN with breastcancer data\n",
    "NN_output_cancer = []\n",
    "\n",
    "for X_row, target_row in zip(X_orig, target_true):\n",
    "\n",
    "    X = jnp.array([X_row])\n",
    "    target = jnp.array([target_row])\n",
    "\n",
    "    nn = Neural_Network(X, target, n_hidden_layers, n_hidden_nodes, n_outputs,\n",
    "                      learning_rate, activation_function='sigmoid',\n",
    "                      classification_problem=True)\n",
    "\n",
    "    nn.feed_forward()\n",
    "\n",
    "\n",
    "    nn.feed_backward()\n",
    "    nn.train()\n",
    "\n",
    "    NN_output_cancer.append(nn.output_layer.output)\n",
    "\n",
    "\n",
    "print(NN_output_cancer)\n",
    "print(len(target_true))\n",
    "\n",
    "print(len(NN_output_cancer))\n",
    "\n"
   ]
  },
  {
   "cell_type": "code",
   "execution_count": null,
   "id": "58453eb89fdbb88",
   "metadata": {
    "ExecuteTime": {
     "end_time": "2023-11-05T19:20:44.494619900Z",
     "start_time": "2023-11-05T19:20:44.449613400Z"
    }
   },
   "outputs": [],
   "source": [
    "def accuracy_test(y_true, y_pred):\n",
    "    # y_true is the true labels of the data\n",
    "    # y_pred is the predicted labels of the data by the neural network\n",
    "    # Both y_true and y_pred are numpy arrays of the same shape\n",
    "\n",
    "    # Compare y_true and y_pred element-wise and count the number of matches\n",
    "    matches = 0\n",
    "\n",
    "    for true, pred in zip(y_true, y_pred):\n",
    "        if true == pred:\n",
    "            matches = matches + 1\n",
    "\n",
    "    # Calculate the accuracy as the ratio of matches to the total number of data points\n",
    "    accuracy = matches / len(y_true)\n",
    "\n",
    "    # Return the accuracy as a percentage\n",
    "    return accuracy * 100\n"
   ]
  },
  {
   "cell_type": "code",
   "execution_count": null,
   "id": "1ee67ab92124b8e",
   "metadata": {
    "ExecuteTime": {
     "start_time": "2023-11-05T19:20:44.452621900Z"
    }
   },
   "outputs": [],
   "source": [
    "accuracy_breast_cancer = accuracy_test(target_true, NN_output_cancer)\n",
    "print(accuracy_breast_cancer)"
   ]
  },
  {
   "cell_type": "code",
   "execution_count": null,
   "id": "24ef991052495e36",
   "metadata": {
    "ExecuteTime": {
     "start_time": "2023-11-05T19:20:44.455615700Z"
    }
   },
   "outputs": [],
   "source": [
    "\n",
    "# Making a data frame\n",
    "cancerpd = pd.DataFrame(cancer.data, columns=cancer.feature_names)\n",
    "\n",
    "print(cancerpd)"
   ]
  },
  {
   "cell_type": "code",
   "execution_count": 6,
   "id": "79544df5c96fb4a2",
   "metadata": {
    "ExecuteTime": {
     "end_time": "2023-11-05T19:42:05.518370300Z",
     "start_time": "2023-11-05T19:42:05.311501300Z"
    }
   },
   "outputs": [
    {
     "name": "stdout",
     "output_type": "stream",
     "text": [
      "[0. 0. 0. 0. 0. 0. 0. 0. 0. 0. 0. 0. 0. 0. 0. 0. 0. 0. 0. 1. 1. 1. 0. 0.\n",
      " 0. 0. 0.]\n",
      "(27,)\n"
     ]
    }
   ],
   "source": [
    "NN_output_cancer = jnp.array(NN_output_cancer).ravel()  # think this is correct format\n",
    "print(NN_output_cancer)\n",
    "print(NN_output_cancer.shape)\n",
    "\n"
   ]
  },
  {
   "cell_type": "code",
   "execution_count": null,
   "id": "6778cbe88f1f2233",
   "metadata": {
    "ExecuteTime": {
     "start_time": "2023-11-05T19:20:44.472616500Z"
    }
   },
   "outputs": [],
   "source": [
    "fig, axes = plt.subplots(15,2,figsize=(10,20))\n",
    "\n",
    "NN_output_cancer = jnp.array(NN_output_cancer.ravel())  # think this is correct format\n",
    "\n",
    "malignant = X_orig[NN_output_cancer == 0]\n",
    "print(malignant)\n",
    "print(malignant.shape)\n",
    "benign = X_orig[NN_output_cancer == 1]\n",
    "print(malignant)\n",
    "print(malignant.shape)\n",
    "ax = axes.ravel()\n",
    "\n",
    "for i in range(30):\n",
    "    _, bins = np.histogram(X_orig[:,i], bins =50)\n",
    "    ax[i].hist(malignant[:,i], bins = bins, alpha = 0.5)\n",
    "    ax[i].hist(benign[:,i], bins = bins, alpha = 0.5)\n",
    "    ax[i].set_title(cancer.feature_names[i])\n",
    "    ax[i].set_yticks(())\n",
    "ax[0].set_xlabel(\"Feature magnitude\")\n",
    "ax[0].set_ylabel(\"Frequency\")\n",
    "ax[0].legend([\"Malignant\", \"Benign\"], loc =\"best\")\n",
    "fig.tight_layout()\n",
    "plt.show()\n",
    "\n",
    "import seaborn as sns\n",
    "correlation_matrix = cancerpd.corr().round(1)\n",
    "# use the heatmap function from seaborn to plot the correlation matrix\n",
    "# annot = True to print the values inside the square\n",
    "plt.figure(figsize=(15,8))\n",
    "sns.heatmap(data=correlation_matrix, annot=True)\n",
    "plt.show()\n"
   ]
  }
 ],
 "metadata": {
  "kernelspec": {
   "display_name": "Python 3 (ipykernel)",
   "language": "python",
   "name": "python3"
  },
  "language_info": {
   "codemirror_mode": {
    "name": "ipython",
    "version": 3
   },
   "file_extension": ".py",
   "mimetype": "text/x-python",
   "name": "python",
   "nbconvert_exporter": "python",
   "pygments_lexer": "ipython3",
   "version": "3.10.12"
  }
 },
 "nbformat": 4,
 "nbformat_minor": 5
}
