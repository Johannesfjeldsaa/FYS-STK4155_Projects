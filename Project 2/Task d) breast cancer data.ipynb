{
 "cells": [
  {
   "cell_type": "markdown",
   "source": [
    "# Classification of breast tumors using FFNN based on Pytorch"
   ],
   "metadata": {
    "collapsed": false
   },
   "id": "45176b6322754f19"
  },
  {
   "cell_type": "markdown",
   "source": [
    "## Set up"
   ],
   "metadata": {
    "collapsed": false
   },
   "id": "a49f603c51b82bc"
  },
  {
   "cell_type": "markdown",
   "source": [
    "### Import libraries"
   ],
   "metadata": {
    "collapsed": false
   },
   "id": "d2585008493ef3d"
  },
  {
   "cell_type": "code",
   "execution_count": 1,
   "id": "initial_id",
   "metadata": {
    "collapsed": true,
    "ExecuteTime": {
     "end_time": "2023-11-13T13:46:15.706581500Z",
     "start_time": "2023-11-13T13:46:15.701829500Z"
    }
   },
   "outputs": [],
   "source": [
    "import sys\n",
    "import os\n",
    "\n",
    "# Add the 'src' directory to the Python path\n",
    "src_dir = os.path.join(os.path.dirname(os.getcwd()), 'src')\n",
    "sys.path.append(src_dir)"
   ]
  },
  {
   "cell_type": "code",
   "execution_count": 2,
   "outputs": [],
   "source": [
    "import torch\n",
    "\n",
    "import matplotlib.pyplot as plt\n",
    "import seaborn as sns\n",
    "\n",
    "import numpy as np\n",
    "\n",
    "from torch import nn, optim, tensor\n",
    "from Neural_Network_with_PyTorch import Neural_Network_PyTorch\n",
    "\n",
    "from sklearn.model_selection import train_test_split, KFold\n",
    "from sklearn.metrics import r2_score, mean_squared_error\n",
    "from sklearn import linear_model\n",
    "\n",
    "from tqdm import tqdm\n",
    "from copy import deepcopy\n",
    "\n",
    "seed = 1234\n",
    "torch.manual_seed(seed)\n",
    "np.random.seed(seed)"
   ],
   "metadata": {
    "collapsed": false,
    "ExecuteTime": {
     "end_time": "2023-11-13T13:46:18.464147700Z",
     "start_time": "2023-11-13T13:46:15.710607Z"
    }
   },
   "id": "da799ed8e55d7562"
  },
  {
   "cell_type": "markdown",
   "source": [
    "### Import Data"
   ],
   "metadata": {
    "collapsed": false
   },
   "id": "a2422acf2be57adb"
  },
  {
   "cell_type": "code",
   "execution_count": 4,
   "outputs": [],
   "source": [
    "from sklearn.datasets import load_breast_cancer\n",
    "# Load the data\n",
    "cancer = load_breast_cancer()\n",
    "X_orig = cancer.data\n",
    "target_true = cancer.target\n",
    "target_true = target_true.reshape(target_true.shape[0], 1)"
   ],
   "metadata": {
    "collapsed": false,
    "ExecuteTime": {
     "end_time": "2023-11-13T13:48:25.674278Z",
     "start_time": "2023-11-13T13:48:25.659530800Z"
    }
   },
   "id": "4c6d8d7b8f0efe52"
  }
 ],
 "metadata": {
  "kernelspec": {
   "display_name": "Python 3",
   "language": "python",
   "name": "python3"
  },
  "language_info": {
   "codemirror_mode": {
    "name": "ipython",
    "version": 2
   },
   "file_extension": ".py",
   "mimetype": "text/x-python",
   "name": "python",
   "nbconvert_exporter": "python",
   "pygments_lexer": "ipython2",
   "version": "2.7.6"
  }
 },
 "nbformat": 4,
 "nbformat_minor": 5
}
