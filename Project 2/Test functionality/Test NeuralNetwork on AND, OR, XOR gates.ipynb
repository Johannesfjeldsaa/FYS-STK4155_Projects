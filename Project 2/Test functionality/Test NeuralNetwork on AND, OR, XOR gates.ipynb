{
 "cells": [
  {
   "cell_type": "markdown",
   "id": "e7afe96c25bdcb58",
   "metadata": {},
   "source": [
    "# Neural Network from scratch"
   ]
  },
  {
   "cell_type": "markdown",
   "id": "c90e6f916891cf27",
   "metadata": {},
   "source": [
    "## Import packages"
   ]
  },
  {
   "cell_type": "markdown",
   "id": "2689abcb2fb696c6",
   "metadata": {},
   "source": [
    "Set src directory to the path where the NeuralNetwork.py file is located."
   ]
  },
  {
   "cell_type": "code",
   "execution_count": 1,
   "id": "37377cf094025a6d",
   "metadata": {},
   "outputs": [],
   "source": [
    "import sys\n",
    "import os\n",
    "\n",
    "# Add the 'src' directory to the Python path\n",
    "src_dir = os.path.join(os.path.dirname(os.getcwd()), 'src')\n",
    "sys.path.append(src_dir)"
   ]
  },
  {
   "cell_type": "code",
   "execution_count": 2,
   "id": "initial_id",
   "metadata": {
    "ExecuteTime": {
     "end_time": "2023-11-05T14:22:24.746286400Z",
     "start_time": "2023-11-05T14:22:24.631822700Z"
    }
   },
   "outputs": [],
   "source": [
    "from NeuralNetwork import Neural_Network\n",
    "from GD_class import GradientDescent\n",
    "from cost_functions import Cost_Functions\n",
    "import numpy as np\n",
    "import jax.numpy as jnp\n",
    "import matplotlib.pyplot as plt\n",
    "\n",
    "from sklearn.metrics import accuracy_score\n",
    "import seaborn as sns"
   ]
  },
  {
   "cell_type": "markdown",
   "id": "ec891228226aa63c",
   "metadata": {},
   "source": [
    "## Initiate neural network"
   ]
  },
  {
   "cell_type": "markdown",
   "id": "ef3a4c91e7bd67ea",
   "metadata": {},
   "source": [
    "1. Set up the design matrix with the inputs as discussed above and a vector containing the output, the so-called targets. Note that the design matrix is the same for all gates. You need just to define different outputs."
   ]
  },
  {
   "cell_type": "code",
   "execution_count": 3,
   "id": "8d0870a7",
   "metadata": {},
   "outputs": [],
   "source": [
    "def grad_cost_logreg(target, pred):\n",
    "    \n",
    "    return (pred - target)/(pred * (1 - pred))"
   ]
  },
  {
   "cell_type": "code",
   "execution_count": 4,
   "id": "8f56b6ba6623f14b",
   "metadata": {
    "ExecuteTime": {
     "end_time": "2023-11-05T14:22:24.881854900Z",
     "start_time": "2023-11-05T14:22:24.656823900Z"
    }
   },
   "outputs": [],
   "source": [
    "np.random.seed(1234)\n",
    "\n",
    "# Create design matrix\n",
    "X = jnp.array([[0, 0],\n",
    "               [0, 1],\n",
    "               [1, 0],\n",
    "               [1, 1]])\n",
    "\n",
    "# The XOR gate\n",
    "target_XOR = jnp.array( [ 0, 1 ,1, 0])\n",
    "# The OR gate\n",
    "target_OR = jnp.array( [ 0, 1 ,1, 1])\n",
    "# The AND gate\n",
    "target_AND = jnp.array( [ 0, 0 ,0, 1])\n",
    "\n",
    "target = target_AND.reshape(len(target_AND), 1)  # Needs to be of shape (n_inputs, 1) for grad_cost_logreg to work\n"
   ]
  },
  {
   "cell_type": "markdown",
   "id": "339a0c6e2a4febd7",
   "metadata": {},
   "source": [
    "2. Construct a neural network with only one hidden layer and two hidden nodes using the Sigmoid function as activation function."
   ]
  },
  {
   "cell_type": "code",
   "execution_count": 5,
   "id": "c2f098900ba9f2a7",
   "metadata": {
    "ExecuteTime": {
     "end_time": "2023-11-05T14:22:24.900856700Z",
     "start_time": "2023-11-05T14:22:24.679747800Z"
    }
   },
   "outputs": [
    {
     "data": {
      "text/plain": [
       "'Neural Network with 1 hidden layers and [2] nodes per layer. The activation function for hidden layers is sigmoid.The activation function for the output layer is sigmoid.'"
      ]
     },
     "execution_count": 5,
     "metadata": {},
     "output_type": "execute_result"
    }
   ],
   "source": [
    "n_hidden_layers = 1\n",
    "n_hidden_nodes = 2\n",
    "n_outputs = 1\n",
    "learning_rate=0.1\n",
    "n_features = X.shape[1]  # Is called n_inputs in class, should probably be features\n",
    "\n",
    "ffnn = Neural_Network(n_features, n_hidden_layers, n_hidden_nodes, n_outputs, \n",
    "                      grad_cost_function=grad_cost_logreg,\n",
    "                      learning_rate=learning_rate, activation_function_hidden='sigmoid',\n",
    "                      activation_function_output='sigmoid',\n",
    "                      optimizer=None,\n",
    "                      classification_problem=True)\n",
    "\n",
    "str(ffnn)"
   ]
  },
  {
   "cell_type": "markdown",
   "id": "285abc1b97084f53",
   "metadata": {},
   "source": [
    "3. Set up the output layer with only one output node and use again the Sigmoid function as activation function for the output."
   ]
  },
  {
   "cell_type": "markdown",
   "id": "2f54e143b8e4c3b",
   "metadata": {},
   "source": []
  },
  {
   "cell_type": "code",
   "execution_count": 6,
   "id": "f3a8fdd8984ecbd8",
   "metadata": {
    "ExecuteTime": {
     "end_time": "2023-11-05T14:22:24.904858100Z",
     "start_time": "2023-11-05T14:22:24.697712300Z"
    }
   },
   "outputs": [
    {
     "name": "stdout",
     "output_type": "stream",
     "text": [
      "Output layer has 1 node and uses the sigmoid as activation function\n"
     ]
    }
   ],
   "source": [
    "print(f'Output layer has {ffnn.output_layer.n_nodes} node and uses the {str(ffnn.output_layer.activation_function)} as activation function')"
   ]
  },
  {
   "cell_type": "markdown",
   "id": "5d066a4645a122bc",
   "metadata": {},
   "source": [
    "4. Initialize the weights and biases and perform a feed forward pass and compare the outputs with the targets."
   ]
  },
  {
   "cell_type": "code",
   "execution_count": 7,
   "id": "d767c0df481cde5b",
   "metadata": {
    "ExecuteTime": {
     "end_time": "2023-11-05T14:22:24.947859900Z",
     "start_time": "2023-11-05T14:22:24.711724200Z"
    }
   },
   "outputs": [
    {
     "name": "stdout",
     "output_type": "stream",
     "text": [
      "Weights hidden layer 1:\n",
      "[[ 0.04714352 -0.11909757]\n",
      " [ 0.1432707  -0.03126519]]\n",
      "Biases hidden layer 1:\n",
      "[[0. 0.]]\n",
      "weights output layer:\n",
      "[[-0.07205887]\n",
      " [ 0.08871629]]\n",
      "Biases output layer:\n",
      "[[0.]]\n"
     ]
    }
   ],
   "source": [
    "print('Weights hidden layer 1:\\n'\n",
    "      f'{ffnn.hidden_layers[0].weights}')\n",
    "print('Biases hidden layer 1:\\n'\n",
    "      f'{ffnn.hidden_layers[0].biases}')\n",
    "\n",
    "print('weights output layer:\\n'\n",
    "      f'{ffnn.output_layer.weights}')\n",
    "print('Biases output layer:\\n'\n",
    "      f'{ffnn.output_layer.biases}')"
   ]
  },
  {
   "cell_type": "code",
   "execution_count": 8,
   "id": "442bf7331f27ac00",
   "metadata": {
    "ExecuteTime": {
     "end_time": "2023-11-05T14:22:24.983864300Z",
     "start_time": "2023-11-05T14:22:24.729771400Z"
    }
   },
   "outputs": [
    {
     "name": "stdout",
     "output_type": "stream",
     "text": [
      "Final prediction before training:\n",
      "[[0.50208217]\n",
      " [0.5012647 ]\n",
      " [0.5012103 ]\n",
      " [0.500395  ]]\n"
     ]
    }
   ],
   "source": [
    "ffnn.feed_forward(X)\n",
    "\n",
    "print(\"Final prediction before training:\\n\"\n",
    "      f\"{ffnn.output_layer.output}\")"
   ]
  },
  {
   "cell_type": "markdown",
   "id": "548e9e24",
   "metadata": {},
   "source": [
    "5. Set up the cost function (cross entropy for classification of binary cases).\n",
    "\n",
    "6. Calculate the gradients needed for the back propagation part.\n",
    "\n",
    "7. Use the gradients to train the network in the back propagation part. Think of using automatic differentiation."
   ]
  },
  {
   "cell_type": "code",
   "execution_count": 9,
   "id": "11e8a07f",
   "metadata": {
    "ExecuteTime": {
     "end_time": "2023-11-05T14:22:24.986866300Z",
     "start_time": "2023-11-05T14:22:24.744286700Z"
    }
   },
   "outputs": [
    {
     "name": "stdout",
     "output_type": "stream",
     "text": [
      "Weights and biases after one backward propagation: \n",
      "\n",
      "Weights hidden layer 1:\n",
      "[[ 0.14713399 -0.21908052]\n",
      " [ 0.24325529 -0.13125482]]\n",
      "Biases hidden layer 1:\n",
      "[[ 0.09999995 -0.09999996]]\n",
      "weights output layer:\n",
      "[[-0.17205888]\n",
      " [-0.01128371]]\n",
      "Biases output layer:\n",
      "[[-0.1]]\n"
     ]
    }
   ],
   "source": [
    "ffnn.feed_backward(X, target)\n",
    "\n",
    "print('Weights and biases after one backward propagation: \\n')\n",
    "\n",
    "print('Weights hidden layer 1:\\n'\n",
    "      f'{ffnn.hidden_layers[0].weights}')\n",
    "print('Biases hidden layer 1:\\n'\n",
    "      f'{ffnn.hidden_layers[0].biases}')\n",
    "\n",
    "print('weights output layer:\\n'\n",
    "      f'{ffnn.output_layer.weights}')\n",
    "print('Biases output layer:\\n'\n",
    "      f'{ffnn.output_layer.biases}')\n"
   ]
  },
  {
   "cell_type": "markdown",
   "id": "245e1613",
   "metadata": {},
   "source": [
    "8. Train the network and study your results and compare with results obtained either with scikit-learn or TensorFlow."
   ]
  },
  {
   "cell_type": "code",
   "execution_count": 10,
   "id": "f8bfa5e4",
   "metadata": {
    "ExecuteTime": {
     "end_time": "2023-11-05T14:22:50.733084700Z",
     "start_time": "2023-11-05T14:22:24.790857300Z"
    }
   },
   "outputs": [
    {
     "name": "stdout",
     "output_type": "stream",
     "text": [
      "Weights and biases after training: \n",
      "\n",
      "Weights hidden layer 1:\n",
      "[[-4.064101  -4.9692655]\n",
      " [-4.0501413 -4.9768233]]\n",
      "Biases hidden layer 1:\n",
      "[[5.145253  6.5612745]]\n",
      "weights output layer:\n",
      "[[-4.7446074]\n",
      " [-5.5868053]]\n",
      "Biases output layer:\n",
      "[[3.4267898]]\n",
      "\n",
      "Final prediction after training:\n",
      "[[0.00105916]\n",
      " [0.00865036]\n",
      " [0.00870959]\n",
      " [0.95216024]]\n"
     ]
    }
   ],
   "source": [
    "ffnn.train(X, target, num_iter=100)\n",
    "\n",
    "print('Weights and biases after training: \\n')\n",
    "\n",
    "print('Weights hidden layer 1:\\n'\n",
    "      f'{ffnn.hidden_layers[0].weights}')\n",
    "print('Biases hidden layer 1:\\n'\n",
    "      f'{ffnn.hidden_layers[0].biases}')\n",
    "\n",
    "print('weights output layer:\\n'\n",
    "      f'{ffnn.output_layer.weights}')\n",
    "print('Biases output layer:\\n'\n",
    "      f'{ffnn.output_layer.biases}')\n",
    "\n",
    "print(\"\\nFinal prediction after training:\\n\"\n",
    "      f\"{ffnn.output_layer.output}\")\n"
   ]
  },
  {
   "cell_type": "code",
   "execution_count": 11,
   "id": "e8e349c9",
   "metadata": {},
   "outputs": [
    {
     "data": {
      "image/png": "[encoded data removed]",
      "text/plain": [
       "<Figure size 1000x1000 with 2 Axes>"
      ]
     },
     "metadata": {},
     "output_type": "display_data"
    }
   ],
   "source": [
    "# Using and gate\n",
    "\n",
    "target = target_AND.reshape(len(target_AND), 1)\n",
    "\n",
    "learning_rates = np.logspace(-4, 0, 5)\n",
    "lmbd_vals = np.logspace(-4, 0, 5)\n",
    "\n",
    "accuracy = np.zeros((len(learning_rates), len(lmbd_vals)))\n",
    "\n",
    "for i, lr in enumerate(learning_rates):\n",
    "    for j, lmbd in enumerate(lmbd_vals):\n",
    "        \n",
    "        #optimizer = GradientDescent(learning_rate=lr)\n",
    "        \n",
    "        ffnn = Neural_Network(n_features, n_hidden_layers, n_hidden_nodes, n_outputs, \n",
    "                              grad_cost_function=grad_cost_logreg,\n",
    "                              learning_rate=lr, \n",
    "                              lmbd=lmbd, \n",
    "                              activation_function_hidden='sigmoid',\n",
    "                              activation_function_output='sigmoid',\n",
    "                              optimizer=None,\n",
    "                              classification_problem=True)\n",
    "        \n",
    "        ffnn.train(X, target, num_iter=100)\n",
    "        pred = ffnn.predict(X)\n",
    "\n",
    "        accuracy[i][j] = accuracy_score(target_AND, pred)\n",
    "        \n",
    "fig, ax = plt.subplots(figsize = (10, 10))\n",
    "sns.heatmap(accuracy, annot=True, ax=ax, cmap=\"viridis\")\n",
    "ax.set_title(\"Training Accuracy\")\n",
    "ax.set_ylabel(\"learning rate\")\n",
    "ax.set_xlabel(\"lambda\")\n",
    "plt.show()"
   ]
  },
  {
   "cell_type": "code",
   "execution_count": 15,
   "id": "5bfd0a08",
   "metadata": {},
   "outputs": [
    {
     "data": {
      "image/png": "[encoded data removed]",
      "text/plain": [
       "<Figure size 1000x1000 with 2 Axes>"
      ]
     },
     "metadata": {},
     "output_type": "display_data"
    }
   ],
   "source": [
    "# Using or gate\n",
    "\n",
    "target = target_OR.reshape(len(target_OR), 1)\n",
    "\n",
    "learning_rates = np.logspace(-4, 0, 5)\n",
    "lmbd_vals = np.logspace(-4, 0, 5)\n",
    "\n",
    "accuracy = np.zeros((len(learning_rates), len(lmbd_vals)))\n",
    "\n",
    "for i, lr in enumerate(learning_rates):\n",
    "    for j, lmbd in enumerate(lmbd_vals):\n",
    "        \n",
    "        optimizer = GradientDescent(learning_rate=lr)\n",
    "        \n",
    "        ffnn = Neural_Network(n_features, n_hidden_layers, n_hidden_nodes, n_outputs, \n",
    "                              grad_cost_function=grad_cost_logreg,\n",
    "                              learning_rate=lr, \n",
    "                              lmbd=lmbd, \n",
    "                              activation_function_hidden='sigmoid',\n",
    "                              activation_function_output='sigmoid',\n",
    "                              optimizer=None,\n",
    "                              classification_problem=True)\n",
    "        \n",
    "        ffnn.train(X, target, num_iter=1000)\n",
    "        pred = ffnn.predict(X)\n",
    "\n",
    "        accuracy[i][j] = accuracy_score(target_OR, pred)\n",
    "        \n",
    "fig, ax = plt.subplots(figsize = (10, 10))\n",
    "sns.heatmap(accuracy, annot=True, ax=ax, cmap=\"viridis\")\n",
    "ax.set_title(\"Training Accuracy\")\n",
    "ax.set_ylabel(\"learning rate\")\n",
    "ax.set_xlabel(\"lambda\")\n",
    "plt.show()"
   ]
  },
  {
   "cell_type": "code",
   "execution_count": 16,
   "id": "1eaf2a0a",
   "metadata": {},
   "outputs": [
    {
     "ename": "TypeError",
     "evalue": "Neural_Network.__init__() got an unexpected keyword argument 'cost_function'",
     "output_type": "error",
     "traceback": [
      "\u001b[1;31m---------------------------------------------------------------------------\u001b[0m",
      "\u001b[1;31mTypeError\u001b[0m                                 Traceback (most recent call last)",
      "Cell \u001b[1;32mIn[16], line 15\u001b[0m\n\u001b[0;32m     11\u001b[0m \u001b[38;5;28;01mfor\u001b[39;00m j, lmbd \u001b[38;5;129;01min\u001b[39;00m \u001b[38;5;28menumerate\u001b[39m(lmbd_vals):\n\u001b[0;32m     13\u001b[0m     optimizer \u001b[38;5;241m=\u001b[39m GradientDescent(learning_rate\u001b[38;5;241m=\u001b[39mlr)\n\u001b[1;32m---> 15\u001b[0m     ffnn \u001b[38;5;241m=\u001b[39m \u001b[43mNeural_Network\u001b[49m\u001b[43m(\u001b[49m\u001b[43mn_features\u001b[49m\u001b[43m,\u001b[49m\u001b[43m \u001b[49m\u001b[43mn_hidden_layers\u001b[49m\u001b[43m,\u001b[49m\u001b[43m \u001b[49m\u001b[43mn_hidden_nodes\u001b[49m\u001b[43m,\u001b[49m\u001b[43m \u001b[49m\u001b[43mn_outputs\u001b[49m\u001b[43m,\u001b[49m\u001b[43m \u001b[49m\n\u001b[0;32m     16\u001b[0m \u001b[43m                          \u001b[49m\u001b[43mcost_function\u001b[49m\u001b[38;5;241;43m=\u001b[39;49m\u001b[43mgrad_cost_logreg\u001b[49m\u001b[43m,\u001b[49m\n\u001b[0;32m     17\u001b[0m \u001b[43m                          \u001b[49m\u001b[43mlearning_rate\u001b[49m\u001b[38;5;241;43m=\u001b[39;49m\u001b[43mlr\u001b[49m\u001b[43m,\u001b[49m\u001b[43m \u001b[49m\n\u001b[0;32m     18\u001b[0m \u001b[43m                          \u001b[49m\u001b[43mlmbd\u001b[49m\u001b[38;5;241;43m=\u001b[39;49m\u001b[43mlmbd\u001b[49m\u001b[43m,\u001b[49m\u001b[43m \u001b[49m\n\u001b[0;32m     19\u001b[0m \u001b[43m                          \u001b[49m\u001b[43mactivation_function_hidden\u001b[49m\u001b[38;5;241;43m=\u001b[39;49m\u001b[38;5;124;43m'\u001b[39;49m\u001b[38;5;124;43msigmoid\u001b[39;49m\u001b[38;5;124;43m'\u001b[39;49m\u001b[43m,\u001b[49m\n\u001b[0;32m     20\u001b[0m \u001b[43m                          \u001b[49m\u001b[43mactivation_function_output\u001b[49m\u001b[38;5;241;43m=\u001b[39;49m\u001b[38;5;124;43m'\u001b[39;49m\u001b[38;5;124;43msigmoid\u001b[39;49m\u001b[38;5;124;43m'\u001b[39;49m\u001b[43m,\u001b[49m\n\u001b[0;32m     21\u001b[0m \u001b[43m                          \u001b[49m\u001b[43moptimizer\u001b[49m\u001b[38;5;241;43m=\u001b[39;49m\u001b[38;5;28;43;01mNone\u001b[39;49;00m\u001b[43m,\u001b[49m\n\u001b[0;32m     22\u001b[0m \u001b[43m                          \u001b[49m\u001b[43mclassification_problem\u001b[49m\u001b[38;5;241;43m=\u001b[39;49m\u001b[38;5;28;43;01mTrue\u001b[39;49;00m\u001b[43m)\u001b[49m\n\u001b[0;32m     24\u001b[0m     ffnn\u001b[38;5;241m.\u001b[39mtrain(X, target, num_iter\u001b[38;5;241m=\u001b[39m\u001b[38;5;241m100\u001b[39m)\n\u001b[0;32m     25\u001b[0m     pred \u001b[38;5;241m=\u001b[39m ffnn\u001b[38;5;241m.\u001b[39mpredict(X)\n",
      "\u001b[1;31mTypeError\u001b[0m: Neural_Network.__init__() got an unexpected keyword argument 'cost_function'"
     ]
    }
   ],
   "source": [
    "# Using xor gate\n",
    "\n",
    "target = target_XOR.reshape(len(target_XOR), 1)\n",
    "\n",
    "learning_rates = np.logspace(-4, 0, 5)\n",
    "lmbd_vals = np.logspace(-4, 0, 5)\n",
    "\n",
    "accuracy = np.zeros((len(learning_rates), len(lmbd_vals)))\n",
    "\n",
    "for i, lr in enumerate(learning_rates):\n",
    "    for j, lmbd in enumerate(lmbd_vals):\n",
    "        \n",
    "        optimizer = GradientDescent(learning_rate=lr)\n",
    "        \n",
    "        ffnn = Neural_Network(n_features, n_hidden_layers, n_hidden_nodes, n_outputs, \n",
    "                              grad_cost_function=grad_cost_logreg,\n",
    "                              learning_rate=lr, \n",
    "                              lmbd=lmbd, \n",
    "                              activation_function_hidden='sigmoid',\n",
    "                              activation_function_output='sigmoid',\n",
    "                              optimizer=None,\n",
    "                              classification_problem=True)\n",
    "        \n",
    "        ffnn.train(X, target, num_iter=100)\n",
    "        pred = ffnn.predict(X)\n",
    "\n",
    "        accuracy[i][j] = accuracy_score(target_XOR, pred)\n",
    "        \n",
    "fig, ax = plt.subplots(figsize = (10, 10))\n",
    "sns.heatmap(accuracy, annot=True, ax=ax, cmap=\"viridis\")\n",
    "ax.set_title(\"Training Accuracy\")\n",
    "ax.set_ylabel(\"learning rate\")\n",
    "ax.set_xlabel(\"lambda\")\n",
    "plt.show()"
   ]
  },
  {
   "cell_type": "code",
   "execution_count": null,
   "id": "0bbdc3a2",
   "metadata": {},
   "outputs": [],
   "source": []
  },
  {
   "cell_type": "code",
   "execution_count": null,
   "id": "3a19f4c9",
   "metadata": {},
   "outputs": [],
   "source": []
  }
 ],
 "metadata": {
  "kernelspec": {
   "display_name": "Python 3 (ipykernel)",
   "language": "python",
   "name": "python3"
  },
  "language_info": {
   "codemirror_mode": {
    "name": "ipython",
    "version": 3
   },
   "file_extension": ".py",
   "mimetype": "text/x-python",
   "name": "python",
   "nbconvert_exporter": "python",
   "pygments_lexer": "ipython3",
   "version": "3.10.12"
  }
 },
 "nbformat": 4,
 "nbformat_minor": 5
}
