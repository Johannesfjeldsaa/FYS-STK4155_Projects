{
 "cells": [
  {
   "cell_type": "markdown",
   "id": "e7afe96c25bdcb58",
   "metadata": {},
   "source": [
    "# Neural Network from scratch"
   ]
  },
  {
   "cell_type": "markdown",
   "id": "c90e6f916891cf27",
   "metadata": {},
   "source": [
    "## Import packages"
   ]
  },
  {
   "cell_type": "markdown",
   "id": "2689abcb2fb696c6",
   "metadata": {},
   "source": [
    "Set src directory to the path where the NeuralNetwork.py file is located."
   ]
  },
  {
   "cell_type": "code",
   "execution_count": 1,
   "id": "37377cf094025a6d",
   "metadata": {},
   "outputs": [],
   "source": [
    "import sys\n",
    "import os\n",
    "\n",
    "# Add the 'src' directory to the Python path\n",
    "src_dir = os.path.join(os.path.dirname(os.getcwd()), 'src')\n",
    "sys.path.append(src_dir)"
   ]
  },
  {
   "cell_type": "code",
   "execution_count": 2,
   "id": "initial_id",
   "metadata": {
    "ExecuteTime": {
     "end_time": "2023-11-05T14:22:24.746286400Z",
     "start_time": "2023-11-05T14:22:24.631822700Z"
    }
   },
   "outputs": [],
   "source": [
    "from NeuralNetwork import Neural_Network\n",
    "from GD_class import GradientDescent\n",
    "from cost_functions import Cost_Functions\n",
    "import numpy as np\n",
    "import jax.numpy as jnp\n",
    "import matplotlib.pyplot as plt\n",
    "\n",
    "from sklearn.metrics import accuracy_score\n",
    "import seaborn as sns"
   ]
  },
  {
   "cell_type": "markdown",
   "id": "ec891228226aa63c",
   "metadata": {},
   "source": [
    "## Initiate neural network"
   ]
  },
  {
   "cell_type": "markdown",
   "id": "ef3a4c91e7bd67ea",
   "metadata": {},
   "source": [
    "1. Set up the design matrix with the inputs as discussed above and a vector containing the output, the so-called targets. Note that the design matrix is the same for all gates. You need just to define different outputs."
   ]
  },
  {
   "cell_type": "code",
   "execution_count": 3,
   "id": "8f56b6ba6623f14b",
   "metadata": {
    "ExecuteTime": {
     "end_time": "2023-11-05T14:22:24.881854900Z",
     "start_time": "2023-11-05T14:22:24.656823900Z"
    }
   },
   "outputs": [],
   "source": [
    "np.random.seed(1234)\n",
    "\n",
    "# Create design matrix\n",
    "X = jnp.array([[0, 0],\n",
    "               [0, 1],\n",
    "               [1, 0],\n",
    "               [1, 1]])\n",
    "\n",
    "#X = jnp.array([[0, 1]])\n",
    "\n",
    "# The XOR gate\n",
    "target_XOR = jnp.array( [ 0, 1 ,1, 0])\n",
    "# The OR gate\n",
    "target_OR = jnp.array( [ 0, 1 ,1, 1])\n",
    "# The AND gate\n",
    "target_AND = jnp.array( [ 0, 0 ,0, 1])\n",
    "\n",
    "target = jnp.array([0])"
   ]
  },
  {
   "cell_type": "markdown",
   "id": "339a0c6e2a4febd7",
   "metadata": {},
   "source": [
    "2. Construct a neural network with only one hidden layer and two hidden nodes using the Sigmoid function as activation function."
   ]
  },
  {
   "cell_type": "code",
   "execution_count": 4,
   "id": "631dd722",
   "metadata": {},
   "outputs": [],
   "source": [
    "cost_function = Cost_Functions('LogReg', target_AND)"
   ]
  },
  {
   "cell_type": "code",
   "execution_count": 5,
   "id": "c2f098900ba9f2a7",
   "metadata": {
    "ExecuteTime": {
     "end_time": "2023-11-05T14:22:24.900856700Z",
     "start_time": "2023-11-05T14:22:24.679747800Z"
    }
   },
   "outputs": [
    {
     "data": {
      "text/plain": [
       "'Neural Network with 1 hidden layers and [2] nodes per layer. The activation function for hidden layers is sigmoid.The activation function for the output layer is sigmoid.'"
      ]
     },
     "execution_count": 5,
     "metadata": {},
     "output_type": "execute_result"
    }
   ],
   "source": [
    "n_hidden_layers = 1\n",
    "n_hidden_nodes = 2\n",
    "n_outputs = 1\n",
    "learning_rate=0.1\n",
    "n_inputs = X.shape[1]\n",
    "\n",
    "ffnn = Neural_Network(n_inputs, n_hidden_layers, n_hidden_nodes, n_outputs, \n",
    "                      cost_function=cost_function,\n",
    "                      learning_rate=learning_rate, activation_function_hidden='sigmoid',\n",
    "                      activation_function_output='sigmoid',\n",
    "                      optimizer=None,\n",
    "                      classification_problem=True)\n",
    "\n",
    "str(ffnn)"
   ]
  },
  {
   "cell_type": "markdown",
   "id": "285abc1b97084f53",
   "metadata": {},
   "source": [
    "3. Set up the output layer with only one output node and use again the Sigmoid function as activation function for the output."
   ]
  },
  {
   "cell_type": "markdown",
   "id": "2f54e143b8e4c3b",
   "metadata": {},
   "source": []
  },
  {
   "cell_type": "code",
   "execution_count": 6,
   "id": "f3a8fdd8984ecbd8",
   "metadata": {
    "ExecuteTime": {
     "end_time": "2023-11-05T14:22:24.904858100Z",
     "start_time": "2023-11-05T14:22:24.697712300Z"
    }
   },
   "outputs": [
    {
     "name": "stdout",
     "output_type": "stream",
     "text": [
      "Output layer has 1 node and uses the sigmoid as activation function\n"
     ]
    }
   ],
   "source": [
    "print(f'Output layer has {ffnn.output_layer.n_nodes} node and uses the {str(ffnn.output_layer.activation_function)} as activation function')"
   ]
  },
  {
   "cell_type": "markdown",
   "id": "5d066a4645a122bc",
   "metadata": {},
   "source": [
    "4. Initialize the weights and biases and perform a feed forward pass and compare the outputs with the targets."
   ]
  },
  {
   "cell_type": "code",
   "execution_count": 7,
   "id": "d767c0df481cde5b",
   "metadata": {
    "ExecuteTime": {
     "end_time": "2023-11-05T14:22:24.947859900Z",
     "start_time": "2023-11-05T14:22:24.711724200Z"
    }
   },
   "outputs": [
    {
     "name": "stdout",
     "output_type": "stream",
     "text": [
      "Weights hidden layer 1:\n",
      "[[ 0.47143516 -1.19097569]\n",
      " [ 1.43270697 -0.3126519 ]]\n",
      "Biases hidden layer 1:\n",
      "[[0.01 0.01]]\n",
      "weights output layer:\n",
      "[[-0.72058873]\n",
      " [ 0.88716294]]\n",
      "Biases output layer:\n",
      "[[0.01]]\n"
     ]
    }
   ],
   "source": [
    "print('Weights hidden layer 1:\\n'\n",
    "      f'{ffnn.hidden_layers[0].weights}')\n",
    "print('Biases hidden layer 1:\\n'\n",
    "      f'{ffnn.hidden_layers[0].biases}')\n",
    "\n",
    "print('weights output layer:\\n'\n",
    "      f'{ffnn.output_layer.weights}')\n",
    "print('Biases output layer:\\n'\n",
    "      f'{ffnn.output_layer.biases}')"
   ]
  },
  {
   "cell_type": "code",
   "execution_count": 8,
   "id": "442bf7331f27ac00",
   "metadata": {
    "ExecuteTime": {
     "end_time": "2023-11-05T14:22:24.983864300Z",
     "start_time": "2023-11-05T14:22:24.729771400Z"
    }
   },
   "outputs": [
    {
     "name": "stdout",
     "output_type": "stream",
     "text": [
      "Final prediction before training:\n",
      "[[0.5234088 ]\n",
      " [0.4511807 ]\n",
      " [0.44348943]\n",
      " [0.3881025 ]]\n"
     ]
    }
   ],
   "source": [
    "ffnn.feed_forward(X)\n",
    "\n",
    "print(\"Final prediction before training:\\n\"\n",
    "      f\"{ffnn.output_layer.output}\")"
   ]
  },
  {
   "cell_type": "markdown",
   "id": "548e9e24",
   "metadata": {},
   "source": [
    "5. Set up the cost function (cross entropy for classification of binary cases).\n",
    "\n",
    "6. Calculate the gradients needed for the back propagation part.\n",
    "\n",
    "7. Use the gradients to train the network in the back propagation part. Think of using automatic differentiation."
   ]
  },
  {
   "cell_type": "code",
   "execution_count": 9,
   "id": "11e8a07f",
   "metadata": {
    "ExecuteTime": {
     "end_time": "2023-11-05T14:22:24.986866300Z",
     "start_time": "2023-11-05T14:22:24.744286700Z"
    }
   },
   "outputs": [
    {
     "name": "stdout",
     "output_type": "stream",
     "text": [
      "Weights and biases after one backward propagation: \n",
      "\n",
      "Weights hidden layer 1:\n",
      "[[ 0.57143515 -1.2909757 ]\n",
      " [ 1.532707   -0.4126519 ]]\n",
      "Biases hidden layer 1:\n",
      "[[ 0.10999999 -0.09      ]]\n",
      "weights output layer:\n",
      "[[-0.82058877]\n",
      " [ 0.7871629 ]]\n",
      "Biases output layer:\n",
      "[[-0.09]]\n"
     ]
    }
   ],
   "source": [
    "ffnn.feed_backward(X)\n",
    "\n",
    "print('Weights and biases after one backward propagation: \\n')\n",
    "\n",
    "print('Weights hidden layer 1:\\n'\n",
    "      f'{ffnn.hidden_layers[0].weights}')\n",
    "print('Biases hidden layer 1:\\n'\n",
    "      f'{ffnn.hidden_layers[0].biases}')\n",
    "\n",
    "print('weights output layer:\\n'\n",
    "      f'{ffnn.output_layer.weights}')\n",
    "print('Biases output layer:\\n'\n",
    "      f'{ffnn.output_layer.biases}')\n"
   ]
  },
  {
   "cell_type": "markdown",
   "id": "245e1613",
   "metadata": {},
   "source": [
    "8. Train the network and study your results and compare with results obtained either with scikit-learn or TensorFlow."
   ]
  },
  {
   "cell_type": "code",
   "execution_count": 10,
   "id": "f8bfa5e4",
   "metadata": {
    "ExecuteTime": {
     "end_time": "2023-11-05T14:22:50.733084700Z",
     "start_time": "2023-11-05T14:22:24.790857300Z"
    }
   },
   "outputs": [
    {
     "name": "stdout",
     "output_type": "stream",
     "text": [
      "Weights and biases after training: \n",
      "\n",
      "Weights hidden layer 1:\n",
      "[[ 0.824173  -1.8301361]\n",
      " [ 0.7554388 -1.0797226]]\n",
      "Biases hidden layer 1:\n",
      "[[ 1.2749512 -0.8548469]]\n",
      "weights output layer:\n",
      "[[-0.7349072 ]\n",
      " [-0.40803277]]\n",
      "Biases output layer:\n",
      "[[-0.4005143]]\n",
      "\n",
      "Final prediction after training:\n",
      "[[0.]\n",
      " [0.]\n",
      " [0.]\n",
      " [0.]]\n"
     ]
    }
   ],
   "source": [
    "ffnn.train(X, num_iter=100)\n",
    "\n",
    "print('Weights and biases after training: \\n')\n",
    "\n",
    "print('Weights hidden layer 1:\\n'\n",
    "      f'{ffnn.hidden_layers[0].weights}')\n",
    "print('Biases hidden layer 1:\\n'\n",
    "      f'{ffnn.hidden_layers[0].biases}')\n",
    "\n",
    "print('weights output layer:\\n'\n",
    "      f'{ffnn.output_layer.weights}')\n",
    "print('Biases output layer:\\n'\n",
    "      f'{ffnn.output_layer.biases}')\n",
    "\n",
    "print(\"\\nFinal prediction after training:\\n\"\n",
    "      f\"{ffnn.output_layer.output}\")\n"
   ]
  },
  {
   "cell_type": "code",
   "execution_count": 11,
   "id": "9708f331",
   "metadata": {},
   "outputs": [
    {
     "name": "stderr",
     "output_type": "stream",
     "text": [
      "C:\\Users\\vildesn\\FYS_STK_4155\\Projects\\Project 2\\src\\activation_functions.py:33: RuntimeWarning: overflow encountered in exp\n",
      "  return 1 / (1 + np.exp(-x))\n",
      "C:\\Users\\vildesn\\FYS_STK_4155\\Projects\\Project 2\\src\\activation_functions.py:33: RuntimeWarning: overflow encountered in exp\n",
      "  return 1 / (1 + np.exp(-x))\n",
      "C:\\Users\\vildesn\\FYS_STK_4155\\Projects\\Project 2\\src\\activation_functions.py:33: RuntimeWarning: overflow encountered in exp\n",
      "  return 1 / (1 + np.exp(-x))\n",
      "C:\\Users\\vildesn\\FYS_STK_4155\\Projects\\Project 2\\src\\activation_functions.py:33: RuntimeWarning: overflow encountered in exp\n",
      "  return 1 / (1 + np.exp(-x))\n",
      "C:\\Users\\vildesn\\FYS_STK_4155\\Projects\\Project 2\\src\\NeuralNetwork.py:63: RuntimeWarning: invalid value encountered in matmul\n",
      "  self.delta = np.matmul(delta_next, weights_next.T) * da_dz\n",
      "C:\\Users\\vildesn\\FYS_STK_4155\\Projects\\Project 2\\src\\activation_functions.py:33: RuntimeWarning: overflow encountered in exp\n",
      "  return 1 / (1 + np.exp(-x))\n",
      "C:\\Users\\vildesn\\FYS_STK_4155\\Projects\\Project 2\\src\\NeuralNetwork.py:63: RuntimeWarning: invalid value encountered in matmul\n",
      "  self.delta = np.matmul(delta_next, weights_next.T) * da_dz\n",
      "C:\\Users\\vildesn\\FYS_STK_4155\\Projects\\Project 2\\src\\activation_functions.py:33: RuntimeWarning: overflow encountered in exp\n",
      "  return 1 / (1 + np.exp(-x))\n",
      "C:\\Users\\vildesn\\FYS_STK_4155\\Projects\\Project 2\\src\\activation_functions.py:33: RuntimeWarning: overflow encountered in exp\n",
      "  return 1 / (1 + np.exp(-x))\n",
      "C:\\Users\\vildesn\\FYS_STK_4155\\Projects\\Project 2\\src\\NeuralNetwork.py:63: RuntimeWarning: invalid value encountered in matmul\n",
      "  self.delta = np.matmul(delta_next, weights_next.T) * da_dz\n",
      "C:\\Users\\vildesn\\FYS_STK_4155\\Projects\\Project 2\\src\\activation_functions.py:33: RuntimeWarning: overflow encountered in exp\n",
      "  return 1 / (1 + np.exp(-x))\n",
      "C:\\Users\\vildesn\\FYS_STK_4155\\Projects\\Project 2\\src\\NeuralNetwork.py:63: RuntimeWarning: invalid value encountered in matmul\n",
      "  self.delta = np.matmul(delta_next, weights_next.T) * da_dz\n",
      "C:\\Users\\vildesn\\FYS_STK_4155\\Projects\\Project 2\\src\\activation_functions.py:33: RuntimeWarning: overflow encountered in exp\n",
      "  return 1 / (1 + np.exp(-x))\n",
      "C:\\Users\\vildesn\\FYS_STK_4155\\Projects\\Project 2\\src\\NeuralNetwork.py:63: RuntimeWarning: invalid value encountered in matmul\n",
      "  self.delta = np.matmul(delta_next, weights_next.T) * da_dz\n",
      "C:\\Users\\vildesn\\FYS_STK_4155\\Projects\\Project 2\\src\\activation_functions.py:33: RuntimeWarning: overflow encountered in exp\n",
      "  return 1 / (1 + np.exp(-x))\n",
      "C:\\Users\\vildesn\\FYS_STK_4155\\Projects\\Project 2\\src\\activation_functions.py:33: RuntimeWarning: overflow encountered in exp\n",
      "  return 1 / (1 + np.exp(-x))\n",
      "C:\\Users\\vildesn\\FYS_STK_4155\\Projects\\Project 2\\src\\NeuralNetwork.py:63: RuntimeWarning: invalid value encountered in matmul\n",
      "  self.delta = np.matmul(delta_next, weights_next.T) * da_dz\n",
      "C:\\Users\\vildesn\\FYS_STK_4155\\Projects\\Project 2\\src\\activation_functions.py:33: RuntimeWarning: overflow encountered in exp\n",
      "  return 1 / (1 + np.exp(-x))\n",
      "C:\\Users\\vildesn\\FYS_STK_4155\\Projects\\Project 2\\src\\NeuralNetwork.py:63: RuntimeWarning: invalid value encountered in matmul\n",
      "  self.delta = np.matmul(delta_next, weights_next.T) * da_dz\n",
      "C:\\Users\\vildesn\\FYS_STK_4155\\Projects\\Project 2\\src\\activation_functions.py:33: RuntimeWarning: overflow encountered in exp\n",
      "  return 1 / (1 + np.exp(-x))\n",
      "C:\\Users\\vildesn\\FYS_STK_4155\\Projects\\Project 2\\src\\activation_functions.py:33: RuntimeWarning: overflow encountered in exp\n",
      "  return 1 / (1 + np.exp(-x))\n",
      "C:\\Users\\vildesn\\FYS_STK_4155\\Projects\\Project 2\\src\\NeuralNetwork.py:63: RuntimeWarning: invalid value encountered in matmul\n",
      "  self.delta = np.matmul(delta_next, weights_next.T) * da_dz\n",
      "C:\\Users\\vildesn\\FYS_STK_4155\\Projects\\Project 2\\src\\activation_functions.py:33: RuntimeWarning: overflow encountered in exp\n",
      "  return 1 / (1 + np.exp(-x))\n",
      "C:\\Users\\vildesn\\FYS_STK_4155\\Projects\\Project 2\\src\\NeuralNetwork.py:63: RuntimeWarning: invalid value encountered in matmul\n",
      "  self.delta = np.matmul(delta_next, weights_next.T) * da_dz\n",
      "C:\\Users\\vildesn\\FYS_STK_4155\\Projects\\Project 2\\src\\activation_functions.py:33: RuntimeWarning: overflow encountered in exp\n",
      "  return 1 / (1 + np.exp(-x))\n",
      "C:\\Users\\vildesn\\FYS_STK_4155\\Projects\\Project 2\\src\\NeuralNetwork.py:63: RuntimeWarning: invalid value encountered in matmul\n",
      "  self.delta = np.matmul(delta_next, weights_next.T) * da_dz\n",
      "C:\\Users\\vildesn\\FYS_STK_4155\\Projects\\Project 2\\src\\activation_functions.py:33: RuntimeWarning: overflow encountered in exp\n",
      "  return 1 / (1 + np.exp(-x))\n",
      "C:\\Users\\vildesn\\FYS_STK_4155\\Projects\\Project 2\\src\\NeuralNetwork.py:63: RuntimeWarning: invalid value encountered in matmul\n",
      "  self.delta = np.matmul(delta_next, weights_next.T) * da_dz\n",
      "C:\\Users\\vildesn\\FYS_STK_4155\\Projects\\Project 2\\src\\activation_functions.py:33: RuntimeWarning: overflow encountered in exp\n",
      "  return 1 / (1 + np.exp(-x))\n",
      "C:\\Users\\vildesn\\FYS_STK_4155\\Projects\\Project 2\\src\\NeuralNetwork.py:63: RuntimeWarning: invalid value encountered in matmul\n",
      "  self.delta = np.matmul(delta_next, weights_next.T) * da_dz\n",
      "C:\\Users\\vildesn\\FYS_STK_4155\\Projects\\Project 2\\src\\NeuralNetwork.py:63: RuntimeWarning: invalid value encountered in multiply\n",
      "  self.delta = np.matmul(delta_next, weights_next.T) * da_dz\n",
      "C:\\Users\\vildesn\\FYS_STK_4155\\Projects\\Project 2\\src\\activation_functions.py:33: RuntimeWarning: overflow encountered in exp\n",
      "  return 1 / (1 + np.exp(-x))\n",
      "C:\\Users\\vildesn\\FYS_STK_4155\\Projects\\Project 2\\src\\NeuralNetwork.py:63: RuntimeWarning: invalid value encountered in matmul\n",
      "  self.delta = np.matmul(delta_next, weights_next.T) * da_dz\n",
      "C:\\Users\\vildesn\\FYS_STK_4155\\Projects\\Project 2\\src\\NeuralNetwork.py:63: RuntimeWarning: invalid value encountered in multiply\n",
      "  self.delta = np.matmul(delta_next, weights_next.T) * da_dz\n",
      "C:\\Users\\vildesn\\FYS_STK_4155\\Projects\\Project 2\\src\\activation_functions.py:33: RuntimeWarning: overflow encountered in exp\n",
      "  return 1 / (1 + np.exp(-x))\n",
      "C:\\Users\\vildesn\\FYS_STK_4155\\Projects\\Project 2\\src\\NeuralNetwork.py:63: RuntimeWarning: invalid value encountered in matmul\n",
      "  self.delta = np.matmul(delta_next, weights_next.T) * da_dz\n",
      "C:\\Users\\vildesn\\FYS_STK_4155\\Projects\\Project 2\\src\\activation_functions.py:33: RuntimeWarning: overflow encountered in exp\n",
      "  return 1 / (1 + np.exp(-x))\n",
      "C:\\Users\\vildesn\\FYS_STK_4155\\Projects\\Project 2\\src\\NeuralNetwork.py:63: RuntimeWarning: invalid value encountered in matmul\n",
      "  self.delta = np.matmul(delta_next, weights_next.T) * da_dz\n",
      "C:\\Users\\vildesn\\FYS_STK_4155\\Projects\\Project 2\\src\\NeuralNetwork.py:63: RuntimeWarning: invalid value encountered in multiply\n",
      "  self.delta = np.matmul(delta_next, weights_next.T) * da_dz\n",
      "C:\\Users\\vildesn\\FYS_STK_4155\\Projects\\Project 2\\src\\activation_functions.py:33: RuntimeWarning: overflow encountered in exp\n",
      "  return 1 / (1 + np.exp(-x))\n",
      "C:\\Users\\vildesn\\FYS_STK_4155\\Projects\\Project 2\\src\\activation_functions.py:33: RuntimeWarning: overflow encountered in exp\n",
      "  return 1 / (1 + np.exp(-x))\n",
      "C:\\Users\\vildesn\\FYS_STK_4155\\Projects\\Project 2\\src\\NeuralNetwork.py:63: RuntimeWarning: invalid value encountered in matmul\n",
      "  self.delta = np.matmul(delta_next, weights_next.T) * da_dz\n",
      "C:\\Users\\vildesn\\FYS_STK_4155\\Projects\\Project 2\\src\\activation_functions.py:33: RuntimeWarning: overflow encountered in exp\n",
      "  return 1 / (1 + np.exp(-x))\n",
      "C:\\Users\\vildesn\\FYS_STK_4155\\Projects\\Project 2\\src\\NeuralNetwork.py:63: RuntimeWarning: invalid value encountered in matmul\n",
      "  self.delta = np.matmul(delta_next, weights_next.T) * da_dz\n",
      "C:\\Users\\vildesn\\FYS_STK_4155\\Projects\\Project 2\\src\\activation_functions.py:33: RuntimeWarning: overflow encountered in exp\n",
      "  return 1 / (1 + np.exp(-x))\n",
      "C:\\Users\\vildesn\\FYS_STK_4155\\Projects\\Project 2\\src\\NeuralNetwork.py:63: RuntimeWarning: invalid value encountered in matmul\n",
      "  self.delta = np.matmul(delta_next, weights_next.T) * da_dz\n",
      "C:\\Users\\vildesn\\FYS_STK_4155\\Projects\\Project 2\\src\\activation_functions.py:33: RuntimeWarning: overflow encountered in exp\n",
      "  return 1 / (1 + np.exp(-x))\n",
      "C:\\Users\\vildesn\\FYS_STK_4155\\Projects\\Project 2\\src\\NeuralNetwork.py:63: RuntimeWarning: invalid value encountered in matmul\n",
      "  self.delta = np.matmul(delta_next, weights_next.T) * da_dz\n",
      "C:\\Users\\vildesn\\FYS_STK_4155\\Projects\\Project 2\\src\\activation_functions.py:33: RuntimeWarning: overflow encountered in exp\n",
      "  return 1 / (1 + np.exp(-x))\n",
      "C:\\Users\\vildesn\\FYS_STK_4155\\Projects\\Project 2\\src\\NeuralNetwork.py:63: RuntimeWarning: invalid value encountered in matmul\n",
      "  self.delta = np.matmul(delta_next, weights_next.T) * da_dz\n",
      "C:\\Users\\vildesn\\FYS_STK_4155\\Projects\\Project 2\\src\\NeuralNetwork.py:63: RuntimeWarning: invalid value encountered in multiply\n",
      "  self.delta = np.matmul(delta_next, weights_next.T) * da_dz\n"
     ]
    },
    {
     "name": "stderr",
     "output_type": "stream",
     "text": [
      "C:\\Users\\vildesn\\FYS_STK_4155\\Projects\\Project 2\\src\\activation_functions.py:33: RuntimeWarning: overflow encountered in exp\n",
      "  return 1 / (1 + np.exp(-x))\n",
      "C:\\Users\\vildesn\\FYS_STK_4155\\Projects\\Project 2\\src\\NeuralNetwork.py:63: RuntimeWarning: invalid value encountered in matmul\n",
      "  self.delta = np.matmul(delta_next, weights_next.T) * da_dz\n",
      "C:\\Users\\vildesn\\FYS_STK_4155\\Projects\\Project 2\\src\\activation_functions.py:33: RuntimeWarning: overflow encountered in exp\n",
      "  return 1 / (1 + np.exp(-x))\n",
      "C:\\Users\\vildesn\\FYS_STK_4155\\Projects\\Project 2\\src\\NeuralNetwork.py:63: RuntimeWarning: invalid value encountered in matmul\n",
      "  self.delta = np.matmul(delta_next, weights_next.T) * da_dz\n",
      "C:\\Users\\vildesn\\FYS_STK_4155\\Projects\\Project 2\\src\\NeuralNetwork.py:63: RuntimeWarning: invalid value encountered in multiply\n",
      "  self.delta = np.matmul(delta_next, weights_next.T) * da_dz\n",
      "C:\\Users\\vildesn\\FYS_STK_4155\\Projects\\Project 2\\src\\activation_functions.py:33: RuntimeWarning: overflow encountered in exp\n",
      "  return 1 / (1 + np.exp(-x))\n",
      "C:\\Users\\vildesn\\FYS_STK_4155\\Projects\\Project 2\\src\\NeuralNetwork.py:63: RuntimeWarning: invalid value encountered in matmul\n",
      "  self.delta = np.matmul(delta_next, weights_next.T) * da_dz\n",
      "C:\\Users\\vildesn\\FYS_STK_4155\\Projects\\Project 2\\src\\NeuralNetwork.py:63: RuntimeWarning: invalid value encountered in multiply\n",
      "  self.delta = np.matmul(delta_next, weights_next.T) * da_dz\n",
      "C:\\Users\\vildesn\\FYS_STK_4155\\Projects\\Project 2\\src\\activation_functions.py:33: RuntimeWarning: overflow encountered in exp\n",
      "  return 1 / (1 + np.exp(-x))\n",
      "C:\\Users\\vildesn\\FYS_STK_4155\\Projects\\Project 2\\src\\NeuralNetwork.py:63: RuntimeWarning: invalid value encountered in matmul\n",
      "  self.delta = np.matmul(delta_next, weights_next.T) * da_dz\n",
      "C:\\Users\\vildesn\\FYS_STK_4155\\Projects\\Project 2\\src\\NeuralNetwork.py:63: RuntimeWarning: invalid value encountered in multiply\n",
      "  self.delta = np.matmul(delta_next, weights_next.T) * da_dz\n",
      "C:\\Users\\vildesn\\FYS_STK_4155\\Projects\\Project 2\\src\\activation_functions.py:33: RuntimeWarning: overflow encountered in exp\n",
      "  return 1 / (1 + np.exp(-x))\n",
      "C:\\Users\\vildesn\\FYS_STK_4155\\Projects\\Project 2\\src\\NeuralNetwork.py:63: RuntimeWarning: invalid value encountered in matmul\n",
      "  self.delta = np.matmul(delta_next, weights_next.T) * da_dz\n",
      "C:\\Users\\vildesn\\FYS_STK_4155\\Projects\\Project 2\\src\\activation_functions.py:33: RuntimeWarning: overflow encountered in exp\n",
      "  return 1 / (1 + np.exp(-x))\n",
      "C:\\Users\\vildesn\\FYS_STK_4155\\Projects\\Project 2\\src\\NeuralNetwork.py:63: RuntimeWarning: invalid value encountered in matmul\n",
      "  self.delta = np.matmul(delta_next, weights_next.T) * da_dz\n"
     ]
    },
    {
     "data": {
      "image/png": "[encoded data removed]",
      "text/plain": [
       "<Figure size 1000x1000 with 2 Axes>"
      ]
     },
     "metadata": {},
     "output_type": "display_data"
    }
   ],
   "source": [
    "cost_function = Cost_Functions('LogReg', target_AND)\n",
    "\n",
    "learning_rates = np.logspace(-5, 1, 7)\n",
    "lmbd_vals = np.logspace(-5, 1, 7)\n",
    "\n",
    "accuracy = np.zeros((len(learning_rates), len(lmbd_vals)))\n",
    "\n",
    "for i in range(len(learning_rates)):\n",
    "    for j in range(len(lmbd_vals)):\n",
    "        \n",
    "        print(\"Learning rate: {i}\")\n",
    "        print(\"Lambda: {j}\")\n",
    "        \n",
    "        optimizer = GradientDescent(learning_rate=i)\n",
    "        \n",
    "        ffnn = Neural_Network(n_inputs, n_hidden_layers, n_hidden_nodes, n_outputs, \n",
    "                              cost_function=cost_function,\n",
    "                              learning_rate=i, \n",
    "                              lmbd=j, \n",
    "                              activation_function_hidden='sigmoid',\n",
    "                              activation_function_output='sigmoid',\n",
    "                              optimizer=optimizer,\n",
    "                              classification_problem=True)\n",
    "        \n",
    "        ffnn.train(X, num_iter=100)\n",
    "        pred = ffnn.output_layer.output\n",
    "\n",
    "        accuracy[i][j] = accuracy_score(target_AND, pred)\n",
    "        \n",
    "fig, ax = plt.subplots(figsize = (10, 10))\n",
    "sns.heatmap(accuracy, annot=True, ax=ax, cmap=\"viridis\")\n",
    "ax.set_title(\"Training Accuracy\")\n",
    "ax.set_ylabel(\"learning rate\")\n",
    "ax.set_xlabel(\"lambda\")\n",
    "plt.show()"
   ]
  },
  {
   "cell_type": "code",
   "execution_count": 10,
   "id": "3a0f36bd",
   "metadata": {},
   "outputs": [
    {
     "name": "stderr",
     "output_type": "stream",
     "text": [
      "C:\\Users\\vildesn\\FYS_STK_4155\\Projects\\Project 2\\src\\activation_functions.py:33: RuntimeWarning: overflow encountered in exp\n",
      "  return 1 / (1 + np.exp(-x))\n",
      "C:\\Users\\vildesn\\FYS_STK_4155\\Projects\\Project 2\\src\\activation_functions.py:33: RuntimeWarning: overflow encountered in exp\n",
      "  return 1 / (1 + np.exp(-x))\n",
      "C:\\Users\\vildesn\\FYS_STK_4155\\Projects\\Project 2\\src\\activation_functions.py:33: RuntimeWarning: overflow encountered in exp\n",
      "  return 1 / (1 + np.exp(-x))\n",
      "C:\\Users\\vildesn\\FYS_STK_4155\\Projects\\Project 2\\src\\activation_functions.py:33: RuntimeWarning: overflow encountered in exp\n",
      "  return 1 / (1 + np.exp(-x))\n",
      "C:\\Users\\vildesn\\FYS_STK_4155\\Projects\\Project 2\\src\\activation_functions.py:33: RuntimeWarning: overflow encountered in exp\n",
      "  return 1 / (1 + np.exp(-x))\n",
      "C:\\Users\\vildesn\\FYS_STK_4155\\Projects\\Project 2\\src\\activation_functions.py:33: RuntimeWarning: overflow encountered in exp\n",
      "  return 1 / (1 + np.exp(-x))\n",
      "C:\\Users\\vildesn\\FYS_STK_4155\\Projects\\Project 2\\src\\activation_functions.py:33: RuntimeWarning: overflow encountered in exp\n",
      "  return 1 / (1 + np.exp(-x))\n",
      "C:\\Users\\vildesn\\FYS_STK_4155\\Projects\\Project 2\\src\\activation_functions.py:33: RuntimeWarning: overflow encountered in exp\n",
      "  return 1 / (1 + np.exp(-x))\n",
      "C:\\Users\\vildesn\\FYS_STK_4155\\Projects\\Project 2\\src\\activation_functions.py:33: RuntimeWarning: overflow encountered in exp\n",
      "  return 1 / (1 + np.exp(-x))\n",
      "C:\\Users\\vildesn\\FYS_STK_4155\\Projects\\Project 2\\src\\activation_functions.py:33: RuntimeWarning: overflow encountered in exp\n",
      "  return 1 / (1 + np.exp(-x))\n",
      "C:\\Users\\vildesn\\FYS_STK_4155\\Projects\\Project 2\\src\\activation_functions.py:33: RuntimeWarning: overflow encountered in exp\n",
      "  return 1 / (1 + np.exp(-x))\n",
      "C:\\Users\\vildesn\\FYS_STK_4155\\Projects\\Project 2\\src\\activation_functions.py:33: RuntimeWarning: overflow encountered in exp\n",
      "  return 1 / (1 + np.exp(-x))\n",
      "C:\\Users\\vildesn\\FYS_STK_4155\\Projects\\Project 2\\src\\activation_functions.py:33: RuntimeWarning: overflow encountered in exp\n",
      "  return 1 / (1 + np.exp(-x))\n",
      "C:\\Users\\vildesn\\FYS_STK_4155\\Projects\\Project 2\\src\\activation_functions.py:33: RuntimeWarning: overflow encountered in exp\n",
      "  return 1 / (1 + np.exp(-x))\n",
      "C:\\Users\\vildesn\\FYS_STK_4155\\Projects\\Project 2\\src\\activation_functions.py:33: RuntimeWarning: overflow encountered in exp\n",
      "  return 1 / (1 + np.exp(-x))\n",
      "C:\\Users\\vildesn\\FYS_STK_4155\\Projects\\Project 2\\src\\activation_functions.py:33: RuntimeWarning: overflow encountered in exp\n",
      "  return 1 / (1 + np.exp(-x))\n",
      "C:\\Users\\vildesn\\FYS_STK_4155\\Projects\\Project 2\\src\\activation_functions.py:33: RuntimeWarning: overflow encountered in exp\n",
      "  return 1 / (1 + np.exp(-x))\n",
      "C:\\Users\\vildesn\\FYS_STK_4155\\Projects\\Project 2\\src\\activation_functions.py:33: RuntimeWarning: overflow encountered in exp\n",
      "  return 1 / (1 + np.exp(-x))\n",
      "C:\\Users\\vildesn\\FYS_STK_4155\\Projects\\Project 2\\src\\activation_functions.py:33: RuntimeWarning: overflow encountered in exp\n",
      "  return 1 / (1 + np.exp(-x))\n",
      "C:\\Users\\vildesn\\FYS_STK_4155\\Projects\\Project 2\\src\\activation_functions.py:33: RuntimeWarning: overflow encountered in exp\n",
      "  return 1 / (1 + np.exp(-x))\n",
      "C:\\Users\\vildesn\\FYS_STK_4155\\Projects\\Project 2\\src\\activation_functions.py:33: RuntimeWarning: overflow encountered in exp\n",
      "  return 1 / (1 + np.exp(-x))\n",
      "C:\\Users\\vildesn\\FYS_STK_4155\\Projects\\Project 2\\src\\activation_functions.py:33: RuntimeWarning: overflow encountered in exp\n",
      "  return 1 / (1 + np.exp(-x))\n",
      "C:\\Users\\vildesn\\FYS_STK_4155\\Projects\\Project 2\\src\\activation_functions.py:33: RuntimeWarning: overflow encountered in exp\n",
      "  return 1 / (1 + np.exp(-x))\n",
      "C:\\Users\\vildesn\\FYS_STK_4155\\Projects\\Project 2\\src\\activation_functions.py:33: RuntimeWarning: overflow encountered in exp\n",
      "  return 1 / (1 + np.exp(-x))\n",
      "C:\\Users\\vildesn\\FYS_STK_4155\\Projects\\Project 2\\src\\activation_functions.py:33: RuntimeWarning: overflow encountered in exp\n",
      "  return 1 / (1 + np.exp(-x))\n",
      "C:\\Users\\vildesn\\FYS_STK_4155\\Projects\\Project 2\\src\\activation_functions.py:33: RuntimeWarning: overflow encountered in exp\n",
      "  return 1 / (1 + np.exp(-x))\n",
      "C:\\Users\\vildesn\\FYS_STK_4155\\Projects\\Project 2\\src\\activation_functions.py:33: RuntimeWarning: overflow encountered in exp\n",
      "  return 1 / (1 + np.exp(-x))\n",
      "C:\\Users\\vildesn\\FYS_STK_4155\\Projects\\Project 2\\src\\activation_functions.py:33: RuntimeWarning: overflow encountered in exp\n",
      "  return 1 / (1 + np.exp(-x))\n",
      "C:\\Users\\vildesn\\FYS_STK_4155\\Projects\\Project 2\\src\\activation_functions.py:33: RuntimeWarning: overflow encountered in exp\n",
      "  return 1 / (1 + np.exp(-x))\n",
      "C:\\Users\\vildesn\\FYS_STK_4155\\Projects\\Project 2\\src\\activation_functions.py:33: RuntimeWarning: overflow encountered in exp\n",
      "  return 1 / (1 + np.exp(-x))\n",
      "C:\\Users\\vildesn\\FYS_STK_4155\\Projects\\Project 2\\src\\activation_functions.py:33: RuntimeWarning: overflow encountered in exp\n",
      "  return 1 / (1 + np.exp(-x))\n",
      "C:\\Users\\vildesn\\FYS_STK_4155\\Projects\\Project 2\\src\\activation_functions.py:33: RuntimeWarning: overflow encountered in exp\n",
      "  return 1 / (1 + np.exp(-x))\n",
      "C:\\Users\\vildesn\\FYS_STK_4155\\Projects\\Project 2\\src\\activation_functions.py:33: RuntimeWarning: overflow encountered in exp\n",
      "  return 1 / (1 + np.exp(-x))\n",
      "C:\\Users\\vildesn\\FYS_STK_4155\\Projects\\Project 2\\src\\activation_functions.py:33: RuntimeWarning: overflow encountered in exp\n",
      "  return 1 / (1 + np.exp(-x))\n",
      "C:\\Users\\vildesn\\FYS_STK_4155\\Projects\\Project 2\\src\\activation_functions.py:33: RuntimeWarning: overflow encountered in exp\n",
      "  return 1 / (1 + np.exp(-x))\n",
      "C:\\Users\\vildesn\\FYS_STK_4155\\Projects\\Project 2\\src\\activation_functions.py:33: RuntimeWarning: overflow encountered in exp\n",
      "  return 1 / (1 + np.exp(-x))\n",
      "C:\\Users\\vildesn\\FYS_STK_4155\\Projects\\Project 2\\src\\activation_functions.py:33: RuntimeWarning: overflow encountered in exp\n",
      "  return 1 / (1 + np.exp(-x))\n",
      "C:\\Users\\vildesn\\FYS_STK_4155\\Projects\\Project 2\\src\\activation_functions.py:33: RuntimeWarning: overflow encountered in exp\n",
      "  return 1 / (1 + np.exp(-x))\n",
      "C:\\Users\\vildesn\\FYS_STK_4155\\Projects\\Project 2\\src\\activation_functions.py:33: RuntimeWarning: overflow encountered in exp\n",
      "  return 1 / (1 + np.exp(-x))\n",
      "C:\\Users\\vildesn\\FYS_STK_4155\\Projects\\Project 2\\src\\activation_functions.py:33: RuntimeWarning: overflow encountered in exp\n",
      "  return 1 / (1 + np.exp(-x))\n"
     ]
    },
    {
     "data": {
      "image/png": "[encoded data removed]",
      "text/plain": [
       "<Figure size 1000x1000 with 2 Axes>"
      ]
     },
     "metadata": {},
     "output_type": "display_data"
    }
   ],
   "source": [
    "cost_function = Cost_Functions('LogReg', target_AND)\n",
    "\n",
    "learning_rates = np.logspace(-5, 1, 7)\n",
    "lmbd_vals = np.logspace(-5, 1, 7)\n",
    "\n",
    "accuracy = np.zeros((len(learning_rates), len(lmbd_vals)))\n",
    "\n",
    "for i in range(len(learning_rates)):\n",
    "    for j in range(len(lmbd_vals)):\n",
    "        \n",
    "        optimizer = GradientDescent(learning_rate=i)\n",
    "        \n",
    "        ffnn = Neural_Network(n_inputs, n_hidden_layers, n_hidden_nodes, n_outputs, \n",
    "                              cost_function=cost_function,\n",
    "                              learning_rate=i, \n",
    "                              lmbd=j, \n",
    "                              activation_function_hidden='sigmoid',\n",
    "                              activation_function_output='sigmoid',\n",
    "                              optimizer=optimizer,\n",
    "                              classification_problem=True)\n",
    "        \n",
    "        ffnn.train(X, num_iter=100)\n",
    "        pred = ffnn.output_layer.output\n",
    "\n",
    "        accuracy[i][j] = accuracy_score(target_AND, pred)\n",
    "        \n",
    "fig, ax = plt.subplots(figsize = (10, 10))\n",
    "sns.heatmap(accuracy, annot=True, ax=ax, cmap=\"viridis\")\n",
    "ax.set_title(\"Training Accuracy\")\n",
    "ax.set_ylabel(\"learning rate\")\n",
    "ax.set_xlabel(\"lambda\")\n",
    "plt.show()"
   ]
  },
  {
   "cell_type": "code",
   "execution_count": 14,
   "id": "925646f7",
   "metadata": {},
   "outputs": [
    {
     "name": "stderr",
     "output_type": "stream",
     "text": [
      "C:\\Users\\vildesn\\FYS_STK_4155\\Projects\\Project 2\\src\\activation_functions.py:33: RuntimeWarning: overflow encountered in exp\n",
      "  return 1 / (1 + np.exp(-x))\n",
      "C:\\Users\\vildesn\\FYS_STK_4155\\Projects\\Project 2\\src\\activation_functions.py:33: RuntimeWarning: overflow encountered in exp\n",
      "  return 1 / (1 + np.exp(-x))\n",
      "C:\\Users\\vildesn\\FYS_STK_4155\\Projects\\Project 2\\src\\activation_functions.py:33: RuntimeWarning: overflow encountered in exp\n",
      "  return 1 / (1 + np.exp(-x))\n",
      "C:\\Users\\vildesn\\FYS_STK_4155\\Projects\\Project 2\\src\\activation_functions.py:33: RuntimeWarning: overflow encountered in exp\n",
      "  return 1 / (1 + np.exp(-x))\n",
      "C:\\Users\\vildesn\\FYS_STK_4155\\Projects\\Project 2\\src\\activation_functions.py:33: RuntimeWarning: overflow encountered in exp\n",
      "  return 1 / (1 + np.exp(-x))\n",
      "C:\\Users\\vildesn\\FYS_STK_4155\\Projects\\Project 2\\src\\activation_functions.py:33: RuntimeWarning: overflow encountered in exp\n",
      "  return 1 / (1 + np.exp(-x))\n",
      "C:\\Users\\vildesn\\FYS_STK_4155\\Projects\\Project 2\\src\\activation_functions.py:33: RuntimeWarning: overflow encountered in exp\n",
      "  return 1 / (1 + np.exp(-x))\n",
      "C:\\Users\\vildesn\\FYS_STK_4155\\Projects\\Project 2\\src\\activation_functions.py:33: RuntimeWarning: overflow encountered in exp\n",
      "  return 1 / (1 + np.exp(-x))\n",
      "C:\\Users\\vildesn\\FYS_STK_4155\\Projects\\Project 2\\src\\activation_functions.py:33: RuntimeWarning: overflow encountered in exp\n",
      "  return 1 / (1 + np.exp(-x))\n",
      "C:\\Users\\vildesn\\FYS_STK_4155\\Projects\\Project 2\\src\\activation_functions.py:33: RuntimeWarning: overflow encountered in exp\n",
      "  return 1 / (1 + np.exp(-x))\n",
      "C:\\Users\\vildesn\\FYS_STK_4155\\Projects\\Project 2\\src\\activation_functions.py:33: RuntimeWarning: overflow encountered in exp\n",
      "  return 1 / (1 + np.exp(-x))\n",
      "C:\\Users\\vildesn\\FYS_STK_4155\\Projects\\Project 2\\src\\activation_functions.py:33: RuntimeWarning: overflow encountered in exp\n",
      "  return 1 / (1 + np.exp(-x))\n",
      "C:\\Users\\vildesn\\FYS_STK_4155\\Projects\\Project 2\\src\\activation_functions.py:33: RuntimeWarning: overflow encountered in exp\n",
      "  return 1 / (1 + np.exp(-x))\n",
      "C:\\Users\\vildesn\\FYS_STK_4155\\Projects\\Project 2\\src\\activation_functions.py:33: RuntimeWarning: overflow encountered in exp\n",
      "  return 1 / (1 + np.exp(-x))\n",
      "C:\\Users\\vildesn\\FYS_STK_4155\\Projects\\Project 2\\src\\activation_functions.py:33: RuntimeWarning: overflow encountered in exp\n",
      "  return 1 / (1 + np.exp(-x))\n",
      "C:\\Users\\vildesn\\FYS_STK_4155\\Projects\\Project 2\\src\\activation_functions.py:33: RuntimeWarning: overflow encountered in exp\n",
      "  return 1 / (1 + np.exp(-x))\n",
      "C:\\Users\\vildesn\\FYS_STK_4155\\Projects\\Project 2\\src\\activation_functions.py:33: RuntimeWarning: overflow encountered in exp\n",
      "  return 1 / (1 + np.exp(-x))\n",
      "C:\\Users\\vildesn\\FYS_STK_4155\\Projects\\Project 2\\src\\activation_functions.py:33: RuntimeWarning: overflow encountered in exp\n",
      "  return 1 / (1 + np.exp(-x))\n",
      "C:\\Users\\vildesn\\FYS_STK_4155\\Projects\\Project 2\\src\\activation_functions.py:33: RuntimeWarning: overflow encountered in exp\n",
      "  return 1 / (1 + np.exp(-x))\n",
      "C:\\Users\\vildesn\\FYS_STK_4155\\Projects\\Project 2\\src\\activation_functions.py:33: RuntimeWarning: overflow encountered in exp\n",
      "  return 1 / (1 + np.exp(-x))\n",
      "C:\\Users\\vildesn\\FYS_STK_4155\\Projects\\Project 2\\src\\activation_functions.py:33: RuntimeWarning: overflow encountered in exp\n",
      "  return 1 / (1 + np.exp(-x))\n",
      "C:\\Users\\vildesn\\FYS_STK_4155\\Projects\\Project 2\\src\\activation_functions.py:33: RuntimeWarning: overflow encountered in exp\n",
      "  return 1 / (1 + np.exp(-x))\n",
      "C:\\Users\\vildesn\\FYS_STK_4155\\Projects\\Project 2\\src\\activation_functions.py:33: RuntimeWarning: overflow encountered in exp\n",
      "  return 1 / (1 + np.exp(-x))\n",
      "C:\\Users\\vildesn\\FYS_STK_4155\\Projects\\Project 2\\src\\activation_functions.py:33: RuntimeWarning: overflow encountered in exp\n",
      "  return 1 / (1 + np.exp(-x))\n",
      "C:\\Users\\vildesn\\FYS_STK_4155\\Projects\\Project 2\\src\\activation_functions.py:33: RuntimeWarning: overflow encountered in exp\n",
      "  return 1 / (1 + np.exp(-x))\n",
      "C:\\Users\\vildesn\\FYS_STK_4155\\Projects\\Project 2\\src\\activation_functions.py:33: RuntimeWarning: overflow encountered in exp\n",
      "  return 1 / (1 + np.exp(-x))\n",
      "C:\\Users\\vildesn\\FYS_STK_4155\\Projects\\Project 2\\src\\activation_functions.py:33: RuntimeWarning: overflow encountered in exp\n",
      "  return 1 / (1 + np.exp(-x))\n",
      "C:\\Users\\vildesn\\FYS_STK_4155\\Projects\\Project 2\\src\\activation_functions.py:33: RuntimeWarning: overflow encountered in exp\n",
      "  return 1 / (1 + np.exp(-x))\n",
      "C:\\Users\\vildesn\\FYS_STK_4155\\Projects\\Project 2\\src\\activation_functions.py:33: RuntimeWarning: overflow encountered in exp\n",
      "  return 1 / (1 + np.exp(-x))\n",
      "C:\\Users\\vildesn\\FYS_STK_4155\\Projects\\Project 2\\src\\activation_functions.py:33: RuntimeWarning: overflow encountered in exp\n",
      "  return 1 / (1 + np.exp(-x))\n",
      "C:\\Users\\vildesn\\FYS_STK_4155\\Projects\\Project 2\\src\\activation_functions.py:33: RuntimeWarning: overflow encountered in exp\n",
      "  return 1 / (1 + np.exp(-x))\n",
      "C:\\Users\\vildesn\\FYS_STK_4155\\Projects\\Project 2\\src\\activation_functions.py:33: RuntimeWarning: overflow encountered in exp\n",
      "  return 1 / (1 + np.exp(-x))\n",
      "C:\\Users\\vildesn\\FYS_STK_4155\\Projects\\Project 2\\src\\activation_functions.py:33: RuntimeWarning: overflow encountered in exp\n",
      "  return 1 / (1 + np.exp(-x))\n",
      "C:\\Users\\vildesn\\FYS_STK_4155\\Projects\\Project 2\\src\\activation_functions.py:33: RuntimeWarning: overflow encountered in exp\n",
      "  return 1 / (1 + np.exp(-x))\n",
      "C:\\Users\\vildesn\\FYS_STK_4155\\Projects\\Project 2\\src\\activation_functions.py:33: RuntimeWarning: overflow encountered in exp\n",
      "  return 1 / (1 + np.exp(-x))\n",
      "C:\\Users\\vildesn\\FYS_STK_4155\\Projects\\Project 2\\src\\activation_functions.py:33: RuntimeWarning: overflow encountered in exp\n",
      "  return 1 / (1 + np.exp(-x))\n",
      "C:\\Users\\vildesn\\FYS_STK_4155\\Projects\\Project 2\\src\\activation_functions.py:33: RuntimeWarning: overflow encountered in exp\n",
      "  return 1 / (1 + np.exp(-x))\n",
      "C:\\Users\\vildesn\\FYS_STK_4155\\Projects\\Project 2\\src\\activation_functions.py:33: RuntimeWarning: overflow encountered in exp\n",
      "  return 1 / (1 + np.exp(-x))\n"
     ]
    },
    {
     "data": {
      "image/png": "[encoded data removed]",
      "text/plain": [
       "<Figure size 1000x1000 with 2 Axes>"
      ]
     },
     "metadata": {},
     "output_type": "display_data"
    }
   ],
   "source": [
    "# Using or gate\n",
    "cost_function = Cost_Functions('LogReg', target_OR)\n",
    "\n",
    "learning_rates = np.logspace(-5, 1, 7)\n",
    "lmbd_vals = np.logspace(-5, 1, 7)\n",
    "\n",
    "accuracy = np.zeros((len(learning_rates), len(lmbd_vals)))\n",
    "\n",
    "for i in range(len(learning_rates)):\n",
    "    for j in range(len(lmbd_vals)):\n",
    "        \n",
    "        optimizer = GradientDescent(learning_rate=i)\n",
    "        \n",
    "        ffnn = Neural_Network(n_inputs, n_hidden_layers, n_hidden_nodes, n_outputs, \n",
    "                              cost_function=cost_function,\n",
    "                              learning_rate=i, \n",
    "                              lmbd=j, \n",
    "                              activation_function_hidden='sigmoid',\n",
    "                              activation_function_output='sigmoid',\n",
    "                              optimizer=optimizer,\n",
    "                              classification_problem=True)\n",
    "        \n",
    "        ffnn.train(X, num_iter=100)\n",
    "        pred = ffnn.output_layer.output\n",
    "\n",
    "        accuracy[i][j] = accuracy_score(target_OR, pred)\n",
    "        \n",
    "fig, ax = plt.subplots(figsize = (10, 10))\n",
    "sns.heatmap(accuracy, annot=True, ax=ax, cmap=\"viridis\")\n",
    "ax.set_title(\"Training Accuracy\")\n",
    "ax.set_ylabel(\"learning rate\")\n",
    "ax.set_xlabel(\"lambda\")\n",
    "plt.show()"
   ]
  },
  {
   "cell_type": "code",
   "execution_count": 13,
   "id": "e3df4b5d",
   "metadata": {},
   "outputs": [
    {
     "name": "stderr",
     "output_type": "stream",
     "text": [
      "C:\\Users\\vildesn\\FYS_STK_4155\\Projects\\Project 2\\src\\activation_functions.py:33: RuntimeWarning: overflow encountered in exp\n",
      "  return 1 / (1 + np.exp(-x))\n",
      "C:\\Users\\vildesn\\FYS_STK_4155\\Projects\\Project 2\\src\\activation_functions.py:33: RuntimeWarning: overflow encountered in exp\n",
      "  return 1 / (1 + np.exp(-x))\n",
      "C:\\Users\\vildesn\\FYS_STK_4155\\Projects\\Project 2\\src\\activation_functions.py:33: RuntimeWarning: overflow encountered in exp\n",
      "  return 1 / (1 + np.exp(-x))\n",
      "C:\\Users\\vildesn\\FYS_STK_4155\\Projects\\Project 2\\src\\activation_functions.py:33: RuntimeWarning: overflow encountered in exp\n",
      "  return 1 / (1 + np.exp(-x))\n",
      "C:\\Users\\vildesn\\FYS_STK_4155\\Projects\\Project 2\\src\\activation_functions.py:33: RuntimeWarning: overflow encountered in exp\n",
      "  return 1 / (1 + np.exp(-x))\n",
      "C:\\Users\\vildesn\\FYS_STK_4155\\Projects\\Project 2\\src\\activation_functions.py:33: RuntimeWarning: overflow encountered in exp\n",
      "  return 1 / (1 + np.exp(-x))\n",
      "C:\\Users\\vildesn\\FYS_STK_4155\\Projects\\Project 2\\src\\activation_functions.py:33: RuntimeWarning: overflow encountered in exp\n",
      "  return 1 / (1 + np.exp(-x))\n",
      "C:\\Users\\vildesn\\FYS_STK_4155\\Projects\\Project 2\\src\\activation_functions.py:33: RuntimeWarning: overflow encountered in exp\n",
      "  return 1 / (1 + np.exp(-x))\n",
      "C:\\Users\\vildesn\\FYS_STK_4155\\Projects\\Project 2\\src\\activation_functions.py:33: RuntimeWarning: overflow encountered in exp\n",
      "  return 1 / (1 + np.exp(-x))\n",
      "C:\\Users\\vildesn\\FYS_STK_4155\\Projects\\Project 2\\src\\activation_functions.py:33: RuntimeWarning: overflow encountered in exp\n",
      "  return 1 / (1 + np.exp(-x))\n",
      "C:\\Users\\vildesn\\FYS_STK_4155\\Projects\\Project 2\\src\\activation_functions.py:33: RuntimeWarning: overflow encountered in exp\n",
      "  return 1 / (1 + np.exp(-x))\n",
      "C:\\Users\\vildesn\\FYS_STK_4155\\Projects\\Project 2\\src\\activation_functions.py:33: RuntimeWarning: overflow encountered in exp\n",
      "  return 1 / (1 + np.exp(-x))\n",
      "C:\\Users\\vildesn\\FYS_STK_4155\\Projects\\Project 2\\src\\activation_functions.py:33: RuntimeWarning: overflow encountered in exp\n",
      "  return 1 / (1 + np.exp(-x))\n",
      "C:\\Users\\vildesn\\FYS_STK_4155\\Projects\\Project 2\\src\\activation_functions.py:33: RuntimeWarning: overflow encountered in exp\n",
      "  return 1 / (1 + np.exp(-x))\n",
      "C:\\Users\\vildesn\\FYS_STK_4155\\Projects\\Project 2\\src\\activation_functions.py:33: RuntimeWarning: overflow encountered in exp\n",
      "  return 1 / (1 + np.exp(-x))\n",
      "C:\\Users\\vildesn\\FYS_STK_4155\\Projects\\Project 2\\src\\activation_functions.py:33: RuntimeWarning: overflow encountered in exp\n",
      "  return 1 / (1 + np.exp(-x))\n",
      "C:\\Users\\vildesn\\FYS_STK_4155\\Projects\\Project 2\\src\\activation_functions.py:33: RuntimeWarning: overflow encountered in exp\n",
      "  return 1 / (1 + np.exp(-x))\n",
      "C:\\Users\\vildesn\\FYS_STK_4155\\Projects\\Project 2\\src\\activation_functions.py:33: RuntimeWarning: overflow encountered in exp\n",
      "  return 1 / (1 + np.exp(-x))\n",
      "C:\\Users\\vildesn\\FYS_STK_4155\\Projects\\Project 2\\src\\activation_functions.py:33: RuntimeWarning: overflow encountered in exp\n",
      "  return 1 / (1 + np.exp(-x))\n",
      "C:\\Users\\vildesn\\FYS_STK_4155\\Projects\\Project 2\\src\\activation_functions.py:33: RuntimeWarning: overflow encountered in exp\n",
      "  return 1 / (1 + np.exp(-x))\n",
      "C:\\Users\\vildesn\\FYS_STK_4155\\Projects\\Project 2\\src\\activation_functions.py:33: RuntimeWarning: overflow encountered in exp\n",
      "  return 1 / (1 + np.exp(-x))\n",
      "C:\\Users\\vildesn\\FYS_STK_4155\\Projects\\Project 2\\src\\activation_functions.py:33: RuntimeWarning: overflow encountered in exp\n",
      "  return 1 / (1 + np.exp(-x))\n",
      "C:\\Users\\vildesn\\FYS_STK_4155\\Projects\\Project 2\\src\\activation_functions.py:33: RuntimeWarning: overflow encountered in exp\n",
      "  return 1 / (1 + np.exp(-x))\n",
      "C:\\Users\\vildesn\\FYS_STK_4155\\Projects\\Project 2\\src\\activation_functions.py:33: RuntimeWarning: overflow encountered in exp\n",
      "  return 1 / (1 + np.exp(-x))\n",
      "C:\\Users\\vildesn\\FYS_STK_4155\\Projects\\Project 2\\src\\activation_functions.py:33: RuntimeWarning: overflow encountered in exp\n",
      "  return 1 / (1 + np.exp(-x))\n",
      "C:\\Users\\vildesn\\FYS_STK_4155\\Projects\\Project 2\\src\\activation_functions.py:33: RuntimeWarning: overflow encountered in exp\n",
      "  return 1 / (1 + np.exp(-x))\n",
      "C:\\Users\\vildesn\\FYS_STK_4155\\Projects\\Project 2\\src\\activation_functions.py:33: RuntimeWarning: overflow encountered in exp\n",
      "  return 1 / (1 + np.exp(-x))\n",
      "C:\\Users\\vildesn\\FYS_STK_4155\\Projects\\Project 2\\src\\activation_functions.py:33: RuntimeWarning: overflow encountered in exp\n",
      "  return 1 / (1 + np.exp(-x))\n",
      "C:\\Users\\vildesn\\FYS_STK_4155\\Projects\\Project 2\\src\\activation_functions.py:33: RuntimeWarning: overflow encountered in exp\n",
      "  return 1 / (1 + np.exp(-x))\n",
      "C:\\Users\\vildesn\\FYS_STK_4155\\Projects\\Project 2\\src\\activation_functions.py:33: RuntimeWarning: overflow encountered in exp\n",
      "  return 1 / (1 + np.exp(-x))\n",
      "C:\\Users\\vildesn\\FYS_STK_4155\\Projects\\Project 2\\src\\activation_functions.py:33: RuntimeWarning: overflow encountered in exp\n",
      "  return 1 / (1 + np.exp(-x))\n",
      "C:\\Users\\vildesn\\FYS_STK_4155\\Projects\\Project 2\\src\\activation_functions.py:33: RuntimeWarning: overflow encountered in exp\n",
      "  return 1 / (1 + np.exp(-x))\n",
      "C:\\Users\\vildesn\\FYS_STK_4155\\Projects\\Project 2\\src\\activation_functions.py:33: RuntimeWarning: overflow encountered in exp\n",
      "  return 1 / (1 + np.exp(-x))\n",
      "C:\\Users\\vildesn\\FYS_STK_4155\\Projects\\Project 2\\src\\activation_functions.py:33: RuntimeWarning: overflow encountered in exp\n",
      "  return 1 / (1 + np.exp(-x))\n",
      "C:\\Users\\vildesn\\FYS_STK_4155\\Projects\\Project 2\\src\\activation_functions.py:33: RuntimeWarning: overflow encountered in exp\n",
      "  return 1 / (1 + np.exp(-x))\n",
      "C:\\Users\\vildesn\\FYS_STK_4155\\Projects\\Project 2\\src\\activation_functions.py:33: RuntimeWarning: overflow encountered in exp\n",
      "  return 1 / (1 + np.exp(-x))\n",
      "C:\\Users\\vildesn\\FYS_STK_4155\\Projects\\Project 2\\src\\activation_functions.py:33: RuntimeWarning: overflow encountered in exp\n",
      "  return 1 / (1 + np.exp(-x))\n",
      "C:\\Users\\vildesn\\FYS_STK_4155\\Projects\\Project 2\\src\\activation_functions.py:33: RuntimeWarning: overflow encountered in exp\n",
      "  return 1 / (1 + np.exp(-x))\n"
     ]
    },
    {
     "data": {
      "image/png": "[encoded data removed]",
      "text/plain": [
       "<Figure size 1000x1000 with 2 Axes>"
      ]
     },
     "metadata": {},
     "output_type": "display_data"
    }
   ],
   "source": [
    "# Using xor gate\n",
    "cost_function = Cost_Functions('LogReg', target_XOR)\n",
    "\n",
    "learning_rates = np.logspace(-5, 1, 7)\n",
    "lmbd_vals = np.logspace(-5, 1, 7)\n",
    "\n",
    "accuracy = np.zeros((len(learning_rates), len(lmbd_vals)))\n",
    "\n",
    "for i in range(len(learning_rates)):\n",
    "    for j in range(len(lmbd_vals)):\n",
    "        \n",
    "        optimizer = GradientDescent(learning_rate=i)\n",
    "        \n",
    "        ffnn = Neural_Network(n_inputs, n_hidden_layers, n_hidden_nodes, n_outputs, \n",
    "                              cost_function=cost_function,\n",
    "                              learning_rate=i, \n",
    "                              lmbd=j, \n",
    "                              activation_function_hidden='sigmoid',\n",
    "                              activation_function_output='sigmoid',\n",
    "                              optimizer=optimizer,\n",
    "                              classification_problem=True)\n",
    "        \n",
    "        ffnn.train(X, num_iter=100)\n",
    "        pred = ffnn.output_layer.output\n",
    "\n",
    "        accuracy[i][j] = accuracy_score(target_XOR, pred)\n",
    "        \n",
    "fig, ax = plt.subplots(figsize = (10, 10))\n",
    "sns.heatmap(accuracy, annot=True, ax=ax, cmap=\"viridis\")\n",
    "ax.set_title(\"Training Accuracy\")\n",
    "ax.set_ylabel(\"learning rate\")\n",
    "ax.set_xlabel(\"lambda\")\n",
    "plt.show()"
   ]
  },
  {
   "cell_type": "code",
   "execution_count": null,
   "id": "1cdd5159",
   "metadata": {},
   "outputs": [],
   "source": []
  },
  {
   "cell_type": "code",
   "execution_count": null,
   "id": "ff36bcb1",
   "metadata": {},
   "outputs": [],
   "source": []
  },
  {
   "cell_type": "code",
   "execution_count": null,
   "id": "734f1a27",
   "metadata": {
    "ExecuteTime": {
     "end_time": "2023-11-05T14:32:19.191038500Z",
     "start_time": "2023-11-05T14:32:19.174183700Z"
    }
   },
   "outputs": [],
   "source": [
    "np.random.seed(1234)\n",
    "\n",
    "# Create design matrix\n",
    "X_orig = jnp.array([[0, 0],\n",
    "               [0, 1],\n",
    "               [1, 0],\n",
    "               [1, 1]])\n",
    "\n",
    "#X = jnp.array([[0, 1]])\n",
    "\n",
    "# The XOR gate\n",
    "target_XOR = jnp.array( [ 0, 1 ,1, 0])\n",
    "# The OR gate\n",
    "target_OR = jnp.array( [ 0, 1 ,1, 1])\n",
    "# The AND gate\n",
    "target_AND = jnp.array( [ 0, 0 ,0, 1])\n",
    "\n",
    "#target = jnp.array([0])\n",
    "\n",
    "\n",
    "n_hidden_layers = 1\n",
    "n_hidden_nodes = 2\n",
    "n_outputs = 1\n",
    "learning_rate=0.1"
   ]
  },
  {
   "cell_type": "code",
   "execution_count": null,
   "id": "91530549c5e06582",
   "metadata": {
    "ExecuteTime": {
     "end_time": "2023-11-05T14:33:54.975708800Z",
     "start_time": "2023-11-05T14:32:24.881089400Z"
    }
   },
   "outputs": [],
   "source": [
    "#Testing AND gate\n",
    "NN_output_AND = []\n",
    "\n",
    "# AND gate\n",
    "for X_row, target_row in zip(X_orig, target_AND):\n",
    "\n",
    "    X = jnp.array([X_row])\n",
    "    target = jnp.array([target_row])\n",
    "\n",
    "    ffnn = Neural_Network(X, target, n_hidden_layers, n_hidden_nodes, n_outputs,\n",
    "                      learning_rate, activation_function='sigmoid',\n",
    "                      classification_problem=True)\n",
    "\n",
    "    ffnn.feed_forward()\n",
    "\n",
    "    ffnn.feed_backward()\n",
    "    ffnn.train()\n",
    "\n",
    "    NN_output_AND.append(ffnn.output_layer.output)\n",
    "\n",
    "print(NN_output_AND)\n"
   ]
  },
  {
   "cell_type": "code",
   "execution_count": null,
   "id": "a83f38eb4235c6e3",
   "metadata": {
    "ExecuteTime": {
     "end_time": "2023-11-05T14:35:21.046229200Z",
     "start_time": "2023-11-05T14:33:54.992436400Z"
    }
   },
   "outputs": [],
   "source": [
    "\n",
    "#Testing OR gate\n",
    "\n",
    "NN_output_OR = []\n",
    "\n",
    "# or gate\n",
    "for X_row, target_row in zip(X_orig, target_OR):\n",
    "\n",
    "    X = jnp.array([X_row])\n",
    "    target = jnp.array([target_row])\n",
    "\n",
    "    ffnn = Neural_Network(X, target, n_hidden_layers, n_hidden_nodes, n_outputs,\n",
    "                      learning_rate, activation_function='sigmoid',\n",
    "                      classification_problem=True)\n",
    "\n",
    "    ffnn.feed_forward()\n",
    "\n",
    "    ffnn.feed_backward()\n",
    "    ffnn.train()\n",
    "\n",
    "    NN_output_OR.append(ffnn.output_layer.output)\n",
    "\n",
    "print(NN_output_OR)\n"
   ]
  },
  {
   "cell_type": "code",
   "execution_count": null,
   "id": "cc2d2f2495bf52a7",
   "metadata": {
    "ExecuteTime": {
     "end_time": "2023-11-05T14:36:41.671540100Z",
     "start_time": "2023-11-05T14:35:21.051233400Z"
    }
   },
   "outputs": [],
   "source": [
    "#Testing xor gate\n",
    "\n",
    "NN_output_XOR = []\n",
    "\n",
    "# xor gate\n",
    "for X_row, target_row in zip(X_orig, target_XOR):\n",
    "\n",
    "    X = jnp.array([X_row])\n",
    "    target = jnp.array([target_row])\n",
    "\n",
    "    ffnn = Neural_Network(X, target, n_hidden_layers, n_hidden_nodes, n_outputs,\n",
    "                      learning_rate, activation_function='sigmoid',\n",
    "                      classification_problem=True)\n",
    "\n",
    "    ffnn.feed_forward()\n",
    "\n",
    "    ffnn.feed_backward()\n",
    "    ffnn.train()\n",
    "\n",
    "    NN_output_XOR.append(ffnn.output_layer.output)\n",
    "\n",
    "print(NN_output_XOR)\n"
   ]
  },
  {
   "cell_type": "code",
   "execution_count": null,
   "id": "3d5ca6bf9b7e79ff",
   "metadata": {
    "ExecuteTime": {
     "end_time": "2023-11-05T14:36:41.689347800Z",
     "start_time": "2023-11-05T14:36:41.680674500Z"
    }
   },
   "outputs": [],
   "source": [
    "def accuracy_test(y_true, y_pred):\n",
    "    # y_true is the true labels of the data\n",
    "    # y_pred is the predicted labels of the data by the neural network\n",
    "    # Both y_true and y_pred are numpy arrays of the same shape\n",
    "\n",
    "    # Compare y_true and y_pred element-wise and count the number of matches\n",
    "    matches = 0\n",
    "    for true, pred in zip(y_true, y_pred):\n",
    "        if true == pred:\n",
    "            matches = matches + 1\n",
    "\n",
    "    # Calculate the accuracy as the ratio of matches to the total number of data points\n",
    "    accuracy = matches / len(y_true)\n",
    "\n",
    "    # Return the accuracy as a percentage\n",
    "    return accuracy * 100\n"
   ]
  },
  {
   "cell_type": "code",
   "execution_count": null,
   "id": "d5da387d3453520e",
   "metadata": {
    "ExecuteTime": {
     "end_time": "2023-11-05T14:36:41.711650400Z",
     "start_time": "2023-11-05T14:36:41.690402400Z"
    }
   },
   "outputs": [],
   "source": [
    "\n",
    "accuracy_AND_gate = accuracy_test(target_AND, NN_output_AND)\n",
    "accuracy_OR_gate = accuracy_test(target_OR, NN_output_OR)\n",
    "accuracy_XOR_gate = accuracy_test(target_XOR, NN_output_XOR)\n",
    "\n",
    "print(accuracy_AND_gate)\n",
    "print(accuracy_OR_gate)\n",
    "print(accuracy_XOR_gate)"
   ]
  }
 ],
 "metadata": {
  "kernelspec": {
   "display_name": "Python 3 (ipykernel)",
   "language": "python",
   "name": "python3"
  },
  "language_info": {
   "codemirror_mode": {
    "name": "ipython",
    "version": 3
   },
   "file_extension": ".py",
   "mimetype": "text/x-python",
   "name": "python",
   "nbconvert_exporter": "python",
   "pygments_lexer": "ipython3",
   "version": "3.10.12"
  }
 },
 "nbformat": 4,
 "nbformat_minor": 5
}
