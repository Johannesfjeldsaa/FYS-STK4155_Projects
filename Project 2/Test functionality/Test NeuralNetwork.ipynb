{
 "cells": [
  {
   "cell_type": "markdown",
   "id": "e7afe96c25bdcb58",
   "metadata": {},
   "source": [
    "# Neural Network from scratch"
   ]
  },
  {
   "cell_type": "markdown",
   "id": "c90e6f916891cf27",
   "metadata": {},
   "source": [
    "## Import packages"
   ]
  },
  {
   "cell_type": "markdown",
   "id": "2689abcb2fb696c6",
   "metadata": {},
   "source": [
    "Set src directory to the path where the NeuralNetwork.py file is located."
   ]
  },
  {
   "cell_type": "code",
   "execution_count": 1,
   "id": "37377cf094025a6d",
   "metadata": {},
   "outputs": [],
   "source": [
    "import sys\n",
    "import os\n",
    "\n",
    "# Add the 'src' directory to the Python path\n",
    "src_dir = os.path.join(os.path.dirname(os.getcwd()), 'src')\n",
    "sys.path.append(src_dir)"
   ]
  },
  {
   "cell_type": "code",
   "execution_count": 2,
   "id": "initial_id",
   "metadata": {
    "ExecuteTime": {
     "end_time": "2023-11-05T14:22:24.746286400Z",
     "start_time": "2023-11-05T14:22:24.631822700Z"
    }
   },
   "outputs": [],
   "source": [
    "from NeuralNetwork import Neural_Network\n",
    "from GD_class import GradientDescent\n",
    "from cost_functions import Cost_Functions\n",
    "import numpy as np\n",
    "import jax.numpy as jnp\n",
    "import matplotlib.pyplot as plt\n",
    "\n",
    "from sklearn.metrics import accuracy_score\n",
    "import seaborn as sns"
   ]
  },
  {
   "cell_type": "markdown",
   "id": "ec891228226aa63c",
   "metadata": {},
   "source": [
    "## Initiate neural network"
   ]
  },
  {
   "cell_type": "markdown",
   "id": "ef3a4c91e7bd67ea",
   "metadata": {},
   "source": [
    "1. Set up the design matrix with the inputs as discussed above and a vector containing the output, the so-called targets. Note that the design matrix is the same for all gates. You need just to define different outputs."
   ]
  },
  {
   "cell_type": "code",
   "execution_count": 3,
   "id": "35dca06b",
   "metadata": {},
   "outputs": [],
   "source": [
    "def grad_cost_logreg(target):\n",
    "    \n",
    "    def func(pred):\n",
    "        \n",
    "        return (pred - target)/(pred * (1 - pred))\n",
    "\n",
    "    return func"
   ]
  },
  {
   "cell_type": "code",
   "execution_count": 22,
   "id": "8f56b6ba6623f14b",
   "metadata": {
    "ExecuteTime": {
     "end_time": "2023-11-05T14:22:24.881854900Z",
     "start_time": "2023-11-05T14:22:24.656823900Z"
    }
   },
   "outputs": [],
   "source": [
    "np.random.seed(1234)\n",
    "\n",
    "# Create design matrix\n",
    "X = jnp.array([[0, 0],\n",
    "               [0, 1],\n",
    "               [1, 0],\n",
    "               [1, 1]])\n",
    "\n",
    "#X = jnp.array([[0, 1]])\n",
    "\n",
    "# The XOR gate\n",
    "target_XOR = jnp.array( [ 0, 1 ,1, 0])\n",
    "# The OR gate\n",
    "target_OR = jnp.array( [ 0, 1 ,1, 1])\n",
    "# The AND gate\n",
    "target_AND = jnp.array( [ 0, 0 ,0, 1])\n",
    "\n",
    "target = target_AND.reshape(len(target_AND), 1)  # Needs to be of shape (n_inputs, 1) for grad_cost_logreg to work\n"
   ]
  },
  {
   "cell_type": "markdown",
   "id": "339a0c6e2a4febd7",
   "metadata": {},
   "source": [
    "2. Construct a neural network with only one hidden layer and two hidden nodes using the Sigmoid function as activation function."
   ]
  },
  {
   "cell_type": "code",
   "execution_count": 23,
   "id": "1d25a6a5",
   "metadata": {},
   "outputs": [],
   "source": [
    "grad_cost_function = grad_cost_logreg(target)"
   ]
  },
  {
   "cell_type": "code",
   "execution_count": 24,
   "id": "c2f098900ba9f2a7",
   "metadata": {
    "ExecuteTime": {
     "end_time": "2023-11-05T14:22:24.900856700Z",
     "start_time": "2023-11-05T14:22:24.679747800Z"
    }
   },
   "outputs": [
    {
     "data": {
      "text/plain": [
       "'Neural Network with 1 hidden layers and [2] nodes per layer. The activation function for hidden layers is sigmoid.The activation function for the output layer is sigmoid.'"
      ]
     },
     "execution_count": 24,
     "metadata": {},
     "output_type": "execute_result"
    }
   ],
   "source": [
    "n_hidden_layers = 1\n",
    "n_hidden_nodes = 2\n",
    "n_outputs = 1\n",
    "learning_rate=0.1\n",
    "n_features = X.shape[1]  # Is called n_inputs in class, should probably be features\n",
    "\n",
    "ffnn = Neural_Network(n_features, n_hidden_layers, n_hidden_nodes, n_outputs, \n",
    "                      cost_function=grad_cost_function,\n",
    "                      learning_rate=learning_rate, activation_function_hidden='sigmoid',\n",
    "                      activation_function_output='sigmoid',\n",
    "                      optimizer=None,\n",
    "                      classification_problem=True)\n",
    "\n",
    "str(ffnn)"
   ]
  },
  {
   "cell_type": "markdown",
   "id": "285abc1b97084f53",
   "metadata": {},
   "source": [
    "3. Set up the output layer with only one output node and use again the Sigmoid function as activation function for the output."
   ]
  },
  {
   "cell_type": "markdown",
   "id": "2f54e143b8e4c3b",
   "metadata": {},
   "source": []
  },
  {
   "cell_type": "code",
   "execution_count": 25,
   "id": "f3a8fdd8984ecbd8",
   "metadata": {
    "ExecuteTime": {
     "end_time": "2023-11-05T14:22:24.904858100Z",
     "start_time": "2023-11-05T14:22:24.697712300Z"
    }
   },
   "outputs": [
    {
     "name": "stdout",
     "output_type": "stream",
     "text": [
      "Output layer has 1 node and uses the sigmoid as activation function\n"
     ]
    }
   ],
   "source": [
    "print(f'Output layer has {ffnn.output_layer.n_nodes} node and uses the {str(ffnn.output_layer.activation_function)} as activation function')"
   ]
  },
  {
   "cell_type": "markdown",
   "id": "5d066a4645a122bc",
   "metadata": {},
   "source": [
    "4. Initialize the weights and biases and perform a feed forward pass and compare the outputs with the targets."
   ]
  },
  {
   "cell_type": "code",
   "execution_count": 26,
   "id": "d767c0df481cde5b",
   "metadata": {
    "ExecuteTime": {
     "end_time": "2023-11-05T14:22:24.947859900Z",
     "start_time": "2023-11-05T14:22:24.711724200Z"
    }
   },
   "outputs": [
    {
     "name": "stdout",
     "output_type": "stream",
     "text": [
      "Weights hidden layer 1:\n",
      "[[ 0.04714352 -0.11909757]\n",
      " [ 0.1432707  -0.03126519]]\n",
      "Biases hidden layer 1:\n",
      "[[0.01 0.01]]\n",
      "weights output layer:\n",
      "[[-0.07205887]\n",
      " [ 0.08871629]]\n",
      "Biases output layer:\n",
      "[[0.01]]\n"
     ]
    }
   ],
   "source": [
    "print('Weights hidden layer 1:\\n'\n",
    "      f'{ffnn.hidden_layers[0].weights}')\n",
    "print('Biases hidden layer 1:\\n'\n",
    "      f'{ffnn.hidden_layers[0].biases}')\n",
    "\n",
    "print('weights output layer:\\n'\n",
    "      f'{ffnn.output_layer.weights}')\n",
    "print('Biases output layer:\\n'\n",
    "      f'{ffnn.output_layer.biases}')"
   ]
  },
  {
   "cell_type": "code",
   "execution_count": 27,
   "id": "442bf7331f27ac00",
   "metadata": {
    "ExecuteTime": {
     "end_time": "2023-11-05T14:22:24.983864300Z",
     "start_time": "2023-11-05T14:22:24.729771400Z"
    }
   },
   "outputs": [
    {
     "name": "stdout",
     "output_type": "stream",
     "text": [
      "Final prediction before training:\n",
      "[[0.5045924 ]\n",
      " [0.5037753 ]\n",
      " [0.5037205 ]\n",
      " [0.50290555]]\n"
     ]
    }
   ],
   "source": [
    "ffnn.feed_forward(X)\n",
    "\n",
    "print(\"Final prediction before training:\\n\"\n",
    "      f\"{ffnn.output_layer.output}\")"
   ]
  },
  {
   "cell_type": "markdown",
   "id": "548e9e24",
   "metadata": {},
   "source": [
    "5. Set up the cost function (cross entropy for classification of binary cases).\n",
    "\n",
    "6. Calculate the gradients needed for the back propagation part.\n",
    "\n",
    "7. Use the gradients to train the network in the back propagation part. Think of using automatic differentiation."
   ]
  },
  {
   "cell_type": "code",
   "execution_count": 28,
   "id": "11e8a07f",
   "metadata": {
    "ExecuteTime": {
     "end_time": "2023-11-05T14:22:24.986866300Z",
     "start_time": "2023-11-05T14:22:24.744286700Z"
    }
   },
   "outputs": [
    {
     "name": "stdout",
     "output_type": "stream",
     "text": [
      "Weights and biases after one backward propagation: \n",
      "\n",
      "Weights hidden layer 1:\n",
      "[[ 0.14713855 -0.21909162]\n",
      " [ 0.24326432 -0.13126022]]\n",
      "Biases hidden layer 1:\n",
      "[[ 0.10999995 -0.08999996]]\n",
      "weights output layer:\n",
      "[[-0.17205888]\n",
      " [-0.01128371]]\n",
      "Biases output layer:\n",
      "[[-0.09]]\n"
     ]
    }
   ],
   "source": [
    "ffnn.feed_backward(X)\n",
    "\n",
    "print('Weights and biases after one backward propagation: \\n')\n",
    "\n",
    "print('Weights hidden layer 1:\\n'\n",
    "      f'{ffnn.hidden_layers[0].weights}')\n",
    "print('Biases hidden layer 1:\\n'\n",
    "      f'{ffnn.hidden_layers[0].biases}')\n",
    "\n",
    "print('weights output layer:\\n'\n",
    "      f'{ffnn.output_layer.weights}')\n",
    "print('Biases output layer:\\n'\n",
    "      f'{ffnn.output_layer.biases}')\n"
   ]
  },
  {
   "cell_type": "markdown",
   "id": "245e1613",
   "metadata": {},
   "source": [
    "8. Train the network and study your results and compare with results obtained either with scikit-learn or TensorFlow."
   ]
  },
  {
   "cell_type": "code",
   "execution_count": 29,
   "id": "f8bfa5e4",
   "metadata": {
    "ExecuteTime": {
     "end_time": "2023-11-05T14:22:50.733084700Z",
     "start_time": "2023-11-05T14:22:24.790857300Z"
    }
   },
   "outputs": [
    {
     "name": "stdout",
     "output_type": "stream",
     "text": [
      "Weights and biases after training: \n",
      "\n",
      "Weights hidden layer 1:\n",
      "[[-4.0514297 -4.9871607]\n",
      " [-4.037994  -4.9941545]]\n",
      "Biases hidden layer 1:\n",
      "[[5.1277924 6.5906377]]\n",
      "weights output layer:\n",
      "[[-4.707581 ]\n",
      " [-5.5821934]]\n",
      "Biases output layer:\n",
      "[[3.4137652]]\n",
      "\n",
      "Final prediction after training:\n",
      "[[0.]\n",
      " [0.]\n",
      " [0.]\n",
      " [1.]]\n"
     ]
    }
   ],
   "source": [
    "ffnn.train(X, num_iter=100)\n",
    "\n",
    "print('Weights and biases after training: \\n')\n",
    "\n",
    "print('Weights hidden layer 1:\\n'\n",
    "      f'{ffnn.hidden_layers[0].weights}')\n",
    "print('Biases hidden layer 1:\\n'\n",
    "      f'{ffnn.hidden_layers[0].biases}')\n",
    "\n",
    "print('weights output layer:\\n'\n",
    "      f'{ffnn.output_layer.weights}')\n",
    "print('Biases output layer:\\n'\n",
    "      f'{ffnn.output_layer.biases}')\n",
    "\n",
    "print(\"\\nFinal prediction after training:\\n\"\n",
    "      f\"{ffnn.output_layer.output}\")\n"
   ]
  },
  {
   "cell_type": "code",
   "execution_count": null,
   "id": "c2545c0c",
   "metadata": {},
   "outputs": [],
   "source": []
  },
  {
   "cell_type": "code",
   "execution_count": 39,
   "id": "1ee82af5",
   "metadata": {},
   "outputs": [
    {
     "data": {
      "image/png": "[encoded data removed]",
      "text/plain": [
       "<Figure size 1000x1000 with 2 Axes>"
      ]
     },
     "metadata": {},
     "output_type": "display_data"
    }
   ],
   "source": [
    "# Using and gate\n",
    "\n",
    "grad_cost_function = grad_cost_logreg(target_AND.reshape(len(target_AND), 1))\n",
    "\n",
    "learning_rates = np.logspace(-4, 0, 5)\n",
    "lmbd_vals = np.logspace(-4, 0, 5)\n",
    "\n",
    "accuracy = np.zeros((len(learning_rates), len(lmbd_vals)))\n",
    "\n",
    "for i, lr in enumerate(learning_rates):\n",
    "    for j, lmbd in enumerate(lmbd_vals):\n",
    "        \n",
    "        optimizer = GradientDescent(learning_rate=lr)\n",
    "        \n",
    "        ffnn = Neural_Network(n_features, n_hidden_layers, n_hidden_nodes, n_outputs, \n",
    "                              cost_function=grad_cost_function,\n",
    "                              learning_rate=lr, \n",
    "                              lmbd=lmbd, \n",
    "                              activation_function_hidden='sigmoid',\n",
    "                              activation_function_output='sigmoid',\n",
    "                              optimizer=optimizer,\n",
    "                              classification_problem=True)\n",
    "        \n",
    "        ffnn.train(X, num_iter=1000)\n",
    "        pred = ffnn.output_layer.output\n",
    "\n",
    "        accuracy[i][j] = accuracy_score(target_AND, pred)\n",
    "        \n",
    "fig, ax = plt.subplots(figsize = (10, 10))\n",
    "sns.heatmap(accuracy, annot=True, ax=ax, cmap=\"viridis\")\n",
    "ax.set_title(\"Training Accuracy\")\n",
    "ax.set_ylabel(\"learning rate\")\n",
    "ax.set_xlabel(\"lambda\")\n",
    "plt.show()"
   ]
  },
  {
   "cell_type": "code",
   "execution_count": 42,
   "id": "8a894b4b",
   "metadata": {},
   "outputs": [
    {
     "data": {
      "image/png": "[encoded data removed]",
      "text/plain": [
       "<Figure size 1000x1000 with 2 Axes>"
      ]
     },
     "metadata": {},
     "output_type": "display_data"
    }
   ],
   "source": [
    "# Using or gate\n",
    "\n",
    "grad_cost_function = grad_cost_logreg(target_OR.reshape(len(target_OR), 1))\n",
    "\n",
    "learning_rates = np.logspace(-4, 0, 5)\n",
    "lmbd_vals = np.logspace(-4, 0, 5)\n",
    "\n",
    "accuracy = np.zeros((len(learning_rates), len(lmbd_vals)))\n",
    "\n",
    "for i, lr in enumerate(learning_rates):\n",
    "    for j, lmbd in enumerate(lmbd_vals):\n",
    "        \n",
    "        #print(f\"Learning rate: {lr}\")\n",
    "        #print(f\"Lambda: {lmbd}\")\n",
    "        \n",
    "        optimizer = GradientDescent(learning_rate=lr)\n",
    "        \n",
    "        ffnn = Neural_Network(n_features, n_hidden_layers, n_hidden_nodes, n_outputs, \n",
    "                              cost_function=grad_cost_function,\n",
    "                              learning_rate=lr, \n",
    "                              lmbd=lmbd, \n",
    "                              activation_function_hidden='sigmoid',\n",
    "                              activation_function_output='sigmoid',\n",
    "                              optimizer=optimizer,\n",
    "                              classification_problem=True)\n",
    "        \n",
    "        ffnn.train(X, num_iter=1000)\n",
    "        pred = ffnn.output_layer.output\n",
    "\n",
    "        accuracy[i][j] = accuracy_score(target_OR, pred)\n",
    "        \n",
    "fig, ax = plt.subplots(figsize = (10, 10))\n",
    "sns.heatmap(accuracy, annot=True, ax=ax, cmap=\"viridis\")\n",
    "ax.set_title(\"Training Accuracy\")\n",
    "ax.set_ylabel(\"learning rate\")\n",
    "ax.set_xlabel(\"lambda\")\n",
    "plt.show()"
   ]
  },
  {
   "cell_type": "code",
   "execution_count": 47,
   "id": "ea251a61",
   "metadata": {},
   "outputs": [
    {
     "data": {
      "image/png": "[encoded data removed]",
      "text/plain": [
       "<Figure size 1000x1000 with 2 Axes>"
      ]
     },
     "metadata": {},
     "output_type": "display_data"
    }
   ],
   "source": [
    "# Using xor gate\n",
    "\n",
    "grad_cost_function = grad_cost_logreg(target_XOR.reshape(len(target_XOR), 1))\n",
    "\n",
    "learning_rates = np.logspace(-4, 0, 5)\n",
    "lmbd_vals = np.logspace(-4, 0, 5)\n",
    "\n",
    "accuracy = np.zeros((len(learning_rates), len(lmbd_vals)))\n",
    "\n",
    "for i, lr in enumerate(learning_rates):\n",
    "    for j, lmbd in enumerate(lmbd_vals):\n",
    "        \n",
    "        optimizer = GradientDescent(learning_rate=lr)\n",
    "        \n",
    "        ffnn = Neural_Network(n_features, n_hidden_layers, n_hidden_nodes, n_outputs, \n",
    "                              cost_function=grad_cost_function,\n",
    "                              learning_rate=lr, \n",
    "                              lmbd=lmbd, \n",
    "                              activation_function_hidden='sigmoid',\n",
    "                              activation_function_output='sigmoid',\n",
    "                              optimizer=optimizer,\n",
    "                              classification_problem=True)\n",
    "        \n",
    "        ffnn.train(X, num_iter=10000)\n",
    "        pred = ffnn.output_layer.output\n",
    "\n",
    "        accuracy[i][j] = accuracy_score(target_XOR, pred)\n",
    "        \n",
    "fig, ax = plt.subplots(figsize = (10, 10))\n",
    "sns.heatmap(accuracy, annot=True, ax=ax, cmap=\"viridis\")\n",
    "ax.set_title(\"Training Accuracy\")\n",
    "ax.set_ylabel(\"learning rate\")\n",
    "ax.set_xlabel(\"lambda\")\n",
    "plt.show()"
   ]
  },
  {
   "cell_type": "code",
   "execution_count": null,
   "id": "aadc8d10",
   "metadata": {},
   "outputs": [],
   "source": []
  },
  {
   "cell_type": "code",
   "execution_count": null,
   "id": "d89a509e",
   "metadata": {},
   "outputs": [],
   "source": []
  },
  {
   "cell_type": "code",
   "execution_count": null,
   "id": "734f1a27",
   "metadata": {
    "ExecuteTime": {
     "end_time": "2023-11-05T14:32:19.191038500Z",
     "start_time": "2023-11-05T14:32:19.174183700Z"
    }
   },
   "outputs": [],
   "source": [
    "np.random.seed(1234)\n",
    "\n",
    "# Create design matrix\n",
    "X_orig = jnp.array([[0, 0],\n",
    "               [0, 1],\n",
    "               [1, 0],\n",
    "               [1, 1]])\n",
    "\n",
    "#X = jnp.array([[0, 1]])\n",
    "\n",
    "# The XOR gate\n",
    "target_XOR = jnp.array( [ 0, 1 ,1, 0])\n",
    "# The OR gate\n",
    "target_OR = jnp.array( [ 0, 1 ,1, 1])\n",
    "# The AND gate\n",
    "target_AND = jnp.array( [ 0, 0 ,0, 1])\n",
    "\n",
    "#target = jnp.array([0])\n",
    "\n",
    "\n",
    "n_hidden_layers = 1\n",
    "n_hidden_nodes = 2\n",
    "n_outputs = 1\n",
    "learning_rate=0.1"
   ]
  },
  {
   "cell_type": "code",
   "execution_count": null,
   "id": "91530549c5e06582",
   "metadata": {
    "ExecuteTime": {
     "end_time": "2023-11-05T14:33:54.975708800Z",
     "start_time": "2023-11-05T14:32:24.881089400Z"
    }
   },
   "outputs": [],
   "source": [
    "#Testing AND gate\n",
    "NN_output_AND = []\n",
    "\n",
    "# AND gate\n",
    "for X_row, target_row in zip(X_orig, target_AND):\n",
    "\n",
    "    X = jnp.array([X_row])\n",
    "    target = jnp.array([target_row])\n",
    "\n",
    "    ffnn = Neural_Network(X, target, n_hidden_layers, n_hidden_nodes, n_outputs,\n",
    "                      learning_rate, activation_function='sigmoid',\n",
    "                      classification_problem=True)\n",
    "\n",
    "    ffnn.feed_forward()\n",
    "\n",
    "    ffnn.feed_backward()\n",
    "    ffnn.train()\n",
    "\n",
    "    NN_output_AND.append(ffnn.output_layer.output)\n",
    "\n",
    "print(NN_output_AND)\n"
   ]
  },
  {
   "cell_type": "code",
   "execution_count": null,
   "id": "a83f38eb4235c6e3",
   "metadata": {
    "ExecuteTime": {
     "end_time": "2023-11-05T14:35:21.046229200Z",
     "start_time": "2023-11-05T14:33:54.992436400Z"
    }
   },
   "outputs": [],
   "source": [
    "\n",
    "#Testing OR gate\n",
    "\n",
    "NN_output_OR = []\n",
    "\n",
    "# or gate\n",
    "for X_row, target_row in zip(X_orig, target_OR):\n",
    "\n",
    "    X = jnp.array([X_row])\n",
    "    target = jnp.array([target_row])\n",
    "\n",
    "    ffnn = Neural_Network(X, target, n_hidden_layers, n_hidden_nodes, n_outputs,\n",
    "                      learning_rate, activation_function='sigmoid',\n",
    "                      classification_problem=True)\n",
    "\n",
    "    ffnn.feed_forward()\n",
    "\n",
    "    ffnn.feed_backward()\n",
    "    ffnn.train()\n",
    "\n",
    "    NN_output_OR.append(ffnn.output_layer.output)\n",
    "\n",
    "print(NN_output_OR)\n"
   ]
  },
  {
   "cell_type": "code",
   "execution_count": null,
   "id": "cc2d2f2495bf52a7",
   "metadata": {
    "ExecuteTime": {
     "end_time": "2023-11-05T14:36:41.671540100Z",
     "start_time": "2023-11-05T14:35:21.051233400Z"
    }
   },
   "outputs": [],
   "source": [
    "#Testing xor gate\n",
    "\n",
    "NN_output_XOR = []\n",
    "\n",
    "# xor gate\n",
    "for X_row, target_row in zip(X_orig, target_XOR):\n",
    "\n",
    "    X = jnp.array([X_row])\n",
    "    target = jnp.array([target_row])\n",
    "\n",
    "    ffnn = Neural_Network(X, target, n_hidden_layers, n_hidden_nodes, n_outputs,\n",
    "                      learning_rate, activation_function='sigmoid',\n",
    "                      classification_problem=True)\n",
    "\n",
    "    ffnn.feed_forward()\n",
    "\n",
    "    ffnn.feed_backward()\n",
    "    ffnn.train()\n",
    "\n",
    "    NN_output_XOR.append(ffnn.output_layer.output)\n",
    "\n",
    "print(NN_output_XOR)\n"
   ]
  },
  {
   "cell_type": "code",
   "execution_count": null,
   "id": "3d5ca6bf9b7e79ff",
   "metadata": {
    "ExecuteTime": {
     "end_time": "2023-11-05T14:36:41.689347800Z",
     "start_time": "2023-11-05T14:36:41.680674500Z"
    }
   },
   "outputs": [],
   "source": [
    "def accuracy_test(y_true, y_pred):\n",
    "    # y_true is the true labels of the data\n",
    "    # y_pred is the predicted labels of the data by the neural network\n",
    "    # Both y_true and y_pred are numpy arrays of the same shape\n",
    "\n",
    "    # Compare y_true and y_pred element-wise and count the number of matches\n",
    "    matches = 0\n",
    "    for true, pred in zip(y_true, y_pred):\n",
    "        if true == pred:\n",
    "            matches = matches + 1\n",
    "\n",
    "    # Calculate the accuracy as the ratio of matches to the total number of data points\n",
    "    accuracy = matches / len(y_true)\n",
    "\n",
    "    # Return the accuracy as a percentage\n",
    "    return accuracy * 100\n"
   ]
  },
  {
   "cell_type": "code",
   "execution_count": null,
   "id": "d5da387d3453520e",
   "metadata": {
    "ExecuteTime": {
     "end_time": "2023-11-05T14:36:41.711650400Z",
     "start_time": "2023-11-05T14:36:41.690402400Z"
    }
   },
   "outputs": [],
   "source": [
    "\n",
    "accuracy_AND_gate = accuracy_test(target_AND, NN_output_AND)\n",
    "accuracy_OR_gate = accuracy_test(target_OR, NN_output_OR)\n",
    "accuracy_XOR_gate = accuracy_test(target_XOR, NN_output_XOR)\n",
    "\n",
    "print(accuracy_AND_gate)\n",
    "print(accuracy_OR_gate)\n",
    "print(accuracy_XOR_gate)"
   ]
  }
 ],
 "metadata": {
  "kernelspec": {
   "display_name": "Python 3 (ipykernel)",
   "language": "python",
   "name": "python3"
  },
  "language_info": {
   "codemirror_mode": {
    "name": "ipython",
    "version": 3
   },
   "file_extension": ".py",
   "mimetype": "text/x-python",
   "name": "python",
   "nbconvert_exporter": "python",
   "pygments_lexer": "ipython3",
   "version": "3.10.12"
  }
 },
 "nbformat": 4,
 "nbformat_minor": 5
}
