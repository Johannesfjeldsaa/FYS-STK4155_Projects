{
 "cells": [
  {
   "cell_type": "code",
   "execution_count": 1,
   "id": "initial_id",
   "metadata": {
    "collapsed": true,
    "ExecuteTime": {
     "end_time": "2023-10-29T09:33:38.425923700Z",
     "start_time": "2023-10-29T09:33:37.925977Z"
    }
   },
   "outputs": [],
   "source": [
    "from NeuralNetwork import Neural_Network\n",
    "import numpy as np\n",
    "import jax.numpy as jnp"
   ]
  },
  {
   "cell_type": "markdown",
   "source": [
    "## Initiate neural network"
   ],
   "metadata": {
    "collapsed": false
   },
   "id": "ec891228226aa63c"
  },
  {
   "cell_type": "markdown",
   "source": [
    "1. Set up the design matrix with the inputs as discussed above and a vector containing the output, the so-called targets. Note that the design matrix is the same for all gates. You need just to define different outputs."
   ],
   "metadata": {
    "collapsed": false
   },
   "id": "ef3a4c91e7bd67ea"
  },
  {
   "cell_type": "code",
   "execution_count": 2,
   "outputs": [
    {
     "data": {
      "text/plain": "array([[ 0.47143516, -1.19097569],\n       [ 1.43270697, -0.3126519 ],\n       [-0.72058873,  0.88716294],\n       [ 0.85958841, -0.6365235 ]])"
     },
     "execution_count": 2,
     "metadata": {},
     "output_type": "execute_result"
    }
   ],
   "source": [
    "np.random.seed(1234)\n",
    "\n",
    "# Create design matrix\n",
    "X = jnp.array([[0, 0],\n",
    "               [0, 1],\n",
    "               [1, 0],\n",
    "               [1, 1]])\n",
    "# Since X is our input we need it to be a vector, hence we reshape it \n",
    "X = X.reshape((X.shape[0]*X.shape[1], 1))\n",
    "\n",
    "# The XOR gate\n",
    "target_XOR = jnp.array( [ 0, 1 ,1, 0])\n",
    "# The OR gate\n",
    "target_OR = jnp.array( [ 0, 1 ,1, 1])\n",
    "# The AND gate\n",
    "target_AND = jnp.array( [ 0, 0 ,0, 1])\n",
    "\n",
    "np.random.randn(4, 2)"
   ],
   "metadata": {
    "collapsed": false,
    "ExecuteTime": {
     "end_time": "2023-10-29T09:33:38.522043300Z",
     "start_time": "2023-10-29T09:33:38.430279200Z"
    }
   },
   "id": "8f56b6ba6623f14b"
  },
  {
   "cell_type": "markdown",
   "source": [
    "2. Construct a neural network with only one hidden layer and two hidden nodes using the Sigmoid function as activation function."
   ],
   "metadata": {
    "collapsed": false
   },
   "id": "339a0c6e2a4febd7"
  },
  {
   "cell_type": "code",
   "execution_count": 3,
   "outputs": [
    {
     "data": {
      "text/plain": "'Neural Network with 1 hidden layers and [2] nodes per layer. The activation function is sigmoid.'"
     },
     "execution_count": 3,
     "metadata": {},
     "output_type": "execute_result"
    }
   ],
   "source": [
    "n_hidden_layers = 1\n",
    "n_hidden_nodes = 2\n",
    "n_outputs = 1\n",
    "\n",
    "ffnn = Neural_Network(X, target_OR, n_hidden_layers, n_hidden_nodes, n_outputs, activation_function='sigmoid')\n",
    "str(ffnn)"
   ],
   "metadata": {
    "collapsed": false,
    "ExecuteTime": {
     "end_time": "2023-10-29T09:33:38.523045400Z",
     "start_time": "2023-10-29T09:33:38.517403500Z"
    }
   },
   "id": "c2f098900ba9f2a7"
  },
  {
   "cell_type": "markdown",
   "source": [
    "3. Set up the output layer with only one output node and use again the Sigmoid function as activation function for the output."
   ],
   "metadata": {
    "collapsed": false
   },
   "id": "285abc1b97084f53"
  },
  {
   "cell_type": "markdown",
   "source": [],
   "metadata": {
    "collapsed": false
   },
   "id": "2f54e143b8e4c3b"
  },
  {
   "cell_type": "code",
   "execution_count": 4,
   "outputs": [
    {
     "name": "stdout",
     "output_type": "stream",
     "text": [
      "Output layer has 1 node and uses the sigmoid as activation function\n"
     ]
    }
   ],
   "source": [
    "print(f'Output layer has {ffnn.output_layer.n_nodes} node and uses the {str(ffnn.output_layer.activation_function)} as activation function')"
   ],
   "metadata": {
    "collapsed": false,
    "ExecuteTime": {
     "end_time": "2023-10-29T09:33:38.535457Z",
     "start_time": "2023-10-29T09:33:38.523557600Z"
    }
   },
   "id": "f3a8fdd8984ecbd8"
  },
  {
   "cell_type": "markdown",
   "source": [
    "4. Initialize the weights and biases and perform a feed forward pass and compare the outputs with the targets."
   ],
   "metadata": {
    "collapsed": false
   },
   "id": "5d066a4645a122bc"
  },
  {
   "cell_type": "code",
   "execution_count": 5,
   "outputs": [
    {
     "name": "stdout",
     "output_type": "stream",
     "text": [
      "Weights hidden layer 1:\n",
      "[[ 1.56963721e-03 -2.24268495e-01]\n",
      " [ 1.15003572e-01  9.91946022e-02]\n",
      " [ 9.53324128e-02 -2.02125482e-01]\n",
      " [-3.34077366e-02  2.11836468e-04]\n",
      " [ 4.05453412e-02  2.89091941e-02]\n",
      " [ 1.32115819e-01 -1.54690555e-01]\n",
      " [-2.02646325e-02 -6.55969344e-02]\n",
      " [ 1.93421376e-02  5.53438911e-02]]\n",
      "Biases hidden layer 1:\n",
      "[[0.01 0.01]]\n",
      "weights output layer:\n",
      "[[ 0.13181516]\n",
      " [-0.04693053]]\n",
      "Biases output layer:\n",
      "[[0.01]]\n"
     ]
    }
   ],
   "source": [
    "print('Weights hidden layer 1:\\n'\n",
    "      f'{ffnn.hidden_layers[0].weights}')\n",
    "print('Biases hidden layer 1:\\n'\n",
    "      f'{ffnn.hidden_layers[0].biases}')\n",
    "\n",
    "print('weights output layer:\\n'\n",
    "      f'{ffnn.output_layer.weights}')\n",
    "print('Biases output layer:\\n'\n",
    "      f'{ffnn.output_layer.biases}')"
   ],
   "metadata": {
    "collapsed": false,
    "ExecuteTime": {
     "end_time": "2023-10-29T09:33:38.571821200Z",
     "start_time": "2023-10-29T09:33:38.534432900Z"
    }
   },
   "id": "d767c0df481cde5b"
  },
  {
   "cell_type": "code",
   "execution_count": 6,
   "outputs": [
    {
     "name": "stdout",
     "output_type": "stream",
     "text": [
      "[[0.50405365 0.5072165 ]]\n",
      "Weights hidden layer 1:\n",
      "[[ 1.56963721e-03 -2.24268495e-01]\n",
      " [ 1.15003572e-01  9.91946022e-02]\n",
      " [ 9.53324128e-02 -2.02125482e-01]\n",
      " [-3.34077366e-02  2.11836468e-04]\n",
      " [ 4.05453412e-02  2.89091941e-02]\n",
      " [ 1.32115819e-01 -1.54690555e-01]\n",
      " [-2.02646325e-02 -6.55969344e-02]\n",
      " [ 1.93421376e-02  5.53438911e-02]]\n",
      "Biases hidden layer 1:\n",
      "[[0.01 0.01]]\n",
      "weights output layer:\n",
      "[[ 0.13181516]\n",
      " [-0.04693053]]\n",
      "Biases output layer:\n",
      "[[0.01]]\n"
     ]
    }
   ],
   "source": [
    "ffnn.feed_forward()\n",
    "print('Weights hidden layer 1:\\n'\n",
    "      f'{ffnn.hidden_layers[0].weights}')\n",
    "print('Biases hidden layer 1:\\n'\n",
    "      f'{ffnn.hidden_layers[0].biases}')\n",
    "\n",
    "print('weights output layer:\\n'\n",
    "      f'{ffnn.output_layer.weights}')\n",
    "print('Biases output layer:\\n'\n",
    "      f'{ffnn.output_layer.biases}')"
   ],
   "metadata": {
    "collapsed": false,
    "ExecuteTime": {
     "end_time": "2023-10-29T09:33:39.643036100Z",
     "start_time": "2023-10-29T09:33:39.567478500Z"
    }
   },
   "id": "442bf7331f27ac00"
  }
 ],
 "metadata": {
  "kernelspec": {
   "display_name": "Python 3",
   "language": "python",
   "name": "python3"
  },
  "language_info": {
   "codemirror_mode": {
    "name": "ipython",
    "version": 2
   },
   "file_extension": ".py",
   "mimetype": "text/x-python",
   "name": "python",
   "nbconvert_exporter": "python",
   "pygments_lexer": "ipython2",
   "version": "2.7.6"
  }
 },
 "nbformat": 4,
 "nbformat_minor": 5
}
