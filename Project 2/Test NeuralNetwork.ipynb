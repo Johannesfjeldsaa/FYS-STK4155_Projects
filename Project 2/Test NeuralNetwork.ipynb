{
 "cells": [
  {
   "cell_type": "code",
   "execution_count": 3,
   "id": "initial_id",
   "metadata": {
    "ExecuteTime": {
     "end_time": "2023-11-01T13:14:23.708562600Z",
     "start_time": "2023-11-01T13:14:21.374606900Z"
    }
   },
   "outputs": [],
   "source": [
    "#from NeuralNetwork import Neural_Network\n",
    "from NeuralNetwork_for_classification import Neural_Network\n",
    "import numpy as np\n",
    "import jax.numpy as jnp\n",
    "from cost_functions import *"
   ]
  },
  {
   "cell_type": "markdown",
   "id": "ec891228226aa63c",
   "metadata": {},
   "source": [
    "## Initiate neural network"
   ]
  },
  {
   "cell_type": "markdown",
   "id": "ef3a4c91e7bd67ea",
   "metadata": {},
   "source": [
    "1. Set up the design matrix with the inputs as discussed above and a vector containing the output, the so-called targets. Note that the design matrix is the same for all gates. You need just to define different outputs."
   ]
  },
  {
   "cell_type": "code",
   "execution_count": 4,
   "id": "8f56b6ba6623f14b",
   "metadata": {
    "ExecuteTime": {
     "end_time": "2023-11-01T13:14:24.024344200Z",
     "start_time": "2023-11-01T13:14:23.712568800Z"
    }
   },
   "outputs": [],
   "source": [
    "np.random.seed(1234)\n",
    "\n",
    "# Create design matrix\n",
    "X = jnp.array([[0, 0],\n",
    "               [0, 1],\n",
    "               [1, 0],\n",
    "               [1, 1]])\n",
    "# Since X is our input we need it to be a vector, hence we reshape it \n",
    "#X = X.reshape((X.shape[0]*X.shape[1], 1))\n",
    "\n",
    "# The XOR gate\n",
    "target_XOR = jnp.array( [ 0, 1 ,1, 0])\n",
    "# The OR gate\n",
    "target_OR = jnp.array( [ 0, 1 ,1, 1])\n",
    "# The AND gate\n",
    "target_AND = jnp.array( [ 0, 0 ,0, 1])\n",
    "\n"
   ]
  },
  {
   "cell_type": "markdown",
   "id": "339a0c6e2a4febd7",
   "metadata": {},
   "source": [
    "2. Construct a neural network with only one hidden layer and two hidden nodes using the Sigmoid function as activation function."
   ]
  },
  {
   "cell_type": "code",
   "execution_count": 5,
   "id": "c2f098900ba9f2a7",
   "metadata": {
    "ExecuteTime": {
     "end_time": "2023-11-01T13:14:24.044111700Z",
     "start_time": "2023-11-01T13:14:24.029346700Z"
    }
   },
   "outputs": [
    {
     "data": {
      "text/plain": "'Neural Network with 1 hidden layers and [2] nodes per layer. The activation function is sigmoid.'"
     },
     "execution_count": 5,
     "metadata": {},
     "output_type": "execute_result"
    }
   ],
   "source": [
    "n_hidden_layers = 1\n",
    "n_hidden_nodes = 2\n",
    "n_outputs = 1\n",
    "\n",
    "NN = Neural_Network(X, target_OR, n_hidden_layers, n_hidden_nodes, n_outputs, activation_function='sigmoid', cost_func=CostCrossEntropy)\n",
    "str(NN)"
   ]
  },
  {
   "cell_type": "markdown",
   "id": "285abc1b97084f53",
   "metadata": {},
   "source": [
    "3. Set up the output layer with only one output node and use again the Sigmoid function as activation function for the output."
   ]
  },
  {
   "cell_type": "markdown",
   "id": "2f54e143b8e4c3b",
   "metadata": {},
   "source": []
  },
  {
   "cell_type": "code",
   "execution_count": 6,
   "id": "f3a8fdd8984ecbd8",
   "metadata": {
    "ExecuteTime": {
     "end_time": "2023-11-01T13:14:24.085439200Z",
     "start_time": "2023-11-01T13:14:24.050621900Z"
    }
   },
   "outputs": [
    {
     "name": "stdout",
     "output_type": "stream",
     "text": [
      "Output layer has 1 node and uses the sigmoid as activation function\n"
     ]
    }
   ],
   "source": [
    "print(f'Output layer has {NN.output_layer.n_nodes} node and uses the {str(NN.output_layer.activation_function)} as activation function')"
   ]
  },
  {
   "cell_type": "markdown",
   "id": "5d066a4645a122bc",
   "metadata": {},
   "source": [
    "4. Initialize the weights and biases and perform a feed forward pass and compare the outputs with the targets."
   ]
  },
  {
   "cell_type": "code",
   "execution_count": 7,
   "id": "d767c0df481cde5b",
   "metadata": {
    "ExecuteTime": {
     "end_time": "2023-11-01T13:14:24.095452100Z",
     "start_time": "2023-11-01T13:14:24.065142300Z"
    }
   },
   "outputs": [
    {
     "name": "stdout",
     "output_type": "stream",
     "text": [
      "Weights hidden layer 1:\n",
      "[[ 0.04714352 -0.11909757]\n",
      " [ 0.1432707  -0.03126519]]\n",
      "Biases hidden layer 1:\n",
      "[[0.01 0.01]]\n",
      "weights output layer:\n",
      "[[-0.07205887]\n",
      " [ 0.08871629]]\n",
      "Biases output layer:\n",
      "[[0.01]]\n"
     ]
    }
   ],
   "source": [
    "print('Weights hidden layer 1:\\n'\n",
    "      f'{NN.hidden_layers[0].weights}')\n",
    "print('Biases hidden layer 1:\\n'\n",
    "      f'{NN.hidden_layers[0].biases}')\n",
    "\n",
    "print('weights output layer:\\n'\n",
    "      f'{NN.output_layer.weights}')\n",
    "print('Biases output layer:\\n'\n",
    "      f'{NN.output_layer.biases}')"
   ]
  },
  {
   "cell_type": "code",
   "execution_count": 8,
   "id": "442bf7331f27ac00",
   "metadata": {
    "ExecuteTime": {
     "end_time": "2023-11-01T13:14:24.339257900Z",
     "start_time": "2023-11-01T13:14:24.081440500Z"
    }
   },
   "outputs": [
    {
     "name": "stdout",
     "output_type": "stream",
     "text": [
      "Weights hidden layer 1:\n",
      "[[ 0.04714352 -0.11909757]\n",
      " [ 0.1432707  -0.03126519]]\n",
      "Biases hidden layer 1:\n",
      "[[0.01 0.01]]\n",
      "weights output layer:\n",
      "[[-0.07205887]\n",
      " [ 0.08871629]]\n",
      "Biases output layer:\n",
      "[[0.01]]\n"
     ]
    }
   ],
   "source": [
    "NN.feed_forward()\n",
    "print('Weights hidden layer 1:\\n'\n",
    "      f'{NN.hidden_layers[0].weights}')\n",
    "print('Biases hidden layer 1:\\n'\n",
    "      f'{NN.hidden_layers[0].biases}')\n",
    "\n",
    "print('weights output layer:\\n'\n",
    "      f'{NN.output_layer.weights}')\n",
    "print('Biases output layer:\\n'\n",
    "      f'{NN.output_layer.biases}')"
   ]
  },
  {
   "cell_type": "code",
   "execution_count": 9,
   "id": "86bfac4e",
   "metadata": {
    "ExecuteTime": {
     "end_time": "2023-11-01T13:14:24.362441500Z",
     "start_time": "2023-11-01T13:14:24.349259400Z"
    }
   },
   "outputs": [
    {
     "name": "stdout",
     "output_type": "stream",
     "text": [
      "zs\n",
      "[[ 0.01        0.01      ]\n",
      " [ 0.1532707  -0.02126519]\n",
      " [ 0.05714352 -0.10909757]\n",
      " [ 0.20041423 -0.14036275]]\n",
      "sigma(z)\n",
      "[[0.5025     0.5025    ]\n",
      " [0.5382428  0.4946839 ]\n",
      " [0.514282   0.47275263]\n",
      " [0.54993653 0.46496683]]\n",
      "z output layer\n",
      "[[0.01837035]\n",
      " [0.01510135]\n",
      " [0.01488228]\n",
      " [0.01162233]]\n",
      "sigma(z) output layer\n",
      "[[0.5045924 ]\n",
      " [0.5037753 ]\n",
      " [0.5037205 ]\n",
      " [0.50290555]]\n"
     ]
    }
   ],
   "source": [
    "for i in range(n_hidden_layers):\n",
    "    print('zs')\n",
    "    print(NN.hidden_layers[i].output_pre_activation)\n",
    "    print('sigma(z)')\n",
    "    print(NN.hidden_layers[i].output)\n",
    "    \n",
    "    print('z output layer')\n",
    "    print(NN.output_layer.output_pre_activation)\n",
    "    print('sigma(z) output layer')\n",
    "    print(NN.output_layer.output)\n",
    "    "
   ]
  },
  {
   "cell_type": "code",
   "execution_count": 23,
   "outputs": [
    {
     "name": "stdout",
     "output_type": "stream",
     "text": [
      "derivate of the cost function at target is <function CostCrossEntropy.<locals>.func at 0x00000218CE280180>\n"
     ]
    },
    {
     "ename": "ValueError",
     "evalue": "Either x or y must be given",
     "output_type": "error",
     "traceback": [
      "\u001B[1;31m---------------------------------------------------------------------------\u001B[0m",
      "\u001B[1;31mValueError\u001B[0m                                Traceback (most recent call last)",
      "Cell \u001B[1;32mIn[23], line 1\u001B[0m\n\u001B[1;32m----> 1\u001B[0m NN\u001B[38;5;241m.\u001B[39mbackward_propagation()\n",
      "File \u001B[1;32m~\\Desktop\\FYS-STK4155_Projects\\Project 2\\NeuralNetwork_for_classification.py:185\u001B[0m, in \u001B[0;36mNeural_Network.backward_propagation\u001B[1;34m(self)\u001B[0m\n\u001B[0;32m    180\u001B[0m \u001B[38;5;28mprint\u001B[39m(\u001B[38;5;124mf\u001B[39m\u001B[38;5;124m'\u001B[39m\u001B[38;5;124mderivate of the cost function at target is \u001B[39m\u001B[38;5;132;01m{\u001B[39;00mderivative_cost_func\u001B[38;5;132;01m}\u001B[39;00m\u001B[38;5;124m'\u001B[39m)\n\u001B[0;32m    183\u001B[0m \u001B[38;5;66;03m# calculate delta for output layer\u001B[39;00m\n\u001B[0;32m    184\u001B[0m delta_L \u001B[38;5;241m=\u001B[39m (derivative_cost_func(\u001B[38;5;28mself\u001B[39m\u001B[38;5;241m.\u001B[39moutput_layer\u001B[38;5;241m.\u001B[39moutput) \u001B[38;5;241m*\u001B[39m\n\u001B[1;32m--> 185\u001B[0m            Activation_Functions\u001B[38;5;241m.\u001B[39mgrad_sigmoid(\u001B[38;5;28mself\u001B[39m\u001B[38;5;241m.\u001B[39moutput_layer\u001B[38;5;241m.\u001B[39moutput_pre_activation))\n\u001B[0;32m    187\u001B[0m \u001B[38;5;28mprint\u001B[39m(delta_L)\n",
      "File \u001B[1;32m~\\Desktop\\FYS-STK4155_Projects\\Project 2\\activation_functions.py:52\u001B[0m, in \u001B[0;36mActivation_Functions.grad_sigmoid\u001B[1;34m(self, x, y)\u001B[0m\n\u001B[0;32m     50\u001B[0m     \u001B[38;5;28;01mreturn\u001B[39;00m \u001B[38;5;28mself\u001B[39m\u001B[38;5;241m.\u001B[39msigmoid(x) \u001B[38;5;241m*\u001B[39m (\u001B[38;5;241m1\u001B[39m \u001B[38;5;241m-\u001B[39m \u001B[38;5;28mself\u001B[39m\u001B[38;5;241m.\u001B[39msigmoid(x))\n\u001B[0;32m     51\u001B[0m \u001B[38;5;28;01melse\u001B[39;00m:\n\u001B[1;32m---> 52\u001B[0m     \u001B[38;5;28;01mraise\u001B[39;00m \u001B[38;5;167;01mValueError\u001B[39;00m(\u001B[38;5;124m'\u001B[39m\u001B[38;5;124mEither x or y must be given\u001B[39m\u001B[38;5;124m'\u001B[39m)\n",
      "\u001B[1;31mValueError\u001B[0m: Either x or y must be given"
     ]
    }
   ],
   "source": [
    "NN.backward_propagation()\n",
    "\n"
   ],
   "metadata": {
    "collapsed": false,
    "ExecuteTime": {
     "end_time": "2023-11-01T13:21:58.172303900Z",
     "start_time": "2023-11-01T13:21:58.049899200Z"
    }
   },
   "id": "f1a3284a8ab1d313"
  },
  {
   "cell_type": "code",
   "execution_count": null,
   "outputs": [],
   "source": [],
   "metadata": {
    "collapsed": false,
    "ExecuteTime": {
     "start_time": "2023-11-01T13:14:25.534237200Z"
    }
   },
   "id": "d9182caad412a99"
  }
 ],
 "metadata": {
  "kernelspec": {
   "display_name": "Python 3 (ipykernel)",
   "language": "python",
   "name": "python3"
  },
  "language_info": {
   "codemirror_mode": {
    "name": "ipython",
    "version": 3
   },
   "file_extension": ".py",
   "mimetype": "text/x-python",
   "name": "python",
   "nbconvert_exporter": "python",
   "pygments_lexer": "ipython3",
   "version": "3.10.12"
  }
 },
 "nbformat": 4,
 "nbformat_minor": 5
}
