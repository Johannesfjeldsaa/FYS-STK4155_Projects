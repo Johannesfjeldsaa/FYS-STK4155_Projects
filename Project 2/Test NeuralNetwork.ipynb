{
 "cells": [
  {
   "cell_type": "code",

   "execution_count": 13,
   "id": "initial_id",
   "metadata": {
    "ExecuteTime": {
     "end_time": "2023-11-05T14:22:24.746286400Z",
     "start_time": "2023-11-05T14:22:24.631822700Z"
    }

   },
   "outputs": [],
   "source": [
    "from NeuralNetwork import Neural_Network\n",
    "import numpy as np\n",
    "import jax.numpy as jnp"
   ]
  },
  {
   "cell_type": "markdown",
   "id": "ec891228226aa63c",
   "metadata": {},
   "source": [
    "## Initiate neural network"
   ]
  },
  {
   "cell_type": "markdown",
   "id": "ef3a4c91e7bd67ea",
   "metadata": {},
   "source": [
    "1. Set up the design matrix with the inputs as discussed above and a vector containing the output, the so-called targets. Note that the design matrix is the same for all gates. You need just to define different outputs."
   ]
  },
  {
   "cell_type": "code",

   "execution_count": 14,
   "id": "8f56b6ba6623f14b",
   "metadata": {
    "ExecuteTime": {
     "end_time": "2023-11-05T14:22:24.881854900Z",
     "start_time": "2023-11-05T14:22:24.656823900Z"

    }
   },
   "outputs": [
    {
     "ename": "NameError",
     "evalue": "name 'np' is not defined",
     "output_type": "error",
     "traceback": [
      "\u001B[1;31m---------------------------------------------------------------------------\u001B[0m",
      "\u001B[1;31mNameError\u001B[0m                                 Traceback (most recent call last)",
      "Cell \u001B[1;32mIn[1], line 1\u001B[0m\n\u001B[1;32m----> 1\u001B[0m np\u001B[38;5;241m.\u001B[39mrandom\u001B[38;5;241m.\u001B[39mseed(\u001B[38;5;241m1234\u001B[39m)\n\u001B[0;32m      3\u001B[0m \u001B[38;5;66;03m# Create design matrix\u001B[39;00m\n\u001B[0;32m      4\u001B[0m X \u001B[38;5;241m=\u001B[39m jnp\u001B[38;5;241m.\u001B[39marray([[\u001B[38;5;241m0\u001B[39m, \u001B[38;5;241m0\u001B[39m],\n\u001B[0;32m      5\u001B[0m                [\u001B[38;5;241m0\u001B[39m, \u001B[38;5;241m1\u001B[39m],\n\u001B[0;32m      6\u001B[0m                [\u001B[38;5;241m1\u001B[39m, \u001B[38;5;241m0\u001B[39m],\n\u001B[0;32m      7\u001B[0m                [\u001B[38;5;241m1\u001B[39m, \u001B[38;5;241m1\u001B[39m]])\n",
      "\u001B[1;31mNameError\u001B[0m: name 'np' is not defined"
     ]
    }
   ],
   "source": [
    "np.random.seed(1234)\n",
    "\n",
    "# Create design matrix\n",
    "X = jnp.array([[0, 0],\n",
    "               [0, 1],\n",
    "               [1, 0],\n",
    "               [1, 1]])\n",

    "\n",
    "X = jnp.array([[0, 1]])\n",

    "\n",
    "# The XOR gate\n",
    "target_XOR = jnp.array( [ 0, 1 ,1, 0])\n",
    "# The OR gate\n",
    "target_OR = jnp.array( [ 0, 1 ,1, 1])\n",
    "# The AND gate\n",

    "target_AND = jnp.array( [ 0, 0 ,0, 1])\n",
    "\n",
    "target = jnp.array([0])"

   ]
  },
  {
   "cell_type": "markdown",
   "id": "339a0c6e2a4febd7",
   "metadata": {},
   "source": [
    "2. Construct a neural network with only one hidden layer and two hidden nodes using the Sigmoid function as activation function."
   ]
  },
  {
   "cell_type": "code",

   "execution_count": 15,
   "id": "c2f098900ba9f2a7",
   "metadata": {
    "ExecuteTime": {
     "end_time": "2023-11-05T14:22:24.900856700Z",
     "start_time": "2023-11-05T14:22:24.679747800Z"
    }
   },
   "outputs": [
    {
     "data": {
      "text/plain": "'Neural Network with 1 hidden layers and [2] nodes per layer. The activation function is sigmoid.'"
     },
     "execution_count": 15,
     "metadata": {},
     "output_type": "execute_result"
    }
   ],

   "source": [
    "n_hidden_layers = 1\n",
    "n_hidden_nodes = 2\n",
    "n_outputs = 1\n",
    "learning_rate=0.1\n",
    "\n",
    "ffnn = Neural_Network(X, target, n_hidden_layers, n_hidden_nodes, n_outputs, \n",
    "                      learning_rate, activation_function='sigmoid',\n",
    "                      classification_problem=True)\n",
    "\n",
    "str(ffnn)"
   ]
  },
  {
   "cell_type": "markdown",
   "id": "285abc1b97084f53",
   "metadata": {},
   "source": [
    "3. Set up the output layer with only one output node and use again the Sigmoid function as activation function for the output."
   ]
  },
  {
   "cell_type": "markdown",
   "id": "2f54e143b8e4c3b",
   "metadata": {},
   "source": []
  },
  {
   "cell_type": "code",

   "execution_count": 16,
   "id": "f3a8fdd8984ecbd8",
   "metadata": {
    "ExecuteTime": {
     "end_time": "2023-11-05T14:22:24.904858100Z",
     "start_time": "2023-11-05T14:22:24.697712300Z"

    }
   },
   "outputs": [],
   "source": [
    "print(f'Output layer has {ffnn.output_layer.n_nodes} node and uses the {str(ffnn.output_layer.activation_function)} as activation function')"
   ]
  },
  {
   "cell_type": "markdown",
   "id": "5d066a4645a122bc",
   "metadata": {},
   "source": [
    "4. Initialize the weights and biases and perform a feed forward pass and compare the outputs with the targets."
   ]
  },
  {
   "cell_type": "code",

   "execution_count": 17,
   "id": "d767c0df481cde5b",
   "metadata": {
    "ExecuteTime": {
     "end_time": "2023-11-05T14:22:24.947859900Z",
     "start_time": "2023-11-05T14:22:24.711724200Z"

    }
   },
   "outputs": [],
   "source": [
    "print('Weights hidden layer 1:\\n'\n",
    "      f'{ffnn.hidden_layers[0].weights}')\n",
    "print('Biases hidden layer 1:\\n'\n",
    "      f'{ffnn.hidden_layers[0].biases}')\n",
    "\n",
    "print('weights output layer:\\n'\n",
    "      f'{ffnn.output_layer.weights}')\n",
    "print('Biases output layer:\\n'\n",
    "      f'{ffnn.output_layer.biases}')"
   ]
  },
  {
   "cell_type": "code",

   "execution_count": 18,
   "id": "442bf7331f27ac00",
   "metadata": {
    "ExecuteTime": {
     "end_time": "2023-11-05T14:22:24.983864300Z",
     "start_time": "2023-11-05T14:22:24.729771400Z"
    }
   },
   "outputs": [
    {
     "name": "stdout",
     "output_type": "stream",
     "text": [
      "Final prediction before training:\n",
      "[[1.]]\n"
     ]
    }
   ],

   "source": [
    "ffnn.feed_forward()\n",
    "\n",
    "print(\"Final prediction before training:\\n\"\n",
    "      f\"{ffnn.output_layer.output}\")"
   ]
  },
  {
   "cell_type": "markdown",
   "id": "548e9e24",
   "metadata": {},
   "source": [
    "5. Set up the cost function (cross entropy for classification of binary cases).\n",
    "\n",
    "6. Calculate the gradients needed for the back propagation part.\n",
    "\n",
    "7. Use the gradients to train the network in the back propagation part. Think of using automatic differentiation."
   ]
  },
  {
   "cell_type": "code",
   "execution_count": 19,
   "id": "11e8a07f",
   "metadata": {
    "ExecuteTime": {
     "end_time": "2023-11-05T14:22:24.986866300Z",
     "start_time": "2023-11-05T14:22:24.744286700Z"
    }
   },
   "outputs": [
    {
     "name": "stdout",
     "output_type": "stream",
     "text": [
      "Weights and biases after one backward propagation: \n",
      "\n",
      "Weights hidden layer 1:\n",
      "[[ 4.71435164e-02 -1.19097569e-01]\n",
      " [ 8.35989224e+13  7.72768179e+13]]\n",
      "Biases hidden layer 1:\n",
      "[[8.35989224e+13 7.72768179e+13]]\n",
      "weights output layer:\n",
      "[[-13455304.07205887]\n",
      " [-12366392.71128371]]\n",
      "Biases output layer:\n",
      "[[-24998576.]]\n"
     ]
    }
   ],
   "source": [
    "ffnn.feed_backward()\n",
    "\n",
    "print('Weights and biases after one backward propagation: \\n')\n",
    "\n",
    "print('Weights hidden layer 1:\\n'\n",
    "      f'{ffnn.hidden_layers[0].weights}')\n",
    "print('Biases hidden layer 1:\\n'\n",
    "      f'{ffnn.hidden_layers[0].biases}')\n",
    "\n",
    "print('weights output layer:\\n'\n",
    "      f'{ffnn.output_layer.weights}')\n",
    "print('Biases output layer:\\n'\n",
    "      f'{ffnn.output_layer.biases}')\n"
   ]

  },
  {
   "cell_type": "markdown",
   "id": "245e1613",
   "metadata": {},
   "source": [
    "8. Train the network and study your results and compare with results obtained either with scikit-learn or TensorFlow."
   ]
  },
  {
   "cell_type": "code",
   "execution_count": 20,
   "id": "f8bfa5e4",
   "metadata": {
    "ExecuteTime": {
     "end_time": "2023-11-05T14:22:50.733084700Z",
     "start_time": "2023-11-05T14:22:24.790857300Z"
    }
   },
   "outputs": [
    {
     "name": "stdout",
     "output_type": "stream",
     "text": [
      "Weights and biases after training: \n",
      "\n",
      "Weights hidden layer 1:\n",
      "[[ 4.71435164e-02 -1.19097569e-01]\n",
      " [ 8.35989224e+13  7.72768179e+13]]\n",
      "Biases hidden layer 1:\n",
      "[[8.35989224e+13 7.72768179e+13]]\n",
      "weights output layer:\n",
      "[[-13455304.07205887]\n",
      " [-12366392.71128371]]\n",
      "Biases output layer:\n",
      "[[-24998576.]]\n",
      "\n",
      "Final prediction after training:\n",
      "[[0.]]\n"
     ]
    }
   ],
   "source": [
    "ffnn.train()\n",
    "\n",
    "print('Weights and biases after training: \\n')\n",
    "\n",
    "print('Weights hidden layer 1:\\n'\n",
    "      f'{ffnn.hidden_layers[0].weights}')\n",
    "print('Biases hidden layer 1:\\n'\n",
    "      f'{ffnn.hidden_layers[0].biases}')\n",
    "\n",
    "print('weights output layer:\\n'\n",
    "      f'{ffnn.output_layer.weights}')\n",
    "print('Biases output layer:\\n'\n",
    "      f'{ffnn.output_layer.biases}')\n",
    "\n",
    "print(\"\\nFinal prediction after training:\\n\"\n",
    "      f\"{ffnn.output_layer.output}\")\n"
   ]
  },
  {
   "cell_type": "code",
   "execution_count": 27,
   "id": "734f1a27",
   "metadata": {
    "ExecuteTime": {
     "end_time": "2023-11-05T14:32:19.191038500Z",
     "start_time": "2023-11-05T14:32:19.174183700Z"
    }
   },
   "outputs": [],
   "source": [
    "np.random.seed(1234)\n",
    "\n",
    "# Create design matrix\n",
    "X_orig = jnp.array([[0, 0],\n",
    "               [0, 1],\n",
    "               [1, 0],\n",
    "               [1, 1]])\n",
    "\n",
    "#X = jnp.array([[0, 1]])\n",
    "\n",
    "# The XOR gate\n",
    "target_XOR = jnp.array( [ 0, 1 ,1, 0])\n",
    "# The OR gate\n",
    "target_OR = jnp.array( [ 0, 1 ,1, 1])\n",
    "# The AND gate\n",
    "target_AND = jnp.array( [ 0, 0 ,0, 1])\n",
    "\n",
    "#target = jnp.array([0])\n",
    "\n",
    "\n",
    "n_hidden_layers = 1\n",
    "n_hidden_nodes = 2\n",
    "n_outputs = 1\n",
    "learning_rate=0.1"
   ]
  },
  {
   "cell_type": "code",
   "execution_count": 28,
   "outputs": [
    {
     "name": "stdout",
     "output_type": "stream",
     "text": [
      "[Array([[0.]], dtype=float32, weak_type=True), Array([[0.]], dtype=float32, weak_type=True), Array([[0.]], dtype=float32, weak_type=True), Array([[1.]], dtype=float32, weak_type=True)]\n"
     ]
    }
   ],
   "source": [
    "#Testing AND gate\n",
    "NN_output_AND = []\n",
    "\n",
    "# AND gate\n",
    "for X_row, target_row in zip(X_orig, target_AND):\n",
    "\n",
    "    X = jnp.array([X_row])\n",
    "    target = jnp.array([target_row])\n",
    "\n",
    "    ffnn = Neural_Network(X, target, n_hidden_layers, n_hidden_nodes, n_outputs,\n",
    "                      learning_rate, activation_function='sigmoid',\n",
    "                      classification_problem=True)\n",
    "\n",
    "    ffnn.feed_forward()\n",
    "\n",
    "    ffnn.feed_backward()\n",
    "    ffnn.train()\n",
    "\n",
    "    NN_output_AND.append(ffnn.output_layer.output)\n",
    "\n",
    "print(NN_output_AND)\n"
   ],
   "metadata": {
    "collapsed": false,
    "ExecuteTime": {
     "end_time": "2023-11-05T14:33:54.975708800Z",
     "start_time": "2023-11-05T14:32:24.881089400Z"
    }
   },
   "id": "91530549c5e06582"
  },
  {
   "cell_type": "code",
   "execution_count": 29,
   "outputs": [
    {
     "name": "stdout",
     "output_type": "stream",
     "text": [
      "[Array([[0.]], dtype=float32, weak_type=True), Array([[1.]], dtype=float32, weak_type=True), Array([[1.]], dtype=float32, weak_type=True), Array([[1.]], dtype=float32, weak_type=True)]\n"
     ]
    }
   ],
   "source": [
    "\n",
    "#Testing OR gate\n",
    "\n",
    "NN_output_OR = []\n",
    "\n",
    "# or gate\n",
    "for X_row, target_row in zip(X_orig, target_OR):\n",
    "\n",
    "    X = jnp.array([X_row])\n",
    "    target = jnp.array([target_row])\n",
    "\n",
    "    ffnn = Neural_Network(X, target, n_hidden_layers, n_hidden_nodes, n_outputs,\n",
    "                      learning_rate, activation_function='sigmoid',\n",
    "                      classification_problem=True)\n",
    "\n",
    "    ffnn.feed_forward()\n",
    "\n",
    "    ffnn.feed_backward()\n",
    "    ffnn.train()\n",
    "\n",
    "    NN_output_OR.append(ffnn.output_layer.output)\n",
    "\n",
    "print(NN_output_OR)\n"
   ],
   "metadata": {
    "collapsed": false,
    "ExecuteTime": {
     "end_time": "2023-11-05T14:35:21.046229200Z",
     "start_time": "2023-11-05T14:33:54.992436400Z"
    }
   },
   "id": "a83f38eb4235c6e3"
  },
  {
   "cell_type": "code",
   "execution_count": 30,
   "outputs": [
    {
     "name": "stdout",
     "output_type": "stream",
     "text": [
      "[Array([[0.]], dtype=float32, weak_type=True), Array([[1.]], dtype=float32, weak_type=True), Array([[1.]], dtype=float32, weak_type=True), Array([[0.]], dtype=float32, weak_type=True)]\n"
     ]
    }
   ],
   "source": [
    "#Testing xor gate\n",
    "\n",
    "NN_output_XOR = []\n",
    "\n",
    "# xor gate\n",
    "for X_row, target_row in zip(X_orig, target_XOR):\n",
    "\n",
    "    X = jnp.array([X_row])\n",
    "    target = jnp.array([target_row])\n",
    "\n",
    "    ffnn = Neural_Network(X, target, n_hidden_layers, n_hidden_nodes, n_outputs,\n",
    "                      learning_rate, activation_function='sigmoid',\n",
    "                      classification_problem=True)\n",
    "\n",
    "    ffnn.feed_forward()\n",
    "\n",
    "    ffnn.feed_backward()\n",
    "    ffnn.train()\n",
    "\n",
    "    NN_output_XOR.append(ffnn.output_layer.output)\n",
    "\n",
    "print(NN_output_XOR)\n"
   ],
   "metadata": {
    "collapsed": false,
    "ExecuteTime": {
     "end_time": "2023-11-05T14:36:41.671540100Z",
     "start_time": "2023-11-05T14:35:21.051233400Z"
    }
   },
   "id": "cc2d2f2495bf52a7"
  },
  {
   "cell_type": "code",
   "execution_count": 31,
   "outputs": [],
   "source": [
    "def accuracy_test(y_true, y_pred):\n",
    "    # y_true is the true labels of the data\n",
    "    # y_pred is the predicted labels of the data by the neural network\n",
    "    # Both y_true and y_pred are numpy arrays of the same shape\n",
    "\n",
    "    # Compare y_true and y_pred element-wise and count the number of matches\n",
    "    matches = 0\n",
    "    for true, pred in zip(y_true, y_pred):\n",
    "        if true == pred:\n",
    "            matches = matches + 1\n",
    "\n",
    "    # Calculate the accuracy as the ratio of matches to the total number of data points\n",
    "    accuracy = matches / len(y_true)\n",
    "\n",
    "    # Return the accuracy as a percentage\n",
    "    return accuracy * 100\n"
   ],
   "metadata": {
    "collapsed": false,
    "ExecuteTime": {
     "end_time": "2023-11-05T14:36:41.689347800Z",
     "start_time": "2023-11-05T14:36:41.680674500Z"
    }
   },
   "id": "3d5ca6bf9b7e79ff"
  },
  {
   "cell_type": "code",
   "execution_count": 32,
   "outputs": [
    {
     "name": "stdout",
     "output_type": "stream",
     "text": [
      "100.0\n",
      "100.0\n",
      "100.0\n"
     ]
    }
   ],
   "source": [
    "\n",
    "accuracy_AND_gate = accuracy_test(target_AND, NN_output_AND)\n",
    "accuracy_OR_gate = accuracy_test(target_OR, NN_output_OR)\n",
    "accuracy_XOR_gate = accuracy_test(target_XOR, NN_output_XOR)\n",
    "\n",
    "print(accuracy_AND_gate)\n",
    "print(accuracy_OR_gate)\n",
    "print(accuracy_XOR_gate)"
   ],
   "metadata": {
    "collapsed": false,
    "ExecuteTime": {
     "end_time": "2023-11-05T14:36:41.711650400Z",
     "start_time": "2023-11-05T14:36:41.690402400Z"
    }
   },
   "id": "d5da387d3453520e"

  }
 ],
 "metadata": {
  "kernelspec": {
   "display_name": "Python 3 (ipykernel)",
   "language": "python",
   "name": "python3"
  },
  "language_info": {
   "codemirror_mode": {
    "name": "ipython",
    "version": 3
   },
   "file_extension": ".py",
   "mimetype": "text/x-python",
   "name": "python",
   "nbconvert_exporter": "python",
   "pygments_lexer": "ipython3",
   "version": "3.10.12"
  }
 },
 "nbformat": 4,
 "nbformat_minor": 5
}
