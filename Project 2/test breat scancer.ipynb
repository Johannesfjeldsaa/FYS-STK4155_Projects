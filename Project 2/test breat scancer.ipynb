{
 "cells": [
  {
   "cell_type": "code",
   "execution_count": 2,
   "outputs": [],
   "source": [
    "from NeuralNetwork import Neural_Network\n",
    "import numpy as np\n",
    "import jax.numpy as jnp\n",
    "from sklearn.preprocessing import StandardScaler\n",
    "from NeuralNetwork import Neural_Network\n",
    "from sklearn.datasets import load_breast_cancer\n"
   ],
   "metadata": {
    "collapsed": false,
    "ExecuteTime": {
     "end_time": "2023-11-05T15:25:54.295357900Z",
     "start_time": "2023-11-05T15:25:54.099046700Z"
    }
   },
   "id": "b60c6a5811015937"
  },
  {
   "cell_type": "code",
   "execution_count": 8,
   "outputs": [],
   "source": [
    "# Load the data\n",
    "cancer = load_breast_cancer()\n",
    "X = cancer.data\n",
    "target_true = cancer.target\n",
    "target_true = target_true.reshape(target_true.shape[0], 1)\n"
   ],
   "metadata": {
    "collapsed": false,
    "ExecuteTime": {
     "end_time": "2023-11-05T15:27:29.479416Z",
     "start_time": "2023-11-05T15:27:29.442633800Z"
    }
   },
   "id": "2574a56f9d356a5a"
  },
  {
   "cell_type": "code",
   "execution_count": 9,
   "outputs": [],
   "source": [
    "# NN setup\n",
    "n_hidden_layers = 1\n",
    "n_hidden_nodes = 2\n",
    "n_outputs = 1\n",
    "learning_rate=0.1\n",
    "\n"
   ],
   "metadata": {
    "collapsed": false,
    "ExecuteTime": {
     "end_time": "2023-11-05T15:27:30.871192100Z",
     "start_time": "2023-11-05T15:27:30.863025300Z"
    }
   },
   "id": "cfc644e4fe751bfd"
  },
  {
   "cell_type": "code",
   "execution_count": 10,
   "outputs": [
    {
     "name": "stdout",
     "output_type": "stream",
     "text": [
      "[Array([[0.]], dtype=float32, weak_type=True), Array([[0.]], dtype=float32, weak_type=True), Array([[0.]], dtype=float32, weak_type=True), Array([[0.]], dtype=float32, weak_type=True), Array([[0.]], dtype=float32, weak_type=True), Array([[0.]], dtype=float32, weak_type=True), Array([[0.]], dtype=float32, weak_type=True), Array([[0.]], dtype=float32, weak_type=True), Array([[0.]], dtype=float32, weak_type=True), Array([[0.]], dtype=float32, weak_type=True), Array([[0.]], dtype=float32, weak_type=True), Array([[0.]], dtype=float32, weak_type=True), Array([[0.]], dtype=float32, weak_type=True), Array([[0.]], dtype=float32, weak_type=True), Array([[0.]], dtype=float32, weak_type=True), Array([[0.]], dtype=float32, weak_type=True), Array([[0.]], dtype=float32, weak_type=True), Array([[0.]], dtype=float32, weak_type=True), Array([[0.]], dtype=float32, weak_type=True), Array([[1.]], dtype=float32, weak_type=True), Array([[1.]], dtype=float32, weak_type=True), Array([[1.]], dtype=float32, weak_type=True), Array([[0.]], dtype=float32, weak_type=True), Array([[0.]], dtype=float32, weak_type=True), Array([[0.]], dtype=float32, weak_type=True), Array([[0.]], dtype=float32, weak_type=True), Array([[0.]], dtype=float32, weak_type=True), Array([[0.]], dtype=float32, weak_type=True), Array([[0.]], dtype=float32, weak_type=True), Array([[0.]], dtype=float32, weak_type=True), Array([[0.]], dtype=float32, weak_type=True), Array([[0.]], dtype=float32, weak_type=True), Array([[0.]], dtype=float32, weak_type=True), Array([[0.]], dtype=float32, weak_type=True), Array([[0.]], dtype=float32, weak_type=True), Array([[0.]], dtype=float32, weak_type=True), Array([[0.]], dtype=float32, weak_type=True), Array([[1.]], dtype=float32, weak_type=True), Array([[0.]], dtype=float32, weak_type=True), Array([[0.]], dtype=float32, weak_type=True), Array([[0.]], dtype=float32, weak_type=True), Array([[0.]], dtype=float32, weak_type=True), Array([[0.]], dtype=float32, weak_type=True), Array([[0.]], dtype=float32, weak_type=True), Array([[0.]], dtype=float32, weak_type=True), Array([[0.]], dtype=float32, weak_type=True), Array([[1.]], dtype=float32, weak_type=True), Array([[0.]], dtype=float32, weak_type=True), Array([[1.]], dtype=float32, weak_type=True), Array([[1.]], dtype=float32, weak_type=True), Array([[1.]], dtype=float32, weak_type=True), Array([[1.]], dtype=float32, weak_type=True), Array([[1.]], dtype=float32, weak_type=True), Array([[0.]], dtype=float32, weak_type=True), Array([[0.]], dtype=float32, weak_type=True), Array([[1.]], dtype=float32, weak_type=True), Array([[0.]], dtype=float32, weak_type=True), Array([[0.]], dtype=float32, weak_type=True), Array([[1.]], dtype=float32, weak_type=True), Array([[1.]], dtype=float32, weak_type=True), Array([[1.]], dtype=float32, weak_type=True), Array([[1.]], dtype=float32, weak_type=True), Array([[0.]], dtype=float32, weak_type=True), Array([[1.]], dtype=float32, weak_type=True), Array([[0.]], dtype=float32, weak_type=True), Array([[0.]], dtype=float32, weak_type=True), Array([[1.]], dtype=float32, weak_type=True), Array([[1.]], dtype=float32, weak_type=True), Array([[1.]], dtype=float32, weak_type=True), Array([[1.]], dtype=float32, weak_type=True), Array([[0.]], dtype=float32, weak_type=True), Array([[1.]], dtype=float32, weak_type=True), Array([[0.]], dtype=float32, weak_type=True), Array([[0.]], dtype=float32, weak_type=True), Array([[1.]], dtype=float32, weak_type=True), Array([[0.]], dtype=float32, weak_type=True), Array([[1.]], dtype=float32, weak_type=True), Array([[0.]], dtype=float32, weak_type=True), Array([[0.]], dtype=float32, weak_type=True), Array([[1.]], dtype=float32, weak_type=True), Array([[1.]], dtype=float32, weak_type=True), Array([[1.]], dtype=float32, weak_type=True), Array([[0.]], dtype=float32, weak_type=True), Array([[0.]], dtype=float32, weak_type=True), Array([[1.]], dtype=float32, weak_type=True), Array([[0.]], dtype=float32, weak_type=True), Array([[0.]], dtype=float32, weak_type=True), Array([[0.]], dtype=float32, weak_type=True), Array([[1.]], dtype=float32, weak_type=True), Array([[1.]], dtype=float32, weak_type=True), Array([[1.]], dtype=float32, weak_type=True), Array([[0.]], dtype=float32, weak_type=True), Array([[1.]], dtype=float32, weak_type=True), Array([[1.]], dtype=float32, weak_type=True), Array([[0.]], dtype=float32, weak_type=True), Array([[0.]], dtype=float32, weak_type=True), Array([[1.]], dtype=float32, weak_type=True), Array([[1.]], dtype=float32, weak_type=True), Array([[1.]], dtype=float32, weak_type=True), Array([[0.]], dtype=float32, weak_type=True), Array([[0.]], dtype=float32, weak_type=True), Array([[1.]], dtype=float32, weak_type=True), Array([[1.]], dtype=float32, weak_type=True), Array([[1.]], dtype=float32, weak_type=True), Array([[1.]], dtype=float32, weak_type=True), Array([[0.]], dtype=float32, weak_type=True), Array([[1.]], dtype=float32, weak_type=True), Array([[1.]], dtype=float32, weak_type=True), Array([[0.]], dtype=float32, weak_type=True), Array([[1.]], dtype=float32, weak_type=True), Array([[1.]], dtype=float32, weak_type=True), Array([[1.]], dtype=float32, weak_type=True), Array([[1.]], dtype=float32, weak_type=True), Array([[1.]], dtype=float32, weak_type=True), Array([[1.]], dtype=float32, weak_type=True), Array([[1.]], dtype=float32, weak_type=True), Array([[1.]], dtype=float32, weak_type=True), Array([[0.]], dtype=float32, weak_type=True), Array([[0.]], dtype=float32, weak_type=True), Array([[0.]], dtype=float32, weak_type=True), Array([[1.]], dtype=float32, weak_type=True), Array([[0.]], dtype=float32, weak_type=True), Array([[0.]], dtype=float32, weak_type=True), Array([[1.]], dtype=float32, weak_type=True), Array([[1.]], dtype=float32, weak_type=True), Array([[1.]], dtype=float32, weak_type=True), Array([[0.]], dtype=float32, weak_type=True), Array([[0.]], dtype=float32, weak_type=True), Array([[1.]], dtype=float32, weak_type=True), Array([[0.]], dtype=float32, weak_type=True), Array([[1.]], dtype=float32, weak_type=True), Array([[0.]], dtype=float32, weak_type=True), Array([[0.]], dtype=float32, weak_type=True), Array([[1.]], dtype=float32, weak_type=True), Array([[0.]], dtype=float32, weak_type=True), Array([[0.]], dtype=float32, weak_type=True), Array([[1.]], dtype=float32, weak_type=True), Array([[1.]], dtype=float32, weak_type=True), Array([[0.]], dtype=float32, weak_type=True), Array([[1.]], dtype=float32, weak_type=True), Array([[1.]], dtype=float32, weak_type=True), Array([[0.]], dtype=float32, weak_type=True), Array([[1.]], dtype=float32, weak_type=True), Array([[1.]], dtype=float32, weak_type=True), Array([[1.]], dtype=float32, weak_type=True), Array([[1.]], dtype=float32, weak_type=True), Array([[0.]], dtype=float32, weak_type=True), Array([[1.]], dtype=float32, weak_type=True), Array([[1.]], dtype=float32, weak_type=True), Array([[1.]], dtype=float32, weak_type=True), Array([[1.]], dtype=float32, weak_type=True), Array([[1.]], dtype=float32, weak_type=True), Array([[1.]], dtype=float32, weak_type=True), Array([[1.]], dtype=float32, weak_type=True), Array([[1.]], dtype=float32, weak_type=True), Array([[1.]], dtype=float32, weak_type=True), Array([[0.]], dtype=float32, weak_type=True), Array([[1.]], dtype=float32, weak_type=True), Array([[1.]], dtype=float32, weak_type=True), Array([[1.]], dtype=float32, weak_type=True), Array([[1.]], dtype=float32, weak_type=True), Array([[0.]], dtype=float32, weak_type=True), Array([[0.]], dtype=float32, weak_type=True), Array([[1.]], dtype=float32, weak_type=True), Array([[0.]], dtype=float32, weak_type=True), Array([[1.]], dtype=float32, weak_type=True), Array([[1.]], dtype=float32, weak_type=True), Array([[0.]], dtype=float32, weak_type=True), Array([[0.]], dtype=float32, weak_type=True), Array([[1.]], dtype=float32, weak_type=True), Array([[1.]], dtype=float32, weak_type=True), Array([[0.]], dtype=float32, weak_type=True), Array([[0.]], dtype=float32, weak_type=True), Array([[1.]], dtype=float32, weak_type=True), Array([[1.]], dtype=float32, weak_type=True), Array([[1.]], dtype=float32, weak_type=True), Array([[1.]], dtype=float32, weak_type=True), Array([[0.]], dtype=float32, weak_type=True), Array([[1.]], dtype=float32, weak_type=True), Array([[1.]], dtype=float32, weak_type=True), Array([[0.]], dtype=float32, weak_type=True), Array([[0.]], dtype=float32, weak_type=True), Array([[0.]], dtype=float32, weak_type=True), Array([[1.]], dtype=float32, weak_type=True), Array([[0.]], dtype=float32, weak_type=True), Array([[1.]], dtype=float32, weak_type=True), Array([[0.]], dtype=float32, weak_type=True), Array([[1.]], dtype=float32, weak_type=True), Array([[1.]], dtype=float32, weak_type=True), Array([[1.]], dtype=float32, weak_type=True), Array([[0.]], dtype=float32, weak_type=True), Array([[1.]], dtype=float32, weak_type=True), Array([[1.]], dtype=float32, weak_type=True), Array([[0.]], dtype=float32, weak_type=True), Array([[0.]], dtype=float32, weak_type=True), Array([[1.]], dtype=float32, weak_type=True), Array([[0.]], dtype=float32, weak_type=True), Array([[0.]], dtype=float32, weak_type=True), Array([[0.]], dtype=float32, weak_type=True), Array([[0.]], dtype=float32, weak_type=True), Array([[1.]], dtype=float32, weak_type=True), Array([[0.]], dtype=float32, weak_type=True), Array([[0.]], dtype=float32, weak_type=True), Array([[0.]], dtype=float32, weak_type=True), Array([[1.]], dtype=float32, weak_type=True), Array([[0.]], dtype=float32, weak_type=True), Array([[1.]], dtype=float32, weak_type=True), Array([[0.]], dtype=float32, weak_type=True), Array([[1.]], dtype=float32, weak_type=True), Array([[1.]], dtype=float32, weak_type=True), Array([[0.]], dtype=float32, weak_type=True), Array([[1.]], dtype=float32, weak_type=True), Array([[0.]], dtype=float32, weak_type=True), Array([[0.]], dtype=float32, weak_type=True), Array([[0.]], dtype=float32, weak_type=True), Array([[0.]], dtype=float32, weak_type=True), Array([[1.]], dtype=float32, weak_type=True), Array([[1.]], dtype=float32, weak_type=True), Array([[0.]], dtype=float32, weak_type=True), Array([[0.]], dtype=float32, weak_type=True), Array([[1.]], dtype=float32, weak_type=True), Array([[1.]], dtype=float32, weak_type=True), Array([[1.]], dtype=float32, weak_type=True), Array([[0.]], dtype=float32, weak_type=True), Array([[1.]], dtype=float32, weak_type=True), Array([[1.]], dtype=float32, weak_type=True), Array([[1.]], dtype=float32, weak_type=True), Array([[1.]], dtype=float32, weak_type=True), Array([[1.]], dtype=float32, weak_type=True), Array([[0.]], dtype=float32, weak_type=True), Array([[0.]], dtype=float32, weak_type=True), Array([[1.]], dtype=float32, weak_type=True), Array([[1.]], dtype=float32, weak_type=True), Array([[0.]], dtype=float32, weak_type=True), Array([[1.]], dtype=float32, weak_type=True), Array([[1.]], dtype=float32, weak_type=True), Array([[0.]], dtype=float32, weak_type=True), Array([[0.]], dtype=float32, weak_type=True), Array([[1.]], dtype=float32, weak_type=True), Array([[0.]], dtype=float32, weak_type=True), Array([[1.]], dtype=float32, weak_type=True), Array([[1.]], dtype=float32, weak_type=True), Array([[1.]], dtype=float32, weak_type=True), Array([[1.]], dtype=float32, weak_type=True), Array([[0.]], dtype=float32, weak_type=True), Array([[1.]], dtype=float32, weak_type=True), Array([[1.]], dtype=float32, weak_type=True), Array([[1.]], dtype=float32, weak_type=True), Array([[1.]], dtype=float32, weak_type=True), Array([[1.]], dtype=float32, weak_type=True), Array([[0.]], dtype=float32, weak_type=True), Array([[1.]], dtype=float32, weak_type=True), Array([[0.]], dtype=float32, weak_type=True), Array([[0.]], dtype=float32, weak_type=True), Array([[0.]], dtype=float32, weak_type=True), Array([[0.]], dtype=float32, weak_type=True), Array([[0.]], dtype=float32, weak_type=True), Array([[0.]], dtype=float32, weak_type=True), Array([[0.]], dtype=float32, weak_type=True), Array([[0.]], dtype=float32, weak_type=True), Array([[0.]], dtype=float32, weak_type=True), Array([[0.]], dtype=float32, weak_type=True), Array([[0.]], dtype=float32, weak_type=True), Array([[0.]], dtype=float32, weak_type=True), Array([[0.]], dtype=float32, weak_type=True), Array([[0.]], dtype=float32, weak_type=True), Array([[1.]], dtype=float32, weak_type=True), Array([[1.]], dtype=float32, weak_type=True), Array([[1.]], dtype=float32, weak_type=True), Array([[1.]], dtype=float32, weak_type=True), Array([[1.]], dtype=float32, weak_type=True), Array([[1.]], dtype=float32, weak_type=True), Array([[0.]], dtype=float32, weak_type=True), Array([[1.]], dtype=float32, weak_type=True), Array([[0.]], dtype=float32, weak_type=True), Array([[1.]], dtype=float32, weak_type=True), Array([[1.]], dtype=float32, weak_type=True), Array([[0.]], dtype=float32, weak_type=True), Array([[1.]], dtype=float32, weak_type=True), Array([[1.]], dtype=float32, weak_type=True), Array([[0.]], dtype=float32, weak_type=True), Array([[1.]], dtype=float32, weak_type=True), Array([[0.]], dtype=float32, weak_type=True), Array([[0.]], dtype=float32, weak_type=True), Array([[1.]], dtype=float32, weak_type=True), Array([[1.]], dtype=float32, weak_type=True), Array([[1.]], dtype=float32, weak_type=True), Array([[1.]], dtype=float32, weak_type=True), Array([[1.]], dtype=float32, weak_type=True), Array([[1.]], dtype=float32, weak_type=True), Array([[1.]], dtype=float32, weak_type=True), Array([[1.]], dtype=float32, weak_type=True), Array([[1.]], dtype=float32, weak_type=True), Array([[1.]], dtype=float32, weak_type=True), Array([[1.]], dtype=float32, weak_type=True), Array([[1.]], dtype=float32, weak_type=True), Array([[1.]], dtype=float32, weak_type=True), Array([[0.]], dtype=float32, weak_type=True), Array([[1.]], dtype=float32, weak_type=True), Array([[1.]], dtype=float32, weak_type=True), Array([[0.]], dtype=float32, weak_type=True), Array([[1.]], dtype=float32, weak_type=True), Array([[0.]], dtype=float32, weak_type=True), Array([[1.]], dtype=float32, weak_type=True), Array([[1.]], dtype=float32, weak_type=True), Array([[1.]], dtype=float32, weak_type=True), Array([[1.]], dtype=float32, weak_type=True), Array([[1.]], dtype=float32, weak_type=True), Array([[1.]], dtype=float32, weak_type=True), Array([[1.]], dtype=float32, weak_type=True), Array([[1.]], dtype=float32, weak_type=True), Array([[1.]], dtype=float32, weak_type=True), Array([[1.]], dtype=float32, weak_type=True), Array([[1.]], dtype=float32, weak_type=True), Array([[1.]], dtype=float32, weak_type=True), Array([[1.]], dtype=float32, weak_type=True), Array([[1.]], dtype=float32, weak_type=True), Array([[0.]], dtype=float32, weak_type=True), Array([[1.]], dtype=float32, weak_type=True), Array([[1.]], dtype=float32, weak_type=True), Array([[1.]], dtype=float32, weak_type=True), Array([[0.]], dtype=float32, weak_type=True), Array([[1.]], dtype=float32, weak_type=True), Array([[0.]], dtype=float32, weak_type=True), Array([[1.]], dtype=float32, weak_type=True), Array([[1.]], dtype=float32, weak_type=True), Array([[1.]], dtype=float32, weak_type=True), Array([[1.]], dtype=float32, weak_type=True), Array([[0.]], dtype=float32, weak_type=True), Array([[0.]], dtype=float32, weak_type=True), Array([[0.]], dtype=float32, weak_type=True), Array([[1.]], dtype=float32, weak_type=True), Array([[1.]], dtype=float32, weak_type=True), Array([[1.]], dtype=float32, weak_type=True), Array([[1.]], dtype=float32, weak_type=True), Array([[0.]], dtype=float32, weak_type=True), Array([[1.]], dtype=float32, weak_type=True), Array([[0.]], dtype=float32, weak_type=True), Array([[1.]], dtype=float32, weak_type=True), Array([[0.]], dtype=float32, weak_type=True), Array([[1.]], dtype=float32, weak_type=True), Array([[1.]], dtype=float32, weak_type=True), Array([[1.]], dtype=float32, weak_type=True), Array([[0.]], dtype=float32, weak_type=True), Array([[1.]], dtype=float32, weak_type=True), Array([[1.]], dtype=float32, weak_type=True), Array([[1.]], dtype=float32, weak_type=True), Array([[1.]], dtype=float32, weak_type=True), Array([[1.]], dtype=float32, weak_type=True), Array([[1.]], dtype=float32, weak_type=True), Array([[1.]], dtype=float32, weak_type=True), Array([[0.]], dtype=float32, weak_type=True), Array([[0.]], dtype=float32, weak_type=True), Array([[0.]], dtype=float32, weak_type=True), Array([[1.]], dtype=float32, weak_type=True), Array([[1.]], dtype=float32, weak_type=True), Array([[1.]], dtype=float32, weak_type=True), Array([[1.]], dtype=float32, weak_type=True), Array([[1.]], dtype=float32, weak_type=True), Array([[1.]], dtype=float32, weak_type=True), Array([[1.]], dtype=float32, weak_type=True), Array([[1.]], dtype=float32, weak_type=True), Array([[1.]], dtype=float32, weak_type=True), Array([[1.]], dtype=float32, weak_type=True), Array([[1.]], dtype=float32, weak_type=True), Array([[0.]], dtype=float32, weak_type=True), Array([[0.]], dtype=float32, weak_type=True), Array([[1.]], dtype=float32, weak_type=True), Array([[0.]], dtype=float32, weak_type=True), Array([[0.]], dtype=float32, weak_type=True), Array([[0.]], dtype=float32, weak_type=True), Array([[1.]], dtype=float32, weak_type=True), Array([[0.]], dtype=float32, weak_type=True), Array([[0.]], dtype=float32, weak_type=True), Array([[1.]], dtype=float32, weak_type=True), Array([[1.]], dtype=float32, weak_type=True), Array([[1.]], dtype=float32, weak_type=True), Array([[1.]], dtype=float32, weak_type=True), Array([[1.]], dtype=float32, weak_type=True), Array([[0.]], dtype=float32, weak_type=True), Array([[1.]], dtype=float32, weak_type=True), Array([[1.]], dtype=float32, weak_type=True), Array([[1.]], dtype=float32, weak_type=True), Array([[1.]], dtype=float32, weak_type=True), Array([[1.]], dtype=float32, weak_type=True), Array([[0.]], dtype=float32, weak_type=True), Array([[1.]], dtype=float32, weak_type=True), Array([[1.]], dtype=float32, weak_type=True), Array([[1.]], dtype=float32, weak_type=True), Array([[0.]], dtype=float32, weak_type=True), Array([[1.]], dtype=float32, weak_type=True), Array([[1.]], dtype=float32, weak_type=True), Array([[0.]], dtype=float32, weak_type=True), Array([[0.]], dtype=float32, weak_type=True), Array([[1.]], dtype=float32, weak_type=True), Array([[1.]], dtype=float32, weak_type=True), Array([[1.]], dtype=float32, weak_type=True), Array([[1.]], dtype=float32, weak_type=True), Array([[1.]], dtype=float32, weak_type=True), Array([[1.]], dtype=float32, weak_type=True), Array([[0.]], dtype=float32, weak_type=True), Array([[1.]], dtype=float32, weak_type=True), Array([[1.]], dtype=float32, weak_type=True), Array([[1.]], dtype=float32, weak_type=True), Array([[1.]], dtype=float32, weak_type=True), Array([[1.]], dtype=float32, weak_type=True), Array([[1.]], dtype=float32, weak_type=True), Array([[1.]], dtype=float32, weak_type=True), Array([[0.]], dtype=float32, weak_type=True), Array([[1.]], dtype=float32, weak_type=True), Array([[1.]], dtype=float32, weak_type=True), Array([[1.]], dtype=float32, weak_type=True), Array([[1.]], dtype=float32, weak_type=True), Array([[1.]], dtype=float32, weak_type=True), Array([[0.]], dtype=float32, weak_type=True), Array([[1.]], dtype=float32, weak_type=True), Array([[1.]], dtype=float32, weak_type=True), Array([[0.]], dtype=float32, weak_type=True), Array([[1.]], dtype=float32, weak_type=True), Array([[1.]], dtype=float32, weak_type=True), Array([[1.]], dtype=float32, weak_type=True), Array([[1.]], dtype=float32, weak_type=True), Array([[1.]], dtype=float32, weak_type=True), Array([[1.]], dtype=float32, weak_type=True), Array([[1.]], dtype=float32, weak_type=True), Array([[1.]], dtype=float32, weak_type=True), Array([[1.]], dtype=float32, weak_type=True), Array([[1.]], dtype=float32, weak_type=True), Array([[1.]], dtype=float32, weak_type=True), Array([[1.]], dtype=float32, weak_type=True), Array([[0.]], dtype=float32, weak_type=True), Array([[1.]], dtype=float32, weak_type=True), Array([[0.]], dtype=float32, weak_type=True), Array([[0.]], dtype=float32, weak_type=True), Array([[1.]], dtype=float32, weak_type=True), Array([[0.]], dtype=float32, weak_type=True), Array([[1.]], dtype=float32, weak_type=True), Array([[1.]], dtype=float32, weak_type=True), Array([[1.]], dtype=float32, weak_type=True), Array([[1.]], dtype=float32, weak_type=True), Array([[1.]], dtype=float32, weak_type=True), Array([[0.]], dtype=float32, weak_type=True), Array([[1.]], dtype=float32, weak_type=True), Array([[1.]], dtype=float32, weak_type=True), Array([[0.]], dtype=float32, weak_type=True), Array([[1.]], dtype=float32, weak_type=True), Array([[0.]], dtype=float32, weak_type=True), Array([[1.]], dtype=float32, weak_type=True), Array([[1.]], dtype=float32, weak_type=True), Array([[0.]], dtype=float32, weak_type=True), Array([[1.]], dtype=float32, weak_type=True), Array([[0.]], dtype=float32, weak_type=True), Array([[1.]], dtype=float32, weak_type=True), Array([[1.]], dtype=float32, weak_type=True), Array([[1.]], dtype=float32, weak_type=True), Array([[1.]], dtype=float32, weak_type=True), Array([[1.]], dtype=float32, weak_type=True), Array([[1.]], dtype=float32, weak_type=True), Array([[1.]], dtype=float32, weak_type=True), Array([[1.]], dtype=float32, weak_type=True), Array([[0.]], dtype=float32, weak_type=True), Array([[0.]], dtype=float32, weak_type=True), Array([[1.]], dtype=float32, weak_type=True), Array([[1.]], dtype=float32, weak_type=True), Array([[1.]], dtype=float32, weak_type=True), Array([[1.]], dtype=float32, weak_type=True), Array([[1.]], dtype=float32, weak_type=True), Array([[1.]], dtype=float32, weak_type=True), Array([[0.]], dtype=float32, weak_type=True), Array([[1.]], dtype=float32, weak_type=True), Array([[1.]], dtype=float32, weak_type=True), Array([[1.]], dtype=float32, weak_type=True), Array([[1.]], dtype=float32, weak_type=True), Array([[1.]], dtype=float32, weak_type=True), Array([[1.]], dtype=float32, weak_type=True), Array([[1.]], dtype=float32, weak_type=True), Array([[1.]], dtype=float32, weak_type=True), Array([[1.]], dtype=float32, weak_type=True), Array([[1.]], dtype=float32, weak_type=True), Array([[0.]], dtype=float32, weak_type=True), Array([[1.]], dtype=float32, weak_type=True), Array([[1.]], dtype=float32, weak_type=True), Array([[1.]], dtype=float32, weak_type=True), Array([[1.]], dtype=float32, weak_type=True), Array([[1.]], dtype=float32, weak_type=True), Array([[1.]], dtype=float32, weak_type=True), Array([[1.]], dtype=float32, weak_type=True), Array([[0.]], dtype=float32, weak_type=True), Array([[1.]], dtype=float32, weak_type=True), Array([[0.]], dtype=float32, weak_type=True), Array([[1.]], dtype=float32, weak_type=True), Array([[1.]], dtype=float32, weak_type=True), Array([[0.]], dtype=float32, weak_type=True), Array([[1.]], dtype=float32, weak_type=True), Array([[1.]], dtype=float32, weak_type=True), Array([[1.]], dtype=float32, weak_type=True), Array([[1.]], dtype=float32, weak_type=True), Array([[1.]], dtype=float32, weak_type=True), Array([[0.]], dtype=float32, weak_type=True), Array([[0.]], dtype=float32, weak_type=True), Array([[1.]], dtype=float32, weak_type=True), Array([[0.]], dtype=float32, weak_type=True), Array([[1.]], dtype=float32, weak_type=True), Array([[0.]], dtype=float32, weak_type=True), Array([[1.]], dtype=float32, weak_type=True), Array([[1.]], dtype=float32, weak_type=True), Array([[1.]], dtype=float32, weak_type=True), Array([[1.]], dtype=float32, weak_type=True), Array([[1.]], dtype=float32, weak_type=True), Array([[0.]], dtype=float32, weak_type=True), Array([[1.]], dtype=float32, weak_type=True), Array([[1.]], dtype=float32, weak_type=True), Array([[0.]], dtype=float32, weak_type=True), Array([[1.]], dtype=float32, weak_type=True), Array([[0.]], dtype=float32, weak_type=True), Array([[1.]], dtype=float32, weak_type=True), Array([[0.]], dtype=float32, weak_type=True), Array([[0.]], dtype=float32, weak_type=True), Array([[1.]], dtype=float32, weak_type=True), Array([[1.]], dtype=float32, weak_type=True), Array([[1.]], dtype=float32, weak_type=True), Array([[0.]], dtype=float32, weak_type=True), Array([[1.]], dtype=float32, weak_type=True), Array([[1.]], dtype=float32, weak_type=True), Array([[1.]], dtype=float32, weak_type=True), Array([[1.]], dtype=float32, weak_type=True), Array([[1.]], dtype=float32, weak_type=True), Array([[1.]], dtype=float32, weak_type=True), Array([[1.]], dtype=float32, weak_type=True), Array([[1.]], dtype=float32, weak_type=True), Array([[1.]], dtype=float32, weak_type=True), Array([[1.]], dtype=float32, weak_type=True), Array([[1.]], dtype=float32, weak_type=True), Array([[0.]], dtype=float32, weak_type=True), Array([[1.]], dtype=float32, weak_type=True), Array([[0.]], dtype=float32, weak_type=True), Array([[0.]], dtype=float32, weak_type=True), Array([[1.]], dtype=float32, weak_type=True), Array([[1.]], dtype=float32, weak_type=True), Array([[1.]], dtype=float32, weak_type=True), Array([[1.]], dtype=float32, weak_type=True), Array([[1.]], dtype=float32, weak_type=True), Array([[1.]], dtype=float32, weak_type=True), Array([[1.]], dtype=float32, weak_type=True), Array([[1.]], dtype=float32, weak_type=True), Array([[1.]], dtype=float32, weak_type=True), Array([[1.]], dtype=float32, weak_type=True), Array([[1.]], dtype=float32, weak_type=True), Array([[1.]], dtype=float32, weak_type=True), Array([[1.]], dtype=float32, weak_type=True), Array([[1.]], dtype=float32, weak_type=True), Array([[1.]], dtype=float32, weak_type=True), Array([[1.]], dtype=float32, weak_type=True), Array([[1.]], dtype=float32, weak_type=True), Array([[1.]], dtype=float32, weak_type=True), Array([[1.]], dtype=float32, weak_type=True), Array([[1.]], dtype=float32, weak_type=True), Array([[1.]], dtype=float32, weak_type=True), Array([[1.]], dtype=float32, weak_type=True), Array([[1.]], dtype=float32, weak_type=True), Array([[1.]], dtype=float32, weak_type=True), Array([[1.]], dtype=float32, weak_type=True), Array([[0.]], dtype=float32, weak_type=True), Array([[0.]], dtype=float32, weak_type=True), Array([[0.]], dtype=float32, weak_type=True), Array([[0.]], dtype=float32, weak_type=True), Array([[0.]], dtype=float32, weak_type=True), Array([[0.]], dtype=float32, weak_type=True), Array([[1.]], dtype=float32, weak_type=True)]\n",
      "569\n",
      "569\n"
     ]
    }
   ],
   "source": [
    "#training NN with breastcancer data\n",
    "NN_output_cancer = []\n",
    "\n",
    "for X_row, target_row in zip(X, target_true):\n",
    "\n",
    "    X = jnp.array([X_row])\n",
    "    target = jnp.array([target_row])\n",
    "\n",
    "    nn = Neural_Network(X, target, n_hidden_layers, n_hidden_nodes, n_outputs,\n",
    "                      learning_rate, activation_function='sigmoid',\n",
    "                      classification_problem=True)\n",
    "\n",
    "    nn.feed_forward()\n",
    "\n",
    "\n",
    "    nn.feed_backward()\n",
    "    nn.train()\n",
    "\n",
    "    NN_output_cancer.append(nn.output_layer.output)\n",
    "\n",
    "\n",
    "print(NN_output_cancer)\n",
    "print(len(target_true))\n",
    "\n",
    "print(len(NN_output_cancer))\n",
    "\n"
   ],
   "metadata": {
    "collapsed": false,
    "ExecuteTime": {
     "end_time": "2023-11-05T15:47:17.226104600Z",
     "start_time": "2023-11-05T15:27:32.536962100Z"
    }
   },
   "id": "899ded6b98151d"
  },
  {
   "cell_type": "code",
   "execution_count": 11,
   "outputs": [],
   "source": [
    "def accuracy_test(y_true, y_pred):\n",
    "    # y_true is the true labels of the data\n",
    "    # y_pred is the predicted labels of the data by the neural network\n",
    "    # Both y_true and y_pred are numpy arrays of the same shape\n",
    "\n",
    "    # Compare y_true and y_pred element-wise and count the number of matches\n",
    "    matches = 0\n",
    "\n",
    "    for true, pred in zip(y_true, y_pred):\n",
    "        if true == pred:\n",
    "            matches = matches + 1\n",
    "\n",
    "    # Calculate the accuracy as the ratio of matches to the total number of data points\n",
    "    accuracy = matches / len(y_true)\n",
    "\n",
    "    # Return the accuracy as a percentage\n",
    "    return accuracy * 100\n"
   ],
   "metadata": {
    "collapsed": false,
    "ExecuteTime": {
     "end_time": "2023-11-05T15:52:43.807100700Z",
     "start_time": "2023-11-05T15:52:43.799257400Z"
    }
   },
   "id": "58453eb89fdbb88"
  },
  {
   "cell_type": "code",
   "execution_count": 12,
   "outputs": [
    {
     "name": "stdout",
     "output_type": "stream",
     "text": [
      "100.0\n"
     ]
    }
   ],
   "source": [
    "accuracy_breast_cancer = accuracy_test(target_true, NN_output_cancer)\n",
    "print(accuracy_breast_cancer)"
   ],
   "metadata": {
    "collapsed": false,
    "ExecuteTime": {
     "end_time": "2023-11-05T15:52:47.151589800Z",
     "start_time": "2023-11-05T15:52:47.036064700Z"
    }
   },
   "id": "1ee67ab92124b8e"
  }
 ],
 "metadata": {
  "kernelspec": {
   "display_name": "Python 3",
   "language": "python",
   "name": "python3"
  },
  "language_info": {
   "codemirror_mode": {
    "name": "ipython",
    "version": 2
   },
   "file_extension": ".py",
   "mimetype": "text/x-python",
   "name": "python",
   "nbconvert_exporter": "python",
   "pygments_lexer": "ipython2",
   "version": "2.7.6"
  }
 },
 "nbformat": 4,
 "nbformat_minor": 5
}
