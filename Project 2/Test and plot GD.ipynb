{
 "cells": [
  {
   "cell_type": "code",
   "execution_count": null,
   "id": "initial_id",
   "metadata": {
    "collapsed": true,
    "is_executing": true
   },
   "outputs": [],
   "source": [
    "import jax\n",
    "\n",
    "from plotting import Plott_creator\n",
    "from GD_class import *"
   ]
  },
  {
   "cell_type": "markdown",
   "source": [],
   "metadata": {
    "collapsed": false
   },
   "id": "95eb285f224fca54"
  },
  {
   "cell_type": "code",
   "execution_count": 2,
   "outputs": [],
   "source": [
    "def make_design_matrix(x, degree):\n",
    "    \"Creates the design matrix for the given polynomial degree and ijnput data\"\n",
    "    \n",
    "    X = np.zeros((len(x), degree+1))\n",
    "    \n",
    "    for i in range(X.shape[1]):\n",
    "        X[:,i] = np.power(x, i)\n",
    "        \n",
    "    return jax.array(X)"
   ],
   "metadata": {
    "collapsed": false,
    "ExecuteTime": {
     "end_time": "2023-10-24T09:43:52.400041400Z",
     "start_time": "2023-10-24T09:43:52.384056700Z"
    }
   },
   "id": "1202bca45acc1d6e"
  },
  {
   "cell_type": "code",
   "execution_count": null,
   "outputs": [],
   "source": [
    "def cost_function_OLS(X, y, beta):\n",
    "    n = len(y)  # Define the number of data points\n",
    "    return (1.0/n) * jnp.sum((y - jnp.dot(X, beta))**2)\n",
    "\n",
    "\n",
    "def analytical_gradient(X, y, beta):\n",
    "    n = len(y)\n",
    "    return (2.0/n)*jnp.dot(X.T, ((jnp.dot(X, beta))-y))"
   ],
   "metadata": {
    "collapsed": false,
    "is_executing": true
   },
   "id": "3f3b6acad133b383"
  },
  {
   "cell_type": "markdown",
   "source": [],
   "metadata": {
    "collapsed": false
   },
   "id": "ba275392d18bd34d"
  }
 ],
 "metadata": {
  "kernelspec": {
   "display_name": "Python 3",
   "language": "python",
   "name": "python3"
  },
  "language_info": {
   "codemirror_mode": {
    "name": "ipython",
    "version": 2
   },
   "file_extension": ".py",
   "mimetype": "text/x-python",
   "name": "python",
   "nbconvert_exporter": "python",
   "pygments_lexer": "ipython2",
   "version": "2.7.6"
  }
 },
 "nbformat": 4,
 "nbformat_minor": 5
}
