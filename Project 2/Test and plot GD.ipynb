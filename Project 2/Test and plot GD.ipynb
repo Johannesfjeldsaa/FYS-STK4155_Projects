{
 "cells": [
  {
   "cell_type": "code",
   "execution_count": 4,
   "id": "initial_id",
   "metadata": {
    "collapsed": true,
    "ExecuteTime": {
     "end_time": "2023-10-24T10:16:00.664231400Z",
     "start_time": "2023-10-24T10:16:00.562452400Z"
    }
   },
   "outputs": [],
   "source": [
    "import jax\n",
    "import numpy as np\n",
    "import jax.numpy as jnp\n",
    "\n",
    "from plotting import Plott_creator\n",
    "from GD_class import *"
   ]
  },
  {
   "cell_type": "markdown",
   "source": [
    "## Support functions"
   ],
   "metadata": {
    "collapsed": false
   },
   "id": "95eb285f224fca54"
  },
  {
   "cell_type": "code",
   "execution_count": 5,
   "outputs": [],
   "source": [
    "def make_design_matrix(x, degree):\n",
    "    \"Creates the design matrix for the given polynomial degree and ijnput data\"\n",
    "    \n",
    "    X = np.zeros((len(x), degree+1))\n",
    "    \n",
    "    for i in range(X.shape[1]):\n",
    "        X[:,i] = np.power(x, i)\n",
    "        \n",
    "    return jnp.array(X)"
   ],
   "metadata": {
    "collapsed": false,
    "ExecuteTime": {
     "end_time": "2023-10-24T10:16:00.728000400Z",
     "start_time": "2023-10-24T10:16:00.584862100Z"
    }
   },
   "id": "1202bca45acc1d6e"
  },
  {
   "cell_type": "code",
   "execution_count": 6,
   "outputs": [],
   "source": [
    "def cost_function_OLS(X, y, beta):\n",
    "    n = len(y)  # Define the number of data points\n",
    "    return (1.0/n) * jnp.sum((y - jnp.dot(X, beta))**2)\n",
    "\n",
    "\n",
    "def analytical_gradient(X, y, beta):\n",
    "    n = len(y)\n",
    "    return (2.0/n)*jnp.dot(X.T, ((jnp.dot(X, beta))-y))"
   ],
   "metadata": {
    "collapsed": false,
    "ExecuteTime": {
     "end_time": "2023-10-24T10:16:00.763040700Z",
     "start_time": "2023-10-24T10:16:00.603582200Z"
    }
   },
   "id": "3f3b6acad133b383"
  },
  {
   "cell_type": "markdown",
   "source": [
    "#### Generate Data"
   ],
   "metadata": {
    "collapsed": false
   },
   "id": "ba275392d18bd34d"
  },
  {
   "cell_type": "code",
   "execution_count": 11,
   "outputs": [],
   "source": [
    "np.random.seed(1342)\n",
    "\n",
    "true_beta = [2, 0.5, 3.2]\n",
    "\n",
    "n = 100\n",
    "\n",
    "x = jnp.linspace(0, 1, n)\n",
    "y = jnp.sum(jnp.asarray([x ** p * b for p, b in enumerate(true_beta)]),\n",
    "                axis=0) + 0.1 * np.random.normal(size=len(x))\n",
    "\n",
    "# Making a design matrix to use for linear regression part\n",
    "degree = 1\n",
    "X = make_design_matrix(x, degree)"
   ],
   "metadata": {
    "collapsed": false,
    "ExecuteTime": {
     "end_time": "2023-10-24T10:16:49.099926300Z",
     "start_time": "2023-10-24T10:16:49.037803500Z"
    }
   },
   "id": "7667cc8a05a0d097"
  },
  {
   "cell_type": "markdown",
   "source": [
    "## Run Gradient Descent"
   ],
   "metadata": {
    "collapsed": false
   },
   "id": "e4759575176ea962"
  },
  {
   "cell_type": "code",
   "execution_count": 12,
   "outputs": [
    {
     "name": "stdout",
     "output_type": "stream",
     "text": [
      "Converged after 226 iterations\n"
     ]
    }
   ],
   "source": [
    "np.random.seed(505) # Set seed for reproducibility\n",
    "\n",
    "# Set parameters\n",
    "learning_rate = 0.1\n",
    "tol=1e-3\n",
    "beta_guess = np.random.rand(3)\n",
    "momentum=0.5\n",
    "delta= 1e-8\n",
    "rho1 = 0.9\n",
    "rho2 = 0.99\n",
    "\n",
    "grad_descentADAM = GradientDescentADAM(delta, rho1, rho2, X=X, y=y, \n",
    "                                       learning_rate=learning_rate, tol=tol, \n",
    "                                       cost_function=cost_function_OLS,\n",
    "                                       analytic_gradient=analytical_gradient,\n",
    "                                       record_history=True)\n",
    "\n",
    "max_iter = 100000\n",
    "max_epochs = 500\n",
    "beta_calculated = grad_descentADAM.iterate(iteration_method=\"Full\", \n",
    "                                           max_iter=max_iter)\n",
    "#beta_calculated = grad_descent_rms.iterate(iteration_method=\"Stochastic\", \n",
    "         #                                  max_epoch=max_epochs,\n",
    "       #                                     num_batches=10)"
   ],
   "metadata": {
    "collapsed": false,
    "ExecuteTime": {
     "end_time": "2023-10-24T10:16:53.358265400Z",
     "start_time": "2023-10-24T10:16:52.299787500Z"
    }
   },
   "id": "2728124322e6a22a"
  },
  {
   "cell_type": "markdown",
   "source": [
    "## Plotting the gradient descent"
   ],
   "metadata": {
    "collapsed": false
   },
   "id": "2f6fe70715fb2ea"
  },
  {
   "cell_type": "code",
   "execution_count": 13,
   "outputs": [],
   "source": [
    "betas = grad_descentADAM.betas\n",
    "y_pred = X @ betas[-1]"
   ],
   "metadata": {
    "collapsed": false,
    "ExecuteTime": {
     "end_time": "2023-10-24T10:16:57.336988600Z",
     "start_time": "2023-10-24T10:16:57.231278600Z"
    }
   },
   "id": "63bf74f0c18ae70a"
  },
  {
   "cell_type": "code",
   "execution_count": 14,
   "outputs": [
    {
     "data": {
      "text/plain": "<Figure size 640x480 with 1 Axes>",
      "image/png": "[encoded data removed]"
     },
     "metadata": {},
     "output_type": "display_data"
    }
   ],
   "source": [
    "plotter = Plott_creator()\n",
    "plotter.plot_regression(x, y, y_pred, 'Test')"
   ],
   "metadata": {
    "collapsed": false,
    "ExecuteTime": {
     "end_time": "2023-10-24T10:16:59.774223300Z",
     "start_time": "2023-10-24T10:16:59.176130700Z"
    }
   },
   "id": "55a37a22b7753563"
  }
 ],
 "metadata": {
  "kernelspec": {
   "display_name": "Python 3",
   "language": "python",
   "name": "python3"
  },
  "language_info": {
   "codemirror_mode": {
    "name": "ipython",
    "version": 2
   },
   "file_extension": ".py",
   "mimetype": "text/x-python",
   "name": "python",
   "nbconvert_exporter": "python",
   "pygments_lexer": "ipython2",
   "version": "2.7.6"
  }
 },
 "nbformat": 4,
 "nbformat_minor": 5
}
