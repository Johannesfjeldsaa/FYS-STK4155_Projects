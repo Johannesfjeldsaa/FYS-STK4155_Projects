{
 "cells": [
  {
   "cell_type": "code",
   "execution_count": 1,
   "id": "initial_id",
   "metadata": {
    "collapsed": true,
    "ExecuteTime": {
     "end_time": "2023-10-24T09:49:13.970387500Z",
     "start_time": "2023-10-24T09:49:06.855268200Z"
    }
   },
   "outputs": [],
   "source": [
    "import jax\n",
    "\n",
    "from plotting import Plott_creator\n",
    "from GD_class import *"
   ]
  },
  {
   "cell_type": "markdown",
   "source": [
    "## Support functions"
   ],
   "metadata": {
    "collapsed": false
   },
   "id": "95eb285f224fca54"
  },
  {
   "cell_type": "code",
   "execution_count": 7,
   "outputs": [],
   "source": [
    "def make_design_matrix(x, degree):\n",
    "    \"Creates the design matrix for the given polynomial degree and ijnput data\"\n",
    "    \n",
    "    X = np.zeros((len(x), degree+1))\n",
    "    \n",
    "    for i in range(X.shape[1]):\n",
    "        X[:,i] = np.power(x, i)\n",
    "        \n",
    "    return jnp.array(X)"
   ],
   "metadata": {
    "collapsed": false,
    "ExecuteTime": {
     "end_time": "2023-10-24T09:51:36.835703500Z",
     "start_time": "2023-10-24T09:51:36.827136500Z"
    }
   },
   "id": "1202bca45acc1d6e"
  },
  {
   "cell_type": "code",
   "execution_count": 3,
   "outputs": [],
   "source": [
    "def cost_function_OLS(X, y, beta):\n",
    "    n = len(y)  # Define the number of data points\n",
    "    return (1.0/n) * jnp.sum((y - jnp.dot(X, beta))**2)\n",
    "\n",
    "\n",
    "def analytical_gradient(X, y, beta):\n",
    "    n = len(y)\n",
    "    return (2.0/n)*jnp.dot(X.T, ((jnp.dot(X, beta))-y))"
   ],
   "metadata": {
    "collapsed": false,
    "ExecuteTime": {
     "end_time": "2023-10-24T09:49:34.257120600Z",
     "start_time": "2023-10-24T09:49:34.216897500Z"
    }
   },
   "id": "3f3b6acad133b383"
  },
  {
   "cell_type": "markdown",
   "source": [
    "#### Generate Data"
   ],
   "metadata": {
    "collapsed": false
   },
   "id": "ba275392d18bd34d"
  },
  {
   "cell_type": "code",
   "execution_count": 8,
   "outputs": [],
   "source": [
    "np.random.seed(1342)\n",
    "\n",
    "true_beta = [2, 0.5, 3.2]\n",
    "\n",
    "n = 100\n",
    "\n",
    "x = jnp.linspace(0, 1, n)\n",
    "y = jnp.sum(jnp.asarray([x ** p * b for p, b in enumerate(true_beta)]),\n",
    "                axis=0) + 0.1 * np.random.normal(size=len(x))\n",
    "\n",
    "# Making a design matrix to use for linear regression part\n",
    "degree = 2\n",
    "X = make_design_matrix(x, degree)"
   ],
   "metadata": {
    "collapsed": false,
    "ExecuteTime": {
     "end_time": "2023-10-24T09:51:39.312414Z",
     "start_time": "2023-10-24T09:51:39.257709600Z"
    }
   },
   "id": "7667cc8a05a0d097"
  },
  {
   "cell_type": "markdown",
   "source": [
    "## Run Gradient Descent"
   ],
   "metadata": {
    "collapsed": false
   },
   "id": "e4759575176ea962"
  },
  {
   "cell_type": "code",
   "execution_count": null,
   "outputs": [],
   "source": [
    "np.random.seed(505) # Set seed for reproducibility\n",
    "\n",
    "# Set parameters\n",
    "learning_rate = 0.1\n",
    "tol=1e-3\n",
    "beta_guess = np.random.rand(3)\n",
    "momentum=0.5\n",
    "delta= 1e-8\n",
    "rho1 = 0.9\n",
    "rho2 = 0.99\n",
    "\n",
    "grad_descent_rms = GradientDescentADAM(delta, rho1, rho2, X=X, y=y, \n",
    "                                   learning_rate=learning_rate, tol=tol, \n",
    "                                   cost_function=cost_function_OLS,\n",
    "                                   analytic_gradient=analytical_gradient,\n",
    "                                   record_history=True)\n",
    "\n",
    "max_iter = 100000\n",
    "max_epochs = 500\n",
    "# beta_calculated = grad_descent_rms.iterate(iteration_method=\"Full\", \n",
    "#                                             max_iter=max_iter)\n",
    "beta_calculated = grad_descent_rms.iterate(iteration_method=\"Stochastic\", \n",
    "                                            max_epoch=max_epochs,\n",
    "                                            num_batches=10)\n",
    "print(beta_calculated)\n",
    "\n",
    "print(grad_descent_rms.cost_scores)"
   ],
   "metadata": {
    "collapsed": false,
    "is_executing": true
   },
   "id": "2728124322e6a22a"
  }
 ],
 "metadata": {
  "kernelspec": {
   "display_name": "Python 3",
   "language": "python",
   "name": "python3"
  },
  "language_info": {
   "codemirror_mode": {
    "name": "ipython",
    "version": 2
   },
   "file_extension": ".py",
   "mimetype": "text/x-python",
   "name": "python",
   "nbconvert_exporter": "python",
   "pygments_lexer": "ipython2",
   "version": "2.7.6"
  }
 },
 "nbformat": 4,
 "nbformat_minor": 5
}
