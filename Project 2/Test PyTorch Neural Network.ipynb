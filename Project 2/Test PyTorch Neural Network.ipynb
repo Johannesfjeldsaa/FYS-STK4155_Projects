{
 "cells": [
  {
   "cell_type": "markdown",
   "source": [
    "# Neural Network with PyTorch framework"
   ],
   "metadata": {
    "collapsed": false
   },
   "id": "86cad4281a763db6"
  },
  {
   "cell_type": "markdown",
   "source": [
    "# Import libraries"
   ],
   "metadata": {
    "collapsed": false
   },
   "id": "2efef9246badaac9"
  },
  {
   "cell_type": "code",
   "execution_count": 1,
   "id": "initial_id",
   "metadata": {
    "collapsed": true,
    "ExecuteTime": {
     "end_time": "2023-10-31T21:15:24.291477Z",
     "start_time": "2023-10-31T21:15:21.584043100Z"
    }
   },
   "outputs": [],
   "source": [
    "import numpy as np\n",
    "import torch\n",
    "from Neural_Network_with_PyTorch import Neural_Network_PyTorch"
   ]
  },
  {
   "cell_type": "markdown",
   "source": [
    "## Create Neural network and perform passes"
   ],
   "metadata": {
    "collapsed": false
   },
   "id": "9b4d705eb5bf84d3"
  },
  {
   "cell_type": "markdown",
   "source": [
    "1. Set up the design matrix with the inputs as discussed above and a vector containing the output, the so-called targets. Note that the design matrix is the same for all gates. You need just to define different outputs."
   ],
   "metadata": {
    "collapsed": false
   },
   "id": "81f52acacf316be3"
  },
  {
   "cell_type": "code",
   "execution_count": 2,
   "outputs": [],
   "source": [
    "np.random.seed(1234)\n",
    "\n",
    "# Create design matrix\n",
    "X = np.array([[0, 0],\n",
    "              [0, 1],\n",
    "              [1, 0],\n",
    "              [1, 1]])\n",
    "\n",
    "# The XOR gate\n",
    "target_XOR = np.array( [ 0, 1 ,1, 0])\n",
    "# The OR gate\n",
    "target_OR = np.array( [ 0, 1 ,1, 1])\n",
    "# The AND gate\n",
    "target_AND = np.array( [ 0, 0 ,0, 1])"
   ],
   "metadata": {
    "collapsed": false,
    "ExecuteTime": {
     "end_time": "2023-10-31T21:15:24.298659300Z",
     "start_time": "2023-10-31T21:15:24.295098300Z"
    }
   },
   "id": "5d6ad790cc4362ad"
  },
  {
   "cell_type": "markdown",
   "source": [
    "2. Construct a neural network with only one hidden layer and two hidden nodes using the Sigmoid function as activation function.\n",
    "3. Set up the output layer with only one output node and use again the Sigmoid function as activation function for the output."
   ],
   "metadata": {
    "collapsed": false
   },
   "id": "a28088293c725bdc"
  },
  {
   "cell_type": "code",
   "execution_count": 3,
   "outputs": [
    {
     "data": {
      "text/plain": "'Neural Network with 1 hidden layers and [2] nodes per layer. The activation function is Sigmoid() for the hidden layers and Sigmoid() for the output layer.'"
     },
     "execution_count": 3,
     "metadata": {},
     "output_type": "execute_result"
    }
   ],
   "source": [
    "# Network design\n",
    "n_hidden_layers = 1\n",
    "n_hidden_nodes = 2\n",
    "n_outputs = 1\n",
    "\n",
    "# Create network\n",
    "ffnn = Neural_Network_PyTorch(X, target_OR, \n",
    "                              n_hidden_layers, n_hidden_nodes, n_outputs, \n",
    "                              activation_function_hidden_layers='sigmoid',\n",
    "                              activation_function_output_layer='sigmoid')\n",
    "\n",
    "str(ffnn)"
   ],
   "metadata": {
    "collapsed": false,
    "ExecuteTime": {
     "end_time": "2023-10-31T21:15:24.338208900Z",
     "start_time": "2023-10-31T21:15:24.315228600Z"
    }
   },
   "id": "1ca689bc2603bc9"
  },
  {
   "cell_type": "markdown",
   "source": [
    "4. Perform the feed-forward pass and calculate the output of the network."
   ],
   "metadata": {
    "collapsed": false
   },
   "id": "ff10bf4cef0a0ede"
  },
  {
   "cell_type": "markdown",
   "source": [],
   "metadata": {
    "collapsed": false
   },
   "id": "a8c944b400ac220c"
  },
  {
   "cell_type": "code",
   "execution_count": 5,
   "outputs": [
    {
     "name": "stdout",
     "output_type": "stream",
     "text": [
      "tensor([[-0.4078],\n",
      "        [-0.4151],\n",
      "        [-0.4083],\n",
      "        [-0.4170]], grad_fn=<AddmmBackward0>)\n"
     ]
    }
   ],
   "source": [
    "output = ffnn.feed_forward()\n",
    "print(output)"
   ],
   "metadata": {
    "collapsed": false,
    "ExecuteTime": {
     "end_time": "2023-10-31T21:15:40.021039Z",
     "start_time": "2023-10-31T21:15:39.965833600Z"
    }
   },
   "id": "5b8114d3a803034b"
  }
 ],
 "metadata": {
  "kernelspec": {
   "display_name": "Python 3",
   "language": "python",
   "name": "python3"
  },
  "language_info": {
   "codemirror_mode": {
    "name": "ipython",
    "version": 2
   },
   "file_extension": ".py",
   "mimetype": "text/x-python",
   "name": "python",
   "nbconvert_exporter": "python",
   "pygments_lexer": "ipython2",
   "version": "2.7.6"
  }
 },
 "nbformat": 4,
 "nbformat_minor": 5
}
