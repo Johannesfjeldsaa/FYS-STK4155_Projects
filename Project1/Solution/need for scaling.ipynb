{
 "cells": [
  {
   "cell_type": "code",
   "execution_count": 2,
   "id": "initial_id",
   "metadata": {
    "collapsed": true,
    "ExecuteTime": {
     "end_time": "2023-10-15T05:11:21.761115600Z",
     "start_time": "2023-10-15T05:11:21.744336400Z"
    }
   },
   "outputs": [],
   "source": [
    "from Franke_function import FrankeFunction\n",
    "from LinRegression import LinRegression\n",
    "from Plotting import Plotting\n",
    "from setup import save_fig, data_path\n",
    "\n",
    "import numpy as np\n",
    "import pandas as pd\n",
    "#import math\n",
    "import itertools\n",
    "import matplotlib.pyplot as plt\n",
    "\n",
    "plt.style.use('Solarize_Light2')\n",
    "plt.rcParams[\"figure.dpi\"] = 200\n",
    "\n",
    "from imageio.v2 import imread\n",
    "import matplotlib.pyplot as plt\n",
    "\n",
    "from tqdm import tqdm"
   ]
  },
  {
   "cell_type": "code",
   "execution_count": 9,
   "outputs": [
    {
     "name": "stdout",
     "output_type": "stream",
     "text": [
      "[ 908 ,  1565 ] -> range =  657\n"
     ]
    }
   ],
   "source": [
    "terrain = imread(r'DataFiles\\SRTM_data_Norway_1.tif')\n",
    "\n",
    "N = 500  # Number of datapoints to use in each direction\n",
    "\n",
    "subset = np.array(terrain[:N, :N])\n",
    "\n",
    "print('[', np.min(subset), ', ', np.max(subset), '] -> range = ', np.max(subset)-np.min(subset))"
   ],
   "metadata": {
    "collapsed": false,
    "ExecuteTime": {
     "end_time": "2023-10-15T05:16:57.869111500Z",
     "start_time": "2023-10-15T05:16:57.852709500Z"
    }
   },
   "id": "6ab75edae9dddca6"
  },
  {
   "cell_type": "code",
   "execution_count": 17,
   "outputs": [
    {
     "name": "stdout",
     "output_type": "stream",
     "text": [
      "908 1565\n",
      "-280.9245880000001 376.0754119999999\n",
      "-1.6822601910082648 2.2520516944733635\n",
      "[ -1.682 ,  2.252 ] -> range =  3.934\n"
     ]
    }
   ],
   "source": [
    "# Creating the data set\n",
    "x = np.linspace(0, 1, N)\n",
    "y = np.linspace(0, 1, N)\n",
    "x_mesh, y_mesh = np.meshgrid(x, y)\n",
    "x = x_mesh.ravel()\n",
    "y = y_mesh.ravel()\n",
    "        \n",
    "z = subset.ravel()\n",
    "OLS = LinRegression(poly_degree=5, x=x, y=y, z=z, remove_intercept=False)\n",
    "\n",
    "def get_min_max(matrix):\n",
    "    return np.min(matrix, axis=0), np.max(matrix, axis=0)\n",
    "\n",
    "y = OLS.y\n",
    "\n",
    "min_prior, max_prior = get_min_max(y)\n",
    "\n",
    "y_centrelized = y - np.mean(y, axis=0)\n",
    "\n",
    "min_cent, max_cent = get_min_max(y_centrelized)\n",
    "\n",
    "y_scaled = (y - np.mean(y, axis=0)) / np.std(y, axis=0)\n",
    "\n",
    "min_scl, max_scl = get_min_max(y_scaled)\n",
    "\n",
    "print(min_prior, max_prior)\n",
    "print(min_cent, max_cent)\n",
    "print(min_scl, max_scl)\n",
    "\n",
    "rounded_nums = [round(num, 3) for num in [min_scl, max_scl]]\n",
    "print('[', rounded_nums[0], ', ', rounded_nums[1], '] -> range = ', round(rounded_nums[1]-rounded_nums[0], 3))"
   ],
   "metadata": {
    "collapsed": false,
    "ExecuteTime": {
     "end_time": "2023-10-15T05:37:36.546767800Z",
     "start_time": "2023-10-15T05:37:36.386635200Z"
    }
   },
   "id": "b569683b5ec78a85"
  }
 ],
 "metadata": {
  "kernelspec": {
   "display_name": "Python 3",
   "language": "python",
   "name": "python3"
  },
  "language_info": {
   "codemirror_mode": {
    "name": "ipython",
    "version": 2
   },
   "file_extension": ".py",
   "mimetype": "text/x-python",
   "name": "python",
   "nbconvert_exporter": "python",
   "pygments_lexer": "ipython2",
   "version": "2.7.6"
  }
 },
 "nbformat": 4,
 "nbformat_minor": 5
}
